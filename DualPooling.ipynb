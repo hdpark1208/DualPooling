{
 "cells": [
  {
   "cell_type": "markdown",
   "id": "57970c53-6cbb-473f-81fa-a942e2e493c7",
   "metadata": {
    "tags": []
   },
   "source": [
    "# 셋팅 & 라이브러리"
   ]
  },
  {
   "cell_type": "markdown",
   "id": "bbbc8e70-853a-4f5f-b714-b83d5140097a",
   "metadata": {},
   "source": [
    "https://github.com/minsuk-sung/intel-image-classification/blob/master/Lecture06%20-%20CIFAR100.ipynb"
   ]
  },
  {
   "cell_type": "code",
   "execution_count": 1,
   "id": "3327b2f1-3de4-4973-8474-f474ad59fcdd",
   "metadata": {
    "tags": []
   },
   "outputs": [],
   "source": [
    "import wandb\n",
    "import tensorflow as tf\n",
    "import numpy as np\n",
    "# import cv2\n",
    "import matplotlib.pyplot as plt"
   ]
  },
  {
   "cell_type": "code",
   "execution_count": 2,
   "id": "d4c6174b-bec3-4384-82f2-0ddf972aab98",
   "metadata": {},
   "outputs": [],
   "source": [
    "from keras.datasets import cifar100\n",
    "from keras import models, layers\n",
    "\n",
    "from keras.models import Model, load_model\n",
    "from keras.preprocessing.image import ImageDataGenerator\n",
    "from keras import optimizers, initializers, regularizers, metrics\n",
    "from keras.callbacks import ModelCheckpoint, EarlyStopping\n",
    "from keras.layers import Input, BatchNormalization, Conv2D, Activation, Dense, GlobalAveragePooling2D, MaxPooling2D, ZeroPadding2D, Add, Lambda\n",
    "\n",
    "from tensorflow.keras.utils import to_categorical,plot_model\n",
    "from tensorflow.keras.losses import categorical_crossentropy,binary_crossentropy\n",
    "from tensorflow.keras.optimizers import RMSprop, Adam\n",
    "\n",
    "from tensorflow.keras.utils import get_custom_objects"
   ]
  },
  {
   "cell_type": "code",
   "execution_count": 3,
   "id": "c8a93f2a-b9d2-4a71-afba-1e242e161ac9",
   "metadata": {},
   "outputs": [],
   "source": [
    "from PIL import Image\n",
    "from PIL import ImageFont\n",
    "from PIL import ImageDraw\n",
    "from IPython.display import SVG\n",
    "from sklearn.model_selection import train_test_split\n",
    "from sklearn.preprocessing import LabelEncoder\n",
    "import xml.etree.ElementTree as ET\n",
    "from xml.etree.ElementTree import Element, ElementTree"
   ]
  },
  {
   "cell_type": "markdown",
   "id": "a392079b-5651-4adc-8e62-f733bef69d8f",
   "metadata": {},
   "source": [
    "# Wandb"
   ]
  },
  {
   "cell_type": "code",
   "execution_count": 4,
   "id": "64375f2e-c7d5-41c6-80d9-8ade8cde1180",
   "metadata": {},
   "outputs": [
    {
     "name": "stderr",
     "output_type": "stream",
     "text": [
      "\u001b[34m\u001b[1mwandb\u001b[0m: Currently logged in as: \u001b[33mphd1150\u001b[0m (\u001b[33mdiplab\u001b[0m). Use \u001b[1m`wandb login --relogin`\u001b[0m to force relogin\n"
     ]
    },
    {
     "data": {
      "text/plain": [
       "True"
      ]
     },
     "execution_count": 4,
     "metadata": {},
     "output_type": "execute_result"
    }
   ],
   "source": [
    "wandb.login()"
   ]
  },
  {
   "cell_type": "code",
   "execution_count": 5,
   "id": "3a81b2d6-9572-4074-8719-526e5f4b56a6",
   "metadata": {
    "tags": []
   },
   "outputs": [
    {
     "data": {
      "text/html": [
       "Tracking run with wandb version 0.13.4"
      ],
      "text/plain": [
       "<IPython.core.display.HTML object>"
      ]
     },
     "metadata": {},
     "output_type": "display_data"
    },
    {
     "data": {
      "text/html": [
       "Run data is saved locally in <code>/Users/dip_phd/PHD/wandb/run-20221013_123617-3r4niog2</code>"
      ],
      "text/plain": [
       "<IPython.core.display.HTML object>"
      ]
     },
     "metadata": {},
     "output_type": "display_data"
    },
    {
     "data": {
      "text/html": [
       "Syncing run <strong><a href=\"https://wandb.ai/diplab/DualPooing_Mac/runs/3r4niog2\" target=\"_blank\">MinPooing</a></strong> to <a href=\"https://wandb.ai/diplab/DualPooing_Mac\" target=\"_blank\">Weights & Biases</a> (<a href=\"https://wandb.me/run\" target=\"_blank\">docs</a>)<br/>"
      ],
      "text/plain": [
       "<IPython.core.display.HTML object>"
      ]
     },
     "metadata": {},
     "output_type": "display_data"
    },
    {
     "data": {
      "text/html": [
       "<button onClick=\"this.nextSibling.style.display='block';this.style.display='none';\">Display W&B run</button><iframe src=\"https://wandb.ai/diplab/DualPooing_Mac/runs/3r4niog2?jupyter=true\" style=\"border:none;width:100%;height:420px;display:none;\"></iframe>"
      ],
      "text/plain": [
       "<wandb.sdk.wandb_run.Run at 0x16a9f0e50>"
      ]
     },
     "execution_count": 5,
     "metadata": {},
     "output_type": "execute_result"
    }
   ],
   "source": [
    "wandb.init(project='DualPooing_Mac', name='MinPooing')"
   ]
  },
  {
   "cell_type": "code",
   "execution_count": 6,
   "id": "8e72d996-4377-455d-8999-b55aee7b42eb",
   "metadata": {},
   "outputs": [],
   "source": [
    "wandb.config = {\n",
    "    \"learning_rate\": 0.001,\n",
    "    \"epoch\": 60,\n",
    "    \"batch_size\": 32\n",
    "}"
   ]
  },
  {
   "cell_type": "code",
   "execution_count": 9,
   "id": "d0b356fc-a9bf-4d80-885f-2e3c6cc217e1",
   "metadata": {
    "tags": []
   },
   "outputs": [
    {
     "data": {
      "text/plain": [
       "'\\nwandb.log({\"loss\": 0.314, \"epoch\": 50,\\n           \"inputs\": wandb.Image(inputs),\\n           \"logits\": wandb.Histogram(ouputs),\\n           \"captions\": wandb.Html(captions)})\\n'"
      ]
     },
     "execution_count": 9,
     "metadata": {},
     "output_type": "execute_result"
    }
   ],
   "source": [
    "'''\n",
    "wandb.log({\"loss\": 0.314, \"epoch\": 50,\n",
    "           \"inputs\": wandb.Image(inputs),\n",
    "           \"logits\": wandb.Histogram(ouputs),\n",
    "           \"captions\": wandb.Html(captions)})\n",
    "'''"
   ]
  },
  {
   "cell_type": "markdown",
   "id": "2a7feb0a-42c4-4543-8f3e-2e67e9b0ef96",
   "metadata": {},
   "source": [
    "# 데이터 준비"
   ]
  },
  {
   "cell_type": "code",
   "execution_count": 7,
   "id": "a2ec7c13-96cd-482c-907c-1d54343c1b69",
   "metadata": {
    "tags": []
   },
   "outputs": [],
   "source": [
    "(X_train, y_train), (X_test,y_test) = cifar100.load_data()"
   ]
  },
  {
   "cell_type": "code",
   "execution_count": 8,
   "id": "f52a76c9-8102-4dce-96a0-2657fd973a57",
   "metadata": {},
   "outputs": [
    {
     "name": "stdout",
     "output_type": "stream",
     "text": [
      "클래스 길이:  100\n"
     ]
    }
   ],
   "source": [
    "CIFAR100_CLASSES = sorted(['beaver', 'dolphin', 'otter', 'seal', 'whale',  # aquatic mammals\n",
    "                           'aquarium' 'fish', 'flatfish', 'ray', 'shark', 'trout',  # fish\n",
    "                           'orchids', 'poppies', 'roses', 'sunflowers', 'tulips', # flowers\n",
    "                           'bottles', 'bowls', 'cans', 'cups', 'plates', # food containers\n",
    "                           'apples', 'mushrooms', 'oranges', 'pears', 'sweet peppers', # fruit and vegetables\n",
    "                           'clock', 'computer' 'keyboard', 'lamp', 'telephone', 'television', # household electrical devices\n",
    "                           'bed', 'chair', 'couch', 'table', 'wardrobe', # household furniture\n",
    "                           'bee', 'beetle', 'butterfly', 'caterpillar', 'cockroach', # insects\n",
    "                           'bear', 'leopard', 'lion', 'tiger', 'wolf', # large carnivores\n",
    "                           'bridge', 'castle', 'house', 'road', 'skyscraper', # large man-made outdoor things\n",
    "                           'cloud', 'forest', 'mountain', 'plain', 'sea', # large natural outdoor scenes\n",
    "                           'camel', 'cattle', 'chimpanzee', 'elephant', 'kangaroo', # large omnivores and herbivores\n",
    "                           'fox', 'porcupine', 'possum', 'raccoon', 'skunk', # medium-sized mammals\n",
    "                           'crab', 'lobster', 'snail', 'spider', 'worm', # non-insect invertebrates\n",
    "                           'baby', 'boy', 'girl', 'man', 'woman', # people\n",
    "                           'crocodile', 'dinosaur', 'lizard', 'snake', 'turtle', # reptiles\n",
    "                           'hamster', 'mouse', 'rabbit', 'shrew', 'squirrel', # small mammals\n",
    "                           'maple', 'oak', 'palm', 'pine', 'willow', # trees\n",
    "                           'bicycle', 'bus', 'motorcycle', 'pickup truck', 'train', # vehicles 1\n",
    "                           'lawn-mower', 'rocket', 'streetcar', 'tank', 'tractor' # vehicles 2\n",
    "                          ])\n",
    "print('클래스 길이: ',len(CIFAR100_CLASSES))"
   ]
  },
  {
   "cell_type": "code",
   "execution_count": 9,
   "id": "5fbfbd1f-3fa8-4851-8d0f-2bcd665a9b35",
   "metadata": {},
   "outputs": [],
   "source": [
    "X_train,X_valid,y_train,y_valid = train_test_split(X_train,y_train,test_size=0.2,shuffle=True,random_state=0)"
   ]
  },
  {
   "cell_type": "code",
   "execution_count": 10,
   "id": "98c41737-1cfd-436e-b815-b35651230f1c",
   "metadata": {},
   "outputs": [
    {
     "name": "stdout",
     "output_type": "stream",
     "text": [
      "CIFAR-100 Train 데이터의 크기 : 40000\n",
      "CIFAR-100 Validation 데이터의 크기 : 10000\n",
      "CIFAR-100 Test 데이터의 크기 : 10000\n"
     ]
    }
   ],
   "source": [
    "print('CIFAR-100 Train 데이터의 크기 : {}'.format(len(X_train)))\n",
    "print('CIFAR-100 Validation 데이터의 크기 : {}'.format(len(X_valid)))\n",
    "print('CIFAR-100 Test 데이터의 크기 : {}'.format(len(X_test)))"
   ]
  },
  {
   "cell_type": "code",
   "execution_count": 11,
   "id": "f3f3f9b9-ff3d-47b7-95fd-fb2abd9593b3",
   "metadata": {},
   "outputs": [
    {
     "name": "stdout",
     "output_type": "stream",
     "text": [
      "X_train Shape :  (40000, 32, 32, 3)\n",
      "y_train Shape :  (40000, 1)\n"
     ]
    }
   ],
   "source": [
    "print(\"X_train Shape : \",X_train.shape) # 32*32짜리 크기의 RGB 이미지 40000개\n",
    "print(\"y_train Shape : \",y_train.shape) # 각 이미지별 레이블 40000개"
   ]
  },
  {
   "cell_type": "code",
   "execution_count": 12,
   "id": "7635499e-c4e6-4fdc-a1bc-fbb8ea1eb0d6",
   "metadata": {},
   "outputs": [
    {
     "data": {
      "image/png": "[encoded data removed]",
      "text/plain": [
       "<Figure size 640x480 with 1 Axes>"
      ]
     },
     "metadata": {},
     "output_type": "display_data"
    }
   ],
   "source": [
    "idx = 0\n",
    "\n",
    "plt.imshow(X_train[idx], interpolation='nearest')\n",
    "plt.title('Label : {}'.format(CIFAR100_CLASSES[y_train[idx][0]]))\n",
    "plt.show()"
   ]
  },
  {
   "cell_type": "code",
   "execution_count": 13,
   "id": "35a1b397-d765-43ea-be11-14ba0b5eae82",
   "metadata": {},
   "outputs": [
    {
     "name": "stdout",
     "output_type": "stream",
     "text": [
      "(40000, 32, 32, 3)\n",
      "(40000, 32, 32, 3)\n"
     ]
    }
   ],
   "source": [
    "print(X_train.shape)\n",
    "X_train = X_train.reshape(X_train.shape[0],32,32,3)\n",
    "print(X_train.shape)"
   ]
  },
  {
   "cell_type": "code",
   "execution_count": 14,
   "id": "46207a1c-3fb0-4158-8659-c1d1914edc75",
   "metadata": {},
   "outputs": [
    {
     "data": {
      "text/plain": [
       "(32, 32, 3)"
      ]
     },
     "execution_count": 14,
     "metadata": {},
     "output_type": "execute_result"
    }
   ],
   "source": [
    "X_train[0].shape"
   ]
  },
  {
   "cell_type": "code",
   "execution_count": 15,
   "id": "a95682f4-5c38-4a5c-b637-1c1d04224dca",
   "metadata": {},
   "outputs": [
    {
     "data": {
      "image/png": "[encoded data removed]",
      "text/plain": [
       "<Figure size 600x400 with 6 Axes>"
      ]
     },
     "metadata": {},
     "output_type": "display_data"
    }
   ],
   "source": [
    "# 재연성을 위하여 랜덤시드 고정\n",
    "np.random.seed(1234) \n",
    "\n",
    "# random 함수를 통해서 임의의 16개 데이터 가져오기\n",
    "samples = np.random.randint(0,len(X_train)+1,size=6)\n",
    "\n",
    "# MNIST를 그릴 Figure 준비\n",
    "plt.figure(figsize=(6,4))\n",
    "\n",
    "# 16개의 이미지 시각화\n",
    "for count, n in enumerate(samples,start=1):\n",
    "    plt.subplot(2, 3, count)\n",
    "    plt.imshow(X_train[n], interpolation='nearest')\n",
    "    label_name = \"Label:\" + str(CIFAR100_CLASSES[y_train[n][0]])\n",
    "    plt.title(label_name)\n",
    "\n",
    "plt.tight_layout()\n",
    "plt.show()"
   ]
  },
  {
   "cell_type": "code",
   "execution_count": 16,
   "id": "1d3b6a45-8b78-4a4f-8757-dd46bb073433",
   "metadata": {},
   "outputs": [],
   "source": [
    "# 데이터 크기 조정(Data Reshape)\n",
    "X_train = X_train.reshape(X_train.shape[0],32,32,3)\n",
    "X_valid = X_valid.reshape(X_valid.shape[0],32,32,3)\n",
    "X_test = X_test.reshape(X_test.shape[0],32,32,3)\n",
    "\n",
    "# 데이터 포맷 바꾸기\n",
    "# 정수(int)인 데이터에서 실수(float)으로 변환\n",
    "X_train = X_train.astype('float32')\n",
    "X_valid = X_valid.astype('float32')\n",
    "X_test = X_test.astype('float32')\n",
    "\n",
    "# 데이터 정규화(Data Regularization)\n",
    "# 이 과정을 통해서 추후 학습할 신경망이 조금 더 학습이 원할히 될 수 있게함\n",
    "X_train = X_train / 255\n",
    "X_valid = X_valid / 255\n",
    "X_test = X_test / 255\n",
    "\n",
    "# 원-핫 인코딩(One Hot Encoding)\n",
    "# Keras의 to_categorical함수를 통해서 모든 Train 데이터의 레이블을 벡터화(Vectorize)\n",
    "# ex) [3] -> [0 0 0 1 0 0 0 0 0 0]\n",
    "y_train = to_categorical(y_train, 100) \n",
    "y_valid = to_categorical(y_valid,100)\n",
    "y_test = to_categorical(y_test, 100)"
   ]
  },
  {
   "cell_type": "markdown",
   "id": "6563316e-fb81-4619-9772-fc13bbd217f6",
   "metadata": {},
   "source": [
    "# Custom Layers"
   ]
  },
  {
   "cell_type": "code",
   "execution_count": 112,
   "id": "9a907941-3538-4dfd-8cd5-6d9794c02022",
   "metadata": {},
   "outputs": [],
   "source": [
    "def min_pool(x):\n",
    "    print('x_shape: ',x.shape)\n",
    "    n_channel = x.shape[-1]\n",
    "    \n",
    "    patches = tf.image.extract_patches(x,\n",
    "                                       sizes = [1, 2, 2, 1], \n",
    "                                       strides = [1, 2, 2, 1], \n",
    "                                       rates = 4*[1],\n",
    "                                       padding = 'SAME')\n",
    "    \n",
    "    channel_pool = [tf.reduce_min(patches[:,:,:,c::n_channel], keepdims=True, axis=-1) for c in range(n_channel)]\n",
    "    \n",
    "    return tf.concat(channel_pool, axis=-1)"
   ]
  },
  {
   "cell_type": "code",
   "execution_count": null,
   "id": "97fbf4e7-82ae-4614-a11c-5df4d1cc4fa0",
   "metadata": {
    "tags": []
   },
   "outputs": [],
   "source": [
    "def min_pool_2(x):\n",
    "    # print('x_shape: ',x.shape)\n",
    "    n_channel = x.shape[-1]\n",
    "    \n",
    "    B = x.shape[0]\n",
    "    w = x.shape[1]\n",
    "    h = x.shape[2]\n",
    "    # print('B, w, h, C: ',B,w,h,n_channel)\n",
    "    \n",
    "    \n",
    "    patches = tf.image.extract_patches(x,\n",
    "                                       sizes = [1, 2, 2, 1], \n",
    "                                       strides = [1, 2, 2, 1], \n",
    "                                       rates = 4*[1],\n",
    "                                       padding = 'SAME')\n",
    "    \n",
    "    patches = tf.reshape(patches, shape = (-1, w//2, h//2, 2, 2, n_channel))\n",
    "\n",
    "    pooling = tf.reduce_min(patches, axis = [-3,-2])\n",
    "\n",
    "    return pooling"
   ]
  },
  {
   "cell_type": "code",
   "execution_count": 18,
   "id": "045564cc-b094-44b0-89f9-e68c6f250d79",
   "metadata": {},
   "outputs": [],
   "source": [
    "class MinPooling(tf.keras.layers.Layer):\n",
    "    def __init__(self):\n",
    "        super(MinPooling, self).__init__()\n",
    "\n",
    "    def call(self, x):\n",
    "        result = min_pool_2(x)\n",
    "        \n",
    "        return result        "
   ]
  },
  {
   "cell_type": "code",
   "execution_count": 19,
   "id": "44e60b5e-2e76-4233-9826-930116bdf4d2",
   "metadata": {},
   "outputs": [],
   "source": [
    "class Inv_Relu(Activation):\n",
    "    def __init__(self, activation, **kwargs):\n",
    "        super(Inv_Relu, self).__init__(activation, **kwargs)\n",
    "        self.__name__ = 'inv_Relu'\n",
    "\n",
    "def inv_Relu(x):    \n",
    "    return tf.math.minimum(x, 0)\n",
    "\n",
    "get_custom_objects().update({'inv_Relu': Inv_Relu(inv_Relu)})"
   ]
  },
  {
   "cell_type": "markdown",
   "id": "603fff6d-7d09-406f-b969-0802b6682b4e",
   "metadata": {},
   "source": [
    "# 모델"
   ]
  },
  {
   "cell_type": "markdown",
   "id": "6e5606dc-82f0-4a07-b600-79d2e2758ac9",
   "metadata": {
    "tags": []
   },
   "source": [
    "### MaxPooling"
   ]
  },
  {
   "cell_type": "code",
   "execution_count": 78,
   "id": "cbde4ef5-f06b-46c4-9e16-36b4264ea910",
   "metadata": {
    "jupyter": {
     "source_hidden": true
    },
    "tags": []
   },
   "outputs": [],
   "source": [
    "def build_vgg_block(input_layer,\n",
    "                    num_cnn=3, # conv 필터 개수 (여기선 2 or 3)\n",
    "                    channel=64,\n",
    "                    block_num=1,\n",
    "                   ):\n",
    "    \n",
    "    # 입력 레이어\n",
    "    x = input_layer # type(x) : <class 'keras.engine.keras_tensor.KerasTensor'>\n",
    "    \n",
    "    # CNN 레이어\n",
    "    for cnn_layer in range(num_cnn):        \n",
    "        x = layers.Conv2D(filters=channel,\n",
    "                          kernel_size=(3,3),\n",
    "                          activation=None,\n",
    "                          # kernel_initializer='he_normal',\n",
    "                          padding='same',\n",
    "                          name=f'Max_block{block_num}_conv{cnn_layer}'\n",
    "                         )(x)\n",
    "        x = BatchNormalization()(x)\n",
    "        x = tf.nn.relu(x)\n",
    "    # Max Pooling 레이어\n",
    "    x = layers.MaxPooling2D(pool_size=(2,2),\n",
    "                            strides=2,\n",
    "                            name=f'Max_block{block_num}_pooling'\n",
    "                           )(x)\n",
    "    \n",
    "    #x = BatchNormalization()(x)\n",
    "    \n",
    "    return x        \n",
    "\n",
    "def build_vgg(input_shape=(32,32,3),\n",
    "              num_cnn_list=[2,2,3,3],\n",
    "              channel_list=[64,128,256,512],\n",
    "              num_classes=100):\n",
    "    \n",
    "    assert len(num_cnn_list) == len(channel_list), '길이가 다르다' # 블럭의 개수가 됨. 둘이 같은지 점검하는 코드\n",
    "    \n",
    "    input_layer = Input(shape=input_shape) # input layer 생성\n",
    "    output = input_layer\n",
    "    \n",
    "    for i, (num_cnn, channel) in enumerate(zip(num_cnn_list, channel_list)):\n",
    "        output = build_vgg_block(output,\n",
    "                                 num_cnn=num_cnn,\n",
    "                                 channel=channel,\n",
    "                                 block_num=i\n",
    "                                )\n",
    "    \n",
    "    output = layers.Flatten(name='Max_flatten')(output)\n",
    "    # output = BatchNormalization()(output)\n",
    "    output = layers.Dense(512, activation=None,name='Max_fc1')(output)\n",
    "    output = BatchNormalization()(output)\n",
    "    output = tf.nn.relu(output)\n",
    "    output = layers.Dense(512, activation=None,name='Max_fc2')(output)\n",
    "    output = BatchNormalization()(output)\n",
    "    output = tf.nn.relu(output)\n",
    "    output = layers.Dense(num_classes, activation='softmax',name='Max_predictions')(output)\n",
    "    \n",
    "    model = Model(inputs=input_layer,\n",
    "                        outputs=output)\n",
    "    \n",
    "    return model"
   ]
  },
  {
   "cell_type": "code",
   "execution_count": 32,
   "id": "9731e51a-96c6-4546-9e29-bc397a6efa1a",
   "metadata": {
    "collapsed": true,
    "jupyter": {
     "outputs_hidden": true
    },
    "tags": []
   },
   "outputs": [
    {
     "name": "stdout",
     "output_type": "stream",
     "text": [
      "Model: \"model_3\"\n",
      "_________________________________________________________________\n",
      " Layer (type)                Output Shape              Param #   \n",
      "=================================================================\n",
      " input_4 (InputLayer)        [(None, 32, 32, 3)]       0         \n",
      "                                                                 \n",
      " Max_block0_conv0 (Conv2D)   (None, 32, 32, 64)        1792      \n",
      "                                                                 \n",
      " batch_normalization_46 (Bat  (None, 32, 32, 64)       256       \n",
      " chNormalization)                                                \n",
      "                                                                 \n",
      " tf.nn.relu_22 (TFOpLambda)  (None, 32, 32, 64)        0         \n",
      "                                                                 \n",
      " Max_block0_conv1 (Conv2D)   (None, 32, 32, 64)        36928     \n",
      "                                                                 \n",
      " batch_normalization_47 (Bat  (None, 32, 32, 64)       256       \n",
      " chNormalization)                                                \n",
      "                                                                 \n",
      " tf.nn.relu_23 (TFOpLambda)  (None, 32, 32, 64)        0         \n",
      "                                                                 \n",
      " Max_block0_pooling (MaxPool  (None, 16, 16, 64)       0         \n",
      " ing2D)                                                          \n",
      "                                                                 \n",
      " Max_block1_conv0 (Conv2D)   (None, 16, 16, 128)       73856     \n",
      "                                                                 \n",
      " batch_normalization_48 (Bat  (None, 16, 16, 128)      512       \n",
      " chNormalization)                                                \n",
      "                                                                 \n",
      " tf.nn.relu_24 (TFOpLambda)  (None, 16, 16, 128)       0         \n",
      "                                                                 \n",
      " Max_block1_conv1 (Conv2D)   (None, 16, 16, 128)       147584    \n",
      "                                                                 \n",
      " batch_normalization_49 (Bat  (None, 16, 16, 128)      512       \n",
      " chNormalization)                                                \n",
      "                                                                 \n",
      " tf.nn.relu_25 (TFOpLambda)  (None, 16, 16, 128)       0         \n",
      "                                                                 \n",
      " Max_block1_pooling (MaxPool  (None, 8, 8, 128)        0         \n",
      " ing2D)                                                          \n",
      "                                                                 \n",
      " Max_block2_conv0 (Conv2D)   (None, 8, 8, 256)         295168    \n",
      "                                                                 \n",
      " batch_normalization_50 (Bat  (None, 8, 8, 256)        1024      \n",
      " chNormalization)                                                \n",
      "                                                                 \n",
      " tf.nn.relu_26 (TFOpLambda)  (None, 8, 8, 256)         0         \n",
      "                                                                 \n",
      " Max_block2_conv1 (Conv2D)   (None, 8, 8, 256)         590080    \n",
      "                                                                 \n",
      " batch_normalization_51 (Bat  (None, 8, 8, 256)        1024      \n",
      " chNormalization)                                                \n",
      "                                                                 \n",
      " tf.nn.relu_27 (TFOpLambda)  (None, 8, 8, 256)         0         \n",
      "                                                                 \n",
      " Max_block2_conv2 (Conv2D)   (None, 8, 8, 256)         590080    \n",
      "                                                                 \n",
      " batch_normalization_52 (Bat  (None, 8, 8, 256)        1024      \n",
      " chNormalization)                                                \n",
      "                                                                 \n",
      " tf.nn.relu_28 (TFOpLambda)  (None, 8, 8, 256)         0         \n",
      "                                                                 \n",
      " Max_block2_pooling (MaxPool  (None, 4, 4, 256)        0         \n",
      " ing2D)                                                          \n",
      "                                                                 \n",
      " Max_block3_conv0 (Conv2D)   (None, 4, 4, 512)         1180160   \n",
      "                                                                 \n",
      " batch_normalization_53 (Bat  (None, 4, 4, 512)        2048      \n",
      " chNormalization)                                                \n",
      "                                                                 \n",
      " tf.nn.relu_29 (TFOpLambda)  (None, 4, 4, 512)         0         \n",
      "                                                                 \n",
      " Max_block3_conv1 (Conv2D)   (None, 4, 4, 512)         2359808   \n",
      "                                                                 \n",
      " batch_normalization_54 (Bat  (None, 4, 4, 512)        2048      \n",
      " chNormalization)                                                \n",
      "                                                                 \n",
      " tf.nn.relu_30 (TFOpLambda)  (None, 4, 4, 512)         0         \n",
      "                                                                 \n",
      " Max_block3_conv2 (Conv2D)   (None, 4, 4, 512)         2359808   \n",
      "                                                                 \n",
      " batch_normalization_55 (Bat  (None, 4, 4, 512)        2048      \n",
      " chNormalization)                                                \n",
      "                                                                 \n",
      " tf.nn.relu_31 (TFOpLambda)  (None, 4, 4, 512)         0         \n",
      "                                                                 \n",
      " Max_block3_pooling (MaxPool  (None, 2, 2, 512)        0         \n",
      " ing2D)                                                          \n",
      "                                                                 \n",
      " Max_flatten (Flatten)       (None, 2048)              0         \n",
      "                                                                 \n",
      " Max_fc1 (Dense)             (None, 512)               1049088   \n",
      "                                                                 \n",
      " batch_normalization_56 (Bat  (None, 512)              2048      \n",
      " chNormalization)                                                \n",
      "                                                                 \n",
      " tf.nn.relu_32 (TFOpLambda)  (None, 512)               0         \n",
      "                                                                 \n",
      " Max_fc2 (Dense)             (None, 512)               262656    \n",
      "                                                                 \n",
      " batch_normalization_57 (Bat  (None, 512)              2048      \n",
      " chNormalization)                                                \n",
      "                                                                 \n",
      " tf.nn.relu_33 (TFOpLambda)  (None, 512)               0         \n",
      "                                                                 \n",
      " Max_predictions (Dense)     (None, 100)               51300     \n",
      "                                                                 \n",
      "=================================================================\n",
      "Total params: 9,013,156\n",
      "Trainable params: 9,005,732\n",
      "Non-trainable params: 7,424\n",
      "_________________________________________________________________\n"
     ]
    }
   ],
   "source": [
    "vgg_16 = build_vgg()\n",
    "vgg_16.summary()"
   ]
  },
  {
   "cell_type": "markdown",
   "id": "2252be82-bcec-4998-bfa7-8034450ca6c4",
   "metadata": {
    "tags": []
   },
   "source": [
    "### MinPooling"
   ]
  },
  {
   "cell_type": "code",
   "execution_count": 20,
   "id": "68aa2240-ad6e-4b03-936b-2c42b4893739",
   "metadata": {
    "tags": []
   },
   "outputs": [],
   "source": [
    "def M_build_vgg_block(input_layer,\n",
    "                    num_cnn=3, # conv 필터 개수 (여기선 2 or 3)\n",
    "                    channel=64,\n",
    "                    block_num=1,\n",
    "                   ):\n",
    "    \n",
    "    # 입력 레이어\n",
    "    x = input_layer # type(x) : <class 'keras.engine.keras_tensor.KerasTensor'>\n",
    "    \n",
    "    # CNN 레이어\n",
    "    for cnn_layer in range(num_cnn):        \n",
    "        x = layers.Conv2D(filters=channel,\n",
    "                          kernel_size=(3,3),\n",
    "                          activation=None,\n",
    "                          # kernel_initializer='he_normal',\n",
    "                          padding='same',\n",
    "                          name=f'Min_block{block_num}_conv{cnn_layer}'\n",
    "                         )(x)\n",
    "        x = BatchNormalization()(x)\n",
    "        x = Activation('inv_Relu')(x)\n",
    "    # 변경점\n",
    "    # Min Pooling 레이어\n",
    "    x = MinPooling()(x) # 클래스 선언 + call ?\n",
    "    \n",
    "    # x = BatchNormalization()(x)\n",
    "    \n",
    "    return x\n",
    "\n",
    "def M_build_vgg(input_shape=(32,32,3),\n",
    "              num_cnn_list=[2,2,3,3],\n",
    "              channel_list=[64,128,256,512],\n",
    "              num_classes=100):\n",
    "    \n",
    "    assert len(num_cnn_list) == len(channel_list), '길이가 다르다' # 블럭의 개수가 됨. 둘이 같은지 점검하는 코드\n",
    "    \n",
    "    input_layer = Input(shape=input_shape) # input layer 생성\n",
    "    output = input_layer\n",
    "    \n",
    "    for i, (num_cnn, channel) in enumerate(zip(num_cnn_list, channel_list)):\n",
    "        output = M_build_vgg_block(output,\n",
    "                                 num_cnn=num_cnn,\n",
    "                                 channel=channel,\n",
    "                                 block_num=i\n",
    "                                )\n",
    "    \n",
    "    output = layers.Flatten(name='Min_flatten')(output)\n",
    "    # x = BatchNormalization()(x)\n",
    "    output = layers.Dense(512, activation=None,name='Min_fc1')(output)\n",
    "    output = BatchNormalization()(output)\n",
    "    output = Activation('inv_Relu')(output)\n",
    "    output = layers.Dense(512, activation=None,name='Min_fc2')(output)\n",
    "    output = BatchNormalization()(output)\n",
    "    output = Activation('inv_Relu')(output)\n",
    "    output = layers.Dense(num_classes, activation='softmax',name='Min_predictions')(output)\n",
    "    \n",
    "    model = Model(inputs=input_layer,\n",
    "                        outputs=output)\n",
    "    \n",
    "    return model"
   ]
  },
  {
   "cell_type": "code",
   "execution_count": 21,
   "id": "9a621999-6e92-4605-b90a-1a00fc6744d4",
   "metadata": {
    "tags": []
   },
   "outputs": [
    {
     "name": "stderr",
     "output_type": "stream",
     "text": [
      "2022-10-13 12:37:12.565171: I tensorflow/core/common_runtime/pluggable_device/pluggable_device_factory.cc:306] Could not identify NUMA node of platform GPU ID 0, defaulting to 0. Your kernel may not have been built with NUMA support.\n",
      "2022-10-13 12:37:12.565278: I tensorflow/core/common_runtime/pluggable_device/pluggable_device_factory.cc:272] Created TensorFlow device (/job:localhost/replica:0/task:0/device:GPU:0 with 0 MB memory) -> physical PluggableDevice (device: 0, name: METAL, pci bus id: <undefined>)\n"
     ]
    },
    {
     "name": "stdout",
     "output_type": "stream",
     "text": [
      "Metal device set to: Apple M1 Pro\n",
      "x_shape:  (None, 32, 32, 64)\n",
      "B, w, h, C:  None 32 32 64\n",
      "x_shape:  (None, 16, 16, 128)\n",
      "B, w, h, C:  None 16 16 128\n",
      "x_shape:  (None, 8, 8, 256)\n",
      "B, w, h, C:  None 8 8 256\n",
      "x_shape:  (None, 4, 4, 512)\n",
      "B, w, h, C:  None 4 4 512\n",
      "Model: \"model\"\n",
      "_________________________________________________________________\n",
      " Layer (type)                Output Shape              Param #   \n",
      "=================================================================\n",
      " input_1 (InputLayer)        [(None, 32, 32, 3)]       0         \n",
      "                                                                 \n",
      " Min_block0_conv0 (Conv2D)   (None, 32, 32, 64)        1792      \n",
      "                                                                 \n",
      " batch_normalization (BatchN  (None, 32, 32, 64)       256       \n",
      " ormalization)                                                   \n",
      "                                                                 \n",
      " activation (Activation)     (None, 32, 32, 64)        0         \n",
      "                                                                 \n",
      " Min_block0_conv1 (Conv2D)   (None, 32, 32, 64)        36928     \n",
      "                                                                 \n",
      " batch_normalization_1 (Batc  (None, 32, 32, 64)       256       \n",
      " hNormalization)                                                 \n",
      "                                                                 \n",
      " activation_1 (Activation)   (None, 32, 32, 64)        0         \n",
      "                                                                 \n",
      " min_pooling (MinPooling)    (None, 16, 16, 64)        0         \n",
      "                                                                 \n",
      " Min_block1_conv0 (Conv2D)   (None, 16, 16, 128)       73856     \n",
      "                                                                 \n",
      " batch_normalization_2 (Batc  (None, 16, 16, 128)      512       \n",
      " hNormalization)                                                 \n",
      "                                                                 \n",
      " activation_2 (Activation)   (None, 16, 16, 128)       0         \n",
      "                                                                 \n",
      " Min_block1_conv1 (Conv2D)   (None, 16, 16, 128)       147584    \n",
      "                                                                 \n",
      " batch_normalization_3 (Batc  (None, 16, 16, 128)      512       \n",
      " hNormalization)                                                 \n",
      "                                                                 \n",
      " activation_3 (Activation)   (None, 16, 16, 128)       0         \n",
      "                                                                 \n",
      " min_pooling_1 (MinPooling)  (None, 8, 8, 128)         0         \n",
      "                                                                 \n",
      " Min_block2_conv0 (Conv2D)   (None, 8, 8, 256)         295168    \n",
      "                                                                 \n",
      " batch_normalization_4 (Batc  (None, 8, 8, 256)        1024      \n",
      " hNormalization)                                                 \n",
      "                                                                 \n",
      " activation_4 (Activation)   (None, 8, 8, 256)         0         \n",
      "                                                                 \n",
      " Min_block2_conv1 (Conv2D)   (None, 8, 8, 256)         590080    \n",
      "                                                                 \n",
      " batch_normalization_5 (Batc  (None, 8, 8, 256)        1024      \n",
      " hNormalization)                                                 \n",
      "                                                                 \n",
      " activation_5 (Activation)   (None, 8, 8, 256)         0         \n",
      "                                                                 \n",
      " Min_block2_conv2 (Conv2D)   (None, 8, 8, 256)         590080    \n",
      "                                                                 \n",
      " batch_normalization_6 (Batc  (None, 8, 8, 256)        1024      \n",
      " hNormalization)                                                 \n",
      "                                                                 \n",
      " activation_6 (Activation)   (None, 8, 8, 256)         0         \n",
      "                                                                 \n",
      " min_pooling_2 (MinPooling)  (None, 4, 4, 256)         0         \n",
      "                                                                 \n",
      " Min_block3_conv0 (Conv2D)   (None, 4, 4, 512)         1180160   \n",
      "                                                                 \n",
      " batch_normalization_7 (Batc  (None, 4, 4, 512)        2048      \n",
      " hNormalization)                                                 \n",
      "                                                                 \n",
      " activation_7 (Activation)   (None, 4, 4, 512)         0         \n",
      "                                                                 \n",
      " Min_block3_conv1 (Conv2D)   (None, 4, 4, 512)         2359808   \n",
      "                                                                 \n",
      " batch_normalization_8 (Batc  (None, 4, 4, 512)        2048      \n",
      " hNormalization)                                                 \n",
      "                                                                 \n",
      " activation_8 (Activation)   (None, 4, 4, 512)         0         \n",
      "                                                                 \n",
      " Min_block3_conv2 (Conv2D)   (None, 4, 4, 512)         2359808   \n",
      "                                                                 \n",
      " batch_normalization_9 (Batc  (None, 4, 4, 512)        2048      \n",
      " hNormalization)                                                 \n",
      "                                                                 \n",
      " activation_9 (Activation)   (None, 4, 4, 512)         0         \n",
      "                                                                 \n",
      " min_pooling_3 (MinPooling)  (None, 2, 2, 512)         0         \n",
      "                                                                 \n",
      " Min_flatten (Flatten)       (None, 2048)              0         \n",
      "                                                                 \n",
      " Min_fc1 (Dense)             (None, 512)               1049088   \n",
      "                                                                 \n",
      " batch_normalization_10 (Bat  (None, 512)              2048      \n",
      " chNormalization)                                                \n",
      "                                                                 \n",
      " activation_10 (Activation)  (None, 512)               0         \n",
      "                                                                 \n",
      " Min_fc2 (Dense)             (None, 512)               262656    \n",
      "                                                                 \n",
      " batch_normalization_11 (Bat  (None, 512)              2048      \n",
      " chNormalization)                                                \n",
      "                                                                 \n",
      " activation_11 (Activation)  (None, 512)               0         \n",
      "                                                                 \n",
      " Min_predictions (Dense)     (None, 100)               51300     \n",
      "                                                                 \n",
      "=================================================================\n",
      "Total params: 9,013,156\n",
      "Trainable params: 9,005,732\n",
      "Non-trainable params: 7,424\n",
      "_________________________________________________________________\n"
     ]
    }
   ],
   "source": [
    "M_vgg_16 = M_build_vgg()\n",
    "M_vgg_16.summary()"
   ]
  },
  {
   "cell_type": "markdown",
   "id": "0818ad89-5e7f-4cf1-ab28-ca817221bea1",
   "metadata": {},
   "source": [
    "### Dual Pooling"
   ]
  },
  {
   "cell_type": "code",
   "execution_count": 35,
   "id": "0db2ee69-e5a1-442d-b617-7eee108c834c",
   "metadata": {},
   "outputs": [],
   "source": [
    "# Type 1 (Add)\n",
    "def D_build_vgg(input_shape=(32,32,3),\n",
    "              num_cnn_list=[2,2,3,3],\n",
    "              channel_list=[64,128,256,512],\n",
    "              num_classes=100):\n",
    "    \n",
    "    assert len(num_cnn_list) == len(channel_list), '길이가 다르다' # 블럭의 개수가 됨. 둘이 같은지 점검하는 코드\n",
    "    \n",
    "    input_layer = Input(shape=input_shape) # input layer 생성\n",
    "    output1 = input_layer\n",
    "    output2 = input_layer\n",
    "    \n",
    "    # Max\n",
    "    for i, (num_cnn, channel) in enumerate(zip(num_cnn_list, channel_list)):\n",
    "        output1 = build_vgg_block(output1,\n",
    "                                 num_cnn=num_cnn,\n",
    "                                 channel=channel,\n",
    "                                 block_num=i\n",
    "                                )\n",
    "    \n",
    "    output1 = layers.Flatten(name='Max_flatten')(output1)\n",
    "    output1 = layers.Dense(512, activation='relu',name='Max_fc1')(output1)\n",
    "    output1 = layers.Dense(512, activation='relu',name='Max_fc2')(output1)\n",
    "    # output1 = layers.Dense(num_classes, activation='softmax',name='Max_predictions')(output1)\n",
    "    \n",
    "    # Min\n",
    "    for i, (num_cnn, channel) in enumerate(zip(num_cnn_list, channel_list)):\n",
    "        output2 = M_build_vgg_block(output2,\n",
    "                                 num_cnn=num_cnn,\n",
    "                                 channel=channel,\n",
    "                                 block_num=i\n",
    "                                )\n",
    "    \n",
    "    output2 = layers.Flatten(name='Min_flatten')(output2)\n",
    "    output2 = layers.Dense(512, activation='relu',name='Min_fc1')(output2)\n",
    "    output2 = layers.Dense(512, activation='relu',name='Min_fc2')(output2)\n",
    "    # output2 = layers.Dense(num_classes, activation='softmax',name='Min_predictions')(output2)\n",
    "    \n",
    "    # 결합부\n",
    "    # 1\n",
    "    # output = Add()([output1, output2])\n",
    "    # 2\n",
    "    output = tf.concat([output1, output2], 1)\n",
    "    \n",
    "    output = layers.Dense(num_classes, activation='softmax',name='predictions')(output)\n",
    "    model = Model(inputs=input_layer,\n",
    "                        outputs=output)\n",
    "    \n",
    "    return model"
   ]
  },
  {
   "cell_type": "code",
   "execution_count": 27,
   "id": "2cbca965-0126-4cb2-a392-40139ad7d9e5",
   "metadata": {
    "collapsed": true,
    "jupyter": {
     "outputs_hidden": true
    },
    "tags": []
   },
   "outputs": [
    {
     "name": "stdout",
     "output_type": "stream",
     "text": [
      "Model: \"model_2\"\n",
      "__________________________________________________________________________________________________\n",
      " Layer (type)                   Output Shape         Param #     Connected to                     \n",
      "==================================================================================================\n",
      " input_3 (InputLayer)           [(None, 32, 32, 3)]  0           []                               \n",
      "                                                                                                  \n",
      " Max_block0_conv0 (Conv2D)      (None, 32, 32, 64)   1792        ['input_3[0][0]']                \n",
      "                                                                                                  \n",
      " Min_block0_conv0 (Conv2D)      (None, 32, 32, 64)   1792        ['input_3[0][0]']                \n",
      "                                                                                                  \n",
      " Max_block0_conv1 (Conv2D)      (None, 32, 32, 64)   36928       ['Max_block0_conv0[0][0]']       \n",
      "                                                                                                  \n",
      " Min_block0_conv1 (Conv2D)      (None, 32, 32, 64)   36928       ['Min_block0_conv0[0][0]']       \n",
      "                                                                                                  \n",
      " Max_block0_pooling (MaxPooling  (None, 16, 16, 64)  0           ['Max_block0_conv1[0][0]']       \n",
      " 2D)                                                                                              \n",
      "                                                                                                  \n",
      " lambda_4 (Lambda)              (None, 16, 16, 64)   0           ['Min_block0_conv1[0][0]']       \n",
      "                                                                                                  \n",
      " batch_normalization_8 (BatchNo  (None, 16, 16, 64)  256         ['Max_block0_pooling[0][0]']     \n",
      " rmalization)                                                                                     \n",
      "                                                                                                  \n",
      " batch_normalization_12 (BatchN  (None, 16, 16, 64)  256         ['lambda_4[0][0]']               \n",
      " ormalization)                                                                                    \n",
      "                                                                                                  \n",
      " Max_block1_conv0 (Conv2D)      (None, 16, 16, 128)  73856       ['batch_normalization_8[0][0]']  \n",
      "                                                                                                  \n",
      " Min_block1_conv0 (Conv2D)      (None, 16, 16, 128)  73856       ['batch_normalization_12[0][0]'] \n",
      "                                                                                                  \n",
      " Max_block1_conv1 (Conv2D)      (None, 16, 16, 128)  147584      ['Max_block1_conv0[0][0]']       \n",
      "                                                                                                  \n",
      " Min_block1_conv1 (Conv2D)      (None, 16, 16, 128)  147584      ['Min_block1_conv0[0][0]']       \n",
      "                                                                                                  \n",
      " Max_block1_pooling (MaxPooling  (None, 8, 8, 128)   0           ['Max_block1_conv1[0][0]']       \n",
      " 2D)                                                                                              \n",
      "                                                                                                  \n",
      " lambda_5 (Lambda)              (None, 8, 8, 128)    0           ['Min_block1_conv1[0][0]']       \n",
      "                                                                                                  \n",
      " batch_normalization_9 (BatchNo  (None, 8, 8, 128)   512         ['Max_block1_pooling[0][0]']     \n",
      " rmalization)                                                                                     \n",
      "                                                                                                  \n",
      " batch_normalization_13 (BatchN  (None, 8, 8, 128)   512         ['lambda_5[0][0]']               \n",
      " ormalization)                                                                                    \n",
      "                                                                                                  \n",
      " Max_block2_conv0 (Conv2D)      (None, 8, 8, 256)    295168      ['batch_normalization_9[0][0]']  \n",
      "                                                                                                  \n",
      " Min_block2_conv0 (Conv2D)      (None, 8, 8, 256)    295168      ['batch_normalization_13[0][0]'] \n",
      "                                                                                                  \n",
      " Max_block2_conv1 (Conv2D)      (None, 8, 8, 256)    590080      ['Max_block2_conv0[0][0]']       \n",
      "                                                                                                  \n",
      " Min_block2_conv1 (Conv2D)      (None, 8, 8, 256)    590080      ['Min_block2_conv0[0][0]']       \n",
      "                                                                                                  \n",
      " Max_block2_conv2 (Conv2D)      (None, 8, 8, 256)    590080      ['Max_block2_conv1[0][0]']       \n",
      "                                                                                                  \n",
      " Min_block2_conv2 (Conv2D)      (None, 8, 8, 256)    590080      ['Min_block2_conv1[0][0]']       \n",
      "                                                                                                  \n",
      " Max_block2_pooling (MaxPooling  (None, 4, 4, 256)   0           ['Max_block2_conv2[0][0]']       \n",
      " 2D)                                                                                              \n",
      "                                                                                                  \n",
      " lambda_6 (Lambda)              (None, 4, 4, 256)    0           ['Min_block2_conv2[0][0]']       \n",
      "                                                                                                  \n",
      " batch_normalization_10 (BatchN  (None, 4, 4, 256)   1024        ['Max_block2_pooling[0][0]']     \n",
      " ormalization)                                                                                    \n",
      "                                                                                                  \n",
      " batch_normalization_14 (BatchN  (None, 4, 4, 256)   1024        ['lambda_6[0][0]']               \n",
      " ormalization)                                                                                    \n",
      "                                                                                                  \n",
      " Max_block3_conv0 (Conv2D)      (None, 4, 4, 512)    1180160     ['batch_normalization_10[0][0]'] \n",
      "                                                                                                  \n",
      " Min_block3_conv0 (Conv2D)      (None, 4, 4, 512)    1180160     ['batch_normalization_14[0][0]'] \n",
      "                                                                                                  \n",
      " Max_block3_conv1 (Conv2D)      (None, 4, 4, 512)    2359808     ['Max_block3_conv0[0][0]']       \n",
      "                                                                                                  \n",
      " Min_block3_conv1 (Conv2D)      (None, 4, 4, 512)    2359808     ['Min_block3_conv0[0][0]']       \n",
      "                                                                                                  \n",
      " Max_block3_conv2 (Conv2D)      (None, 4, 4, 512)    2359808     ['Max_block3_conv1[0][0]']       \n",
      "                                                                                                  \n",
      " Min_block3_conv2 (Conv2D)      (None, 4, 4, 512)    2359808     ['Min_block3_conv1[0][0]']       \n",
      "                                                                                                  \n",
      " Max_block3_pooling (MaxPooling  (None, 2, 2, 512)   0           ['Max_block3_conv2[0][0]']       \n",
      " 2D)                                                                                              \n",
      "                                                                                                  \n",
      " lambda_7 (Lambda)              (None, 2, 2, 512)    0           ['Min_block3_conv2[0][0]']       \n",
      "                                                                                                  \n",
      " batch_normalization_11 (BatchN  (None, 2, 2, 512)   2048        ['Max_block3_pooling[0][0]']     \n",
      " ormalization)                                                                                    \n",
      "                                                                                                  \n",
      " batch_normalization_15 (BatchN  (None, 2, 2, 512)   2048        ['lambda_7[0][0]']               \n",
      " ormalization)                                                                                    \n",
      "                                                                                                  \n",
      " Max_flatten (Flatten)          (None, 2048)         0           ['batch_normalization_11[0][0]'] \n",
      "                                                                                                  \n",
      " Min_flatten (Flatten)          (None, 2048)         0           ['batch_normalization_15[0][0]'] \n",
      "                                                                                                  \n",
      " Max_fc1 (Dense)                (None, 512)          1049088     ['Max_flatten[0][0]']            \n",
      "                                                                                                  \n",
      " Min_fc1 (Dense)                (None, 512)          1049088     ['Min_flatten[0][0]']            \n",
      "                                                                                                  \n",
      " Max_fc2 (Dense)                (None, 512)          262656      ['Max_fc1[0][0]']                \n",
      "                                                                                                  \n",
      " Min_fc2 (Dense)                (None, 512)          262656      ['Min_fc1[0][0]']                \n",
      "                                                                                                  \n",
      " tf.concat (TFOpLambda)         (None, 1024)         0           ['Max_fc2[0][0]',                \n",
      "                                                                  'Min_fc2[0][0]']                \n",
      "                                                                                                  \n",
      " predictions (Dense)            (None, 100)          102500      ['tf.concat[0][0]']              \n",
      "                                                                                                  \n",
      "==================================================================================================\n",
      "Total params: 18,004,196\n",
      "Trainable params: 18,000,356\n",
      "Non-trainable params: 3,840\n",
      "__________________________________________________________________________________________________\n"
     ]
    }
   ],
   "source": [
    "D_vgg_16 = D_build_vgg()\n",
    "D_vgg_16.summary()"
   ]
  },
  {
   "cell_type": "code",
   "execution_count": 36,
   "id": "5a08d5dc-d341-4792-b20e-18edcedbc990",
   "metadata": {},
   "outputs": [],
   "source": [
    "# Type 2 (Concat)\n",
    "def D2_build_vgg(input_shape=(32,32,3),\n",
    "              num_cnn_list=[2,2,3,3],\n",
    "              channel_list=[64,128,256,512],\n",
    "              num_classes=100):\n",
    "    \n",
    "    assert len(num_cnn_list) == len(channel_list), '길이가 다르다' # 블럭의 개수가 됨. 둘이 같은지 점검하는 코드\n",
    "    \n",
    "    input_layer = Input(shape=input_shape) # input layer 생성\n",
    "    output1 = input_layer\n",
    "    output2 = input_layer\n",
    "    \n",
    "    # Max\n",
    "    for i, (num_cnn, channel) in enumerate(zip(num_cnn_list, channel_list)):\n",
    "        output1 = build_vgg_block(output1,\n",
    "                                 num_cnn=num_cnn,\n",
    "                                 channel=channel,\n",
    "                                 block_num=i\n",
    "                                )\n",
    "    \n",
    "    # Min\n",
    "    for i, (num_cnn, channel) in enumerate(zip(num_cnn_list, channel_list)):\n",
    "        output2 = M_build_vgg_block(output2,\n",
    "                                 num_cnn=num_cnn,\n",
    "                                 channel=channel,\n",
    "                                 block_num=i\n",
    "                                )\n",
    "    \n",
    "    # 결합부    \n",
    "    output = tf.concat([output1, output2], -1)\n",
    "    output = layers.Flatten(name='Dual_flatten')(output)\n",
    "    output = layers.Dense(512, activation=None,name='Dual_fc1')(output)\n",
    "    output = BatchNormalization()(output)\n",
    "    output = Activation('inv_Relu')(output)\n",
    "    output = layers.Dense(512, activation=None,name='Dual_fc2')(output)    \n",
    "    output = BatchNormalization()(output)\n",
    "    output = Activation('inv_Relu')(output)\n",
    "    output = layers.Dense(num_classes, activation='softmax',name='predictions')(output)\n",
    "    model = Model(inputs=input_layer,\n",
    "                        outputs=output)\n",
    "    \n",
    "    return model"
   ]
  },
  {
   "cell_type": "code",
   "execution_count": 37,
   "id": "d4a11323-c5ba-49c5-9a12-141511071c9d",
   "metadata": {},
   "outputs": [
    {
     "name": "stdout",
     "output_type": "stream",
     "text": [
      "Model: \"model_5\"\n",
      "__________________________________________________________________________________________________\n",
      " Layer (type)                   Output Shape         Param #     Connected to                     \n",
      "==================================================================================================\n",
      " input_6 (InputLayer)           [(None, 32, 32, 3)]  0           []                               \n",
      "                                                                                                  \n",
      " Max_block0_conv0 (Conv2D)      (None, 32, 32, 64)   1792        ['input_6[0][0]']                \n",
      "                                                                                                  \n",
      " Min_block0_conv0 (Conv2D)      (None, 32, 32, 64)   1792        ['input_6[0][0]']                \n",
      "                                                                                                  \n",
      " batch_normalization_70 (BatchN  (None, 32, 32, 64)  256         ['Max_block0_conv0[0][0]']       \n",
      " ormalization)                                                                                    \n",
      "                                                                                                  \n",
      " batch_normalization_80 (BatchN  (None, 32, 32, 64)  256         ['Min_block0_conv0[0][0]']       \n",
      " ormalization)                                                                                    \n",
      "                                                                                                  \n",
      " tf.nn.relu_34 (TFOpLambda)     (None, 32, 32, 64)   0           ['batch_normalization_70[0][0]'] \n",
      "                                                                                                  \n",
      " activation_36 (Activation)     (None, 32, 32, 64)   0           ['batch_normalization_80[0][0]'] \n",
      "                                                                                                  \n",
      " Max_block0_conv1 (Conv2D)      (None, 32, 32, 64)   36928       ['tf.nn.relu_34[0][0]']          \n",
      "                                                                                                  \n",
      " Min_block0_conv1 (Conv2D)      (None, 32, 32, 64)   36928       ['activation_36[0][0]']          \n",
      "                                                                                                  \n",
      " batch_normalization_71 (BatchN  (None, 32, 32, 64)  256         ['Max_block0_conv1[0][0]']       \n",
      " ormalization)                                                                                    \n",
      "                                                                                                  \n",
      " batch_normalization_81 (BatchN  (None, 32, 32, 64)  256         ['Min_block0_conv1[0][0]']       \n",
      " ormalization)                                                                                    \n",
      "                                                                                                  \n",
      " tf.nn.relu_35 (TFOpLambda)     (None, 32, 32, 64)   0           ['batch_normalization_71[0][0]'] \n",
      "                                                                                                  \n",
      " activation_37 (Activation)     (None, 32, 32, 64)   0           ['batch_normalization_81[0][0]'] \n",
      "                                                                                                  \n",
      " Max_block0_pooling (MaxPooling  (None, 16, 16, 64)  0           ['tf.nn.relu_35[0][0]']          \n",
      " 2D)                                                                                              \n",
      "                                                                                                  \n",
      " lambda_12 (Lambda)             (None, 16, 16, 64)   0           ['activation_37[0][0]']          \n",
      "                                                                                                  \n",
      " Max_block1_conv0 (Conv2D)      (None, 16, 16, 128)  73856       ['Max_block0_pooling[0][0]']     \n",
      "                                                                                                  \n",
      " Min_block1_conv0 (Conv2D)      (None, 16, 16, 128)  73856       ['lambda_12[0][0]']              \n",
      "                                                                                                  \n",
      " batch_normalization_72 (BatchN  (None, 16, 16, 128)  512        ['Max_block1_conv0[0][0]']       \n",
      " ormalization)                                                                                    \n",
      "                                                                                                  \n",
      " batch_normalization_82 (BatchN  (None, 16, 16, 128)  512        ['Min_block1_conv0[0][0]']       \n",
      " ormalization)                                                                                    \n",
      "                                                                                                  \n",
      " tf.nn.relu_36 (TFOpLambda)     (None, 16, 16, 128)  0           ['batch_normalization_72[0][0]'] \n",
      "                                                                                                  \n",
      " activation_38 (Activation)     (None, 16, 16, 128)  0           ['batch_normalization_82[0][0]'] \n",
      "                                                                                                  \n",
      " Max_block1_conv1 (Conv2D)      (None, 16, 16, 128)  147584      ['tf.nn.relu_36[0][0]']          \n",
      "                                                                                                  \n",
      " Min_block1_conv1 (Conv2D)      (None, 16, 16, 128)  147584      ['activation_38[0][0]']          \n",
      "                                                                                                  \n",
      " batch_normalization_73 (BatchN  (None, 16, 16, 128)  512        ['Max_block1_conv1[0][0]']       \n",
      " ormalization)                                                                                    \n",
      "                                                                                                  \n",
      " batch_normalization_83 (BatchN  (None, 16, 16, 128)  512        ['Min_block1_conv1[0][0]']       \n",
      " ormalization)                                                                                    \n",
      "                                                                                                  \n",
      " tf.nn.relu_37 (TFOpLambda)     (None, 16, 16, 128)  0           ['batch_normalization_73[0][0]'] \n",
      "                                                                                                  \n",
      " activation_39 (Activation)     (None, 16, 16, 128)  0           ['batch_normalization_83[0][0]'] \n",
      "                                                                                                  \n",
      " Max_block1_pooling (MaxPooling  (None, 8, 8, 128)   0           ['tf.nn.relu_37[0][0]']          \n",
      " 2D)                                                                                              \n",
      "                                                                                                  \n",
      " lambda_13 (Lambda)             (None, 8, 8, 128)    0           ['activation_39[0][0]']          \n",
      "                                                                                                  \n",
      " Max_block2_conv0 (Conv2D)      (None, 8, 8, 256)    295168      ['Max_block1_pooling[0][0]']     \n",
      "                                                                                                  \n",
      " Min_block2_conv0 (Conv2D)      (None, 8, 8, 256)    295168      ['lambda_13[0][0]']              \n",
      "                                                                                                  \n",
      " batch_normalization_74 (BatchN  (None, 8, 8, 256)   1024        ['Max_block2_conv0[0][0]']       \n",
      " ormalization)                                                                                    \n",
      "                                                                                                  \n",
      " batch_normalization_84 (BatchN  (None, 8, 8, 256)   1024        ['Min_block2_conv0[0][0]']       \n",
      " ormalization)                                                                                    \n",
      "                                                                                                  \n",
      " tf.nn.relu_38 (TFOpLambda)     (None, 8, 8, 256)    0           ['batch_normalization_74[0][0]'] \n",
      "                                                                                                  \n",
      " activation_40 (Activation)     (None, 8, 8, 256)    0           ['batch_normalization_84[0][0]'] \n",
      "                                                                                                  \n",
      " Max_block2_conv1 (Conv2D)      (None, 8, 8, 256)    590080      ['tf.nn.relu_38[0][0]']          \n",
      "                                                                                                  \n",
      " Min_block2_conv1 (Conv2D)      (None, 8, 8, 256)    590080      ['activation_40[0][0]']          \n",
      "                                                                                                  \n",
      " batch_normalization_75 (BatchN  (None, 8, 8, 256)   1024        ['Max_block2_conv1[0][0]']       \n",
      " ormalization)                                                                                    \n",
      "                                                                                                  \n",
      " batch_normalization_85 (BatchN  (None, 8, 8, 256)   1024        ['Min_block2_conv1[0][0]']       \n",
      " ormalization)                                                                                    \n",
      "                                                                                                  \n",
      " tf.nn.relu_39 (TFOpLambda)     (None, 8, 8, 256)    0           ['batch_normalization_75[0][0]'] \n",
      "                                                                                                  \n",
      " activation_41 (Activation)     (None, 8, 8, 256)    0           ['batch_normalization_85[0][0]'] \n",
      "                                                                                                  \n",
      " Max_block2_conv2 (Conv2D)      (None, 8, 8, 256)    590080      ['tf.nn.relu_39[0][0]']          \n",
      "                                                                                                  \n",
      " Min_block2_conv2 (Conv2D)      (None, 8, 8, 256)    590080      ['activation_41[0][0]']          \n",
      "                                                                                                  \n",
      " batch_normalization_76 (BatchN  (None, 8, 8, 256)   1024        ['Max_block2_conv2[0][0]']       \n",
      " ormalization)                                                                                    \n",
      "                                                                                                  \n",
      " batch_normalization_86 (BatchN  (None, 8, 8, 256)   1024        ['Min_block2_conv2[0][0]']       \n",
      " ormalization)                                                                                    \n",
      "                                                                                                  \n",
      " tf.nn.relu_40 (TFOpLambda)     (None, 8, 8, 256)    0           ['batch_normalization_76[0][0]'] \n",
      "                                                                                                  \n",
      " activation_42 (Activation)     (None, 8, 8, 256)    0           ['batch_normalization_86[0][0]'] \n",
      "                                                                                                  \n",
      " Max_block2_pooling (MaxPooling  (None, 4, 4, 256)   0           ['tf.nn.relu_40[0][0]']          \n",
      " 2D)                                                                                              \n",
      "                                                                                                  \n",
      " lambda_14 (Lambda)             (None, 4, 4, 256)    0           ['activation_42[0][0]']          \n",
      "                                                                                                  \n",
      " Max_block3_conv0 (Conv2D)      (None, 4, 4, 512)    1180160     ['Max_block2_pooling[0][0]']     \n",
      "                                                                                                  \n",
      " Min_block3_conv0 (Conv2D)      (None, 4, 4, 512)    1180160     ['lambda_14[0][0]']              \n",
      "                                                                                                  \n",
      " batch_normalization_77 (BatchN  (None, 4, 4, 512)   2048        ['Max_block3_conv0[0][0]']       \n",
      " ormalization)                                                                                    \n",
      "                                                                                                  \n",
      " batch_normalization_87 (BatchN  (None, 4, 4, 512)   2048        ['Min_block3_conv0[0][0]']       \n",
      " ormalization)                                                                                    \n",
      "                                                                                                  \n",
      " tf.nn.relu_41 (TFOpLambda)     (None, 4, 4, 512)    0           ['batch_normalization_77[0][0]'] \n",
      "                                                                                                  \n",
      " activation_43 (Activation)     (None, 4, 4, 512)    0           ['batch_normalization_87[0][0]'] \n",
      "                                                                                                  \n",
      " Max_block3_conv1 (Conv2D)      (None, 4, 4, 512)    2359808     ['tf.nn.relu_41[0][0]']          \n",
      "                                                                                                  \n",
      " Min_block3_conv1 (Conv2D)      (None, 4, 4, 512)    2359808     ['activation_43[0][0]']          \n",
      "                                                                                                  \n",
      " batch_normalization_78 (BatchN  (None, 4, 4, 512)   2048        ['Max_block3_conv1[0][0]']       \n",
      " ormalization)                                                                                    \n",
      "                                                                                                  \n",
      " batch_normalization_88 (BatchN  (None, 4, 4, 512)   2048        ['Min_block3_conv1[0][0]']       \n",
      " ormalization)                                                                                    \n",
      "                                                                                                  \n",
      " tf.nn.relu_42 (TFOpLambda)     (None, 4, 4, 512)    0           ['batch_normalization_78[0][0]'] \n",
      "                                                                                                  \n",
      " activation_44 (Activation)     (None, 4, 4, 512)    0           ['batch_normalization_88[0][0]'] \n",
      "                                                                                                  \n",
      " Max_block3_conv2 (Conv2D)      (None, 4, 4, 512)    2359808     ['tf.nn.relu_42[0][0]']          \n",
      "                                                                                                  \n",
      " Min_block3_conv2 (Conv2D)      (None, 4, 4, 512)    2359808     ['activation_44[0][0]']          \n",
      "                                                                                                  \n",
      " batch_normalization_79 (BatchN  (None, 4, 4, 512)   2048        ['Max_block3_conv2[0][0]']       \n",
      " ormalization)                                                                                    \n",
      "                                                                                                  \n",
      " batch_normalization_89 (BatchN  (None, 4, 4, 512)   2048        ['Min_block3_conv2[0][0]']       \n",
      " ormalization)                                                                                    \n",
      "                                                                                                  \n",
      " tf.nn.relu_43 (TFOpLambda)     (None, 4, 4, 512)    0           ['batch_normalization_79[0][0]'] \n",
      "                                                                                                  \n",
      " activation_45 (Activation)     (None, 4, 4, 512)    0           ['batch_normalization_89[0][0]'] \n",
      "                                                                                                  \n",
      " Max_block3_pooling (MaxPooling  (None, 2, 2, 512)   0           ['tf.nn.relu_43[0][0]']          \n",
      " 2D)                                                                                              \n",
      "                                                                                                  \n",
      " lambda_15 (Lambda)             (None, 2, 2, 512)    0           ['activation_45[0][0]']          \n",
      "                                                                                                  \n",
      " tf.concat_1 (TFOpLambda)       (None, 2, 2, 1024)   0           ['Max_block3_pooling[0][0]',     \n",
      "                                                                  'lambda_15[0][0]']              \n",
      "                                                                                                  \n",
      " Dual_flatten (Flatten)         (None, 4096)         0           ['tf.concat_1[0][0]']            \n",
      "                                                                                                  \n",
      " Dual_fc1 (Dense)               (None, 512)          2097664     ['Dual_flatten[0][0]']           \n",
      "                                                                                                  \n",
      " batch_normalization_90 (BatchN  (None, 512)         2048        ['Dual_fc1[0][0]']               \n",
      " ormalization)                                                                                    \n",
      "                                                                                                  \n",
      " activation_46 (Activation)     (None, 512)          0           ['batch_normalization_90[0][0]'] \n",
      "                                                                                                  \n",
      " Dual_fc2 (Dense)               (None, 512)          262656      ['activation_46[0][0]']          \n",
      "                                                                                                  \n",
      " batch_normalization_91 (BatchN  (None, 512)         2048        ['Dual_fc2[0][0]']               \n",
      " ormalization)                                                                                    \n",
      "                                                                                                  \n",
      " activation_47 (Activation)     (None, 512)          0           ['batch_normalization_91[0][0]'] \n",
      "                                                                                                  \n",
      " predictions (Dense)            (None, 100)          51300       ['activation_47[0][0]']          \n",
      "                                                                                                  \n",
      "==================================================================================================\n",
      "Total params: 17,707,748\n",
      "Trainable params: 17,694,948\n",
      "Non-trainable params: 12,800\n",
      "__________________________________________________________________________________________________\n"
     ]
    }
   ],
   "source": [
    "D2_vgg_16 = D2_build_vgg()\n",
    "D2_vgg_16.summary()"
   ]
  },
  {
   "cell_type": "markdown",
   "id": "0b90f2ce-37ff-4609-843e-2926cee82a7e",
   "metadata": {},
   "source": [
    "# 모델 학습"
   ]
  },
  {
   "cell_type": "code",
   "execution_count": 22,
   "id": "8eb8f69f-9c4e-4ea9-a84b-47ad46626871",
   "metadata": {},
   "outputs": [],
   "source": [
    "EPOCHS = 60\n",
    "BATCH_SIZE = 16"
   ]
  },
  {
   "cell_type": "code",
   "execution_count": 23,
   "id": "c70a9578-617e-4fd4-925e-c404325df585",
   "metadata": {},
   "outputs": [
    {
     "name": "stderr",
     "output_type": "stream",
     "text": [
      "\u001b[34m\u001b[1mwandb\u001b[0m: \u001b[33mWARNING\u001b[0m The save_model argument by default saves the model in the HDF5 format that cannot save custom objects like subclassed models and custom layers. This behavior will be deprecated in a future release in favor of the SavedModel format. Meanwhile, the HDF5 model is saved as W&B files and the SavedModel as W&B Artifacts.\n"
     ]
    }
   ],
   "source": [
    "wandbcallback_M=wandb.keras.WandbCallback(\"val_acc\", mode=\"max\")"
   ]
  },
  {
   "cell_type": "code",
   "execution_count": 39,
   "id": "84780841-f0f7-4880-a127-2d905f3d0909",
   "metadata": {
    "collapsed": true,
    "jupyter": {
     "outputs_hidden": true
    },
    "tags": []
   },
   "outputs": [
    {
     "name": "stdout",
     "output_type": "stream",
     "text": [
      "Epoch 1/60\n"
     ]
    },
    {
     "name": "stderr",
     "output_type": "stream",
     "text": [
      "2022-10-12 13:27:33.022836: I tensorflow/core/grappler/optimizers/custom_graph_optimizer_registry.cc:114] Plugin optimizer for device_type GPU is enabled.\n"
     ]
    },
    {
     "name": "stdout",
     "output_type": "stream",
     "text": [
      "2499/2500 [============================>.] - ETA: 0s - loss: 4.2021 - acc: 0.0598 - top_k_categorical_accuracy: 0.2129"
     ]
    },
    {
     "name": "stderr",
     "output_type": "stream",
     "text": [
      "2022-10-12 13:28:44.341307: I tensorflow/core/grappler/optimizers/custom_graph_optimizer_registry.cc:114] Plugin optimizer for device_type GPU is enabled.\n",
      "WARNING:absl:Found untraced functions such as _jit_compiled_convolution_op, _jit_compiled_convolution_op, _jit_compiled_convolution_op, _jit_compiled_convolution_op, _jit_compiled_convolution_op while saving (showing 5 of 10). These functions will not be directly callable after loading.\n"
     ]
    },
    {
     "name": "stdout",
     "output_type": "stream",
     "text": [
      "INFO:tensorflow:Assets written to: /Users/dip_phd/PHD/wandb/run-20221012_132512-3v9e9kz2/files/model-best/assets\n"
     ]
    },
    {
     "name": "stderr",
     "output_type": "stream",
     "text": [
      "INFO:tensorflow:Assets written to: /Users/dip_phd/PHD/wandb/run-20221012_132512-3v9e9kz2/files/model-best/assets\n",
      "\u001b[34m\u001b[1mwandb\u001b[0m: Adding directory to artifact (/Users/dip_phd/PHD/wandb/run-20221012_132512-3v9e9kz2/files/model-best)... Done. 0.3s\n"
     ]
    },
    {
     "name": "stdout",
     "output_type": "stream",
     "text": [
      "2500/2500 [==============================] - 81s 32ms/step - loss: 4.2020 - acc: 0.0598 - top_k_categorical_accuracy: 0.2130 - val_loss: 3.8161 - val_acc: 0.1019 - val_top_k_categorical_accuracy: 0.3241\n",
      "Epoch 2/60\n",
      "2500/2500 [==============================] - ETA: 0s - loss: 3.6546 - acc: 0.1313 - top_k_categorical_accuracy: 0.3773"
     ]
    },
    {
     "name": "stderr",
     "output_type": "stream",
     "text": [
      "WARNING:absl:Found untraced functions such as _jit_compiled_convolution_op, _jit_compiled_convolution_op, _jit_compiled_convolution_op, _jit_compiled_convolution_op, _jit_compiled_convolution_op while saving (showing 5 of 10). These functions will not be directly callable after loading.\n"
     ]
    },
    {
     "name": "stdout",
     "output_type": "stream",
     "text": [
      "INFO:tensorflow:Assets written to: /Users/dip_phd/PHD/wandb/run-20221012_132512-3v9e9kz2/files/model-best/assets\n"
     ]
    },
    {
     "name": "stderr",
     "output_type": "stream",
     "text": [
      "INFO:tensorflow:Assets written to: /Users/dip_phd/PHD/wandb/run-20221012_132512-3v9e9kz2/files/model-best/assets\n",
      "\u001b[34m\u001b[1mwandb\u001b[0m: Adding directory to artifact (/Users/dip_phd/PHD/wandb/run-20221012_132512-3v9e9kz2/files/model-best)... Done. 0.2s\n"
     ]
    },
    {
     "name": "stdout",
     "output_type": "stream",
     "text": [
      "2500/2500 [==============================] - 81s 33ms/step - loss: 3.6546 - acc: 0.1313 - top_k_categorical_accuracy: 0.3773 - val_loss: 3.3656 - val_acc: 0.1861 - val_top_k_categorical_accuracy: 0.4669\n",
      "Epoch 3/60\n",
      "2500/2500 [==============================] - ETA: 0s - loss: 3.1739 - acc: 0.2124 - top_k_categorical_accuracy: 0.5076"
     ]
    },
    {
     "name": "stderr",
     "output_type": "stream",
     "text": [
      "WARNING:absl:Found untraced functions such as _jit_compiled_convolution_op, _jit_compiled_convolution_op, _jit_compiled_convolution_op, _jit_compiled_convolution_op, _jit_compiled_convolution_op while saving (showing 5 of 10). These functions will not be directly callable after loading.\n"
     ]
    },
    {
     "name": "stdout",
     "output_type": "stream",
     "text": [
      "INFO:tensorflow:Assets written to: /Users/dip_phd/PHD/wandb/run-20221012_132512-3v9e9kz2/files/model-best/assets\n"
     ]
    },
    {
     "name": "stderr",
     "output_type": "stream",
     "text": [
      "INFO:tensorflow:Assets written to: /Users/dip_phd/PHD/wandb/run-20221012_132512-3v9e9kz2/files/model-best/assets\n",
      "\u001b[34m\u001b[1mwandb\u001b[0m: Adding directory to artifact (/Users/dip_phd/PHD/wandb/run-20221012_132512-3v9e9kz2/files/model-best)... Done. 0.2s\n"
     ]
    },
    {
     "name": "stdout",
     "output_type": "stream",
     "text": [
      "2500/2500 [==============================] - 80s 32ms/step - loss: 3.1739 - acc: 0.2124 - top_k_categorical_accuracy: 0.5076 - val_loss: 2.9087 - val_acc: 0.2635 - val_top_k_categorical_accuracy: 0.5720\n",
      "Epoch 4/60\n",
      "2499/2500 [============================>.] - ETA: 0s - loss: 2.7785 - acc: 0.2874 - top_k_categorical_accuracy: 0.6063"
     ]
    },
    {
     "name": "stderr",
     "output_type": "stream",
     "text": [
      "WARNING:absl:Found untraced functions such as _jit_compiled_convolution_op, _jit_compiled_convolution_op, _jit_compiled_convolution_op, _jit_compiled_convolution_op, _jit_compiled_convolution_op while saving (showing 5 of 10). These functions will not be directly callable after loading.\n"
     ]
    },
    {
     "name": "stdout",
     "output_type": "stream",
     "text": [
      "INFO:tensorflow:Assets written to: /Users/dip_phd/PHD/wandb/run-20221012_132512-3v9e9kz2/files/model-best/assets\n"
     ]
    },
    {
     "name": "stderr",
     "output_type": "stream",
     "text": [
      "INFO:tensorflow:Assets written to: /Users/dip_phd/PHD/wandb/run-20221012_132512-3v9e9kz2/files/model-best/assets\n",
      "\u001b[34m\u001b[1mwandb\u001b[0m: Adding directory to artifact (/Users/dip_phd/PHD/wandb/run-20221012_132512-3v9e9kz2/files/model-best)... Done. 0.2s\n"
     ]
    },
    {
     "name": "stdout",
     "output_type": "stream",
     "text": [
      "2500/2500 [==============================] - 79s 32ms/step - loss: 2.7787 - acc: 0.2873 - top_k_categorical_accuracy: 0.6063 - val_loss: 2.6906 - val_acc: 0.3055 - val_top_k_categorical_accuracy: 0.6337\n",
      "Epoch 5/60\n",
      "2499/2500 [============================>.] - ETA: 0s - loss: 2.4600 - acc: 0.3467 - top_k_categorical_accuracy: 0.6807"
     ]
    },
    {
     "name": "stderr",
     "output_type": "stream",
     "text": [
      "WARNING:absl:Found untraced functions such as _jit_compiled_convolution_op, _jit_compiled_convolution_op, _jit_compiled_convolution_op, _jit_compiled_convolution_op, _jit_compiled_convolution_op while saving (showing 5 of 10). These functions will not be directly callable after loading.\n"
     ]
    },
    {
     "name": "stdout",
     "output_type": "stream",
     "text": [
      "INFO:tensorflow:Assets written to: /Users/dip_phd/PHD/wandb/run-20221012_132512-3v9e9kz2/files/model-best/assets\n"
     ]
    },
    {
     "name": "stderr",
     "output_type": "stream",
     "text": [
      "INFO:tensorflow:Assets written to: /Users/dip_phd/PHD/wandb/run-20221012_132512-3v9e9kz2/files/model-best/assets\n",
      "\u001b[34m\u001b[1mwandb\u001b[0m: Adding directory to artifact (/Users/dip_phd/PHD/wandb/run-20221012_132512-3v9e9kz2/files/model-best)... Done. 0.2s\n"
     ]
    },
    {
     "name": "stdout",
     "output_type": "stream",
     "text": [
      "2500/2500 [==============================] - 80s 32ms/step - loss: 2.4601 - acc: 0.3467 - top_k_categorical_accuracy: 0.6807 - val_loss: 2.4205 - val_acc: 0.3576 - val_top_k_categorical_accuracy: 0.6863\n",
      "Epoch 6/60\n",
      "2499/2500 [============================>.] - ETA: 0s - loss: 2.2096 - acc: 0.4020 - top_k_categorical_accuracy: 0.7332"
     ]
    },
    {
     "name": "stderr",
     "output_type": "stream",
     "text": [
      "WARNING:absl:Found untraced functions such as _jit_compiled_convolution_op, _jit_compiled_convolution_op, _jit_compiled_convolution_op, _jit_compiled_convolution_op, _jit_compiled_convolution_op while saving (showing 5 of 10). These functions will not be directly callable after loading.\n"
     ]
    },
    {
     "name": "stdout",
     "output_type": "stream",
     "text": [
      "INFO:tensorflow:Assets written to: /Users/dip_phd/PHD/wandb/run-20221012_132512-3v9e9kz2/files/model-best/assets\n"
     ]
    },
    {
     "name": "stderr",
     "output_type": "stream",
     "text": [
      "INFO:tensorflow:Assets written to: /Users/dip_phd/PHD/wandb/run-20221012_132512-3v9e9kz2/files/model-best/assets\n",
      "\u001b[34m\u001b[1mwandb\u001b[0m: Adding directory to artifact (/Users/dip_phd/PHD/wandb/run-20221012_132512-3v9e9kz2/files/model-best)... Done. 0.2s\n"
     ]
    },
    {
     "name": "stdout",
     "output_type": "stream",
     "text": [
      "2500/2500 [==============================] - 80s 32ms/step - loss: 2.2094 - acc: 0.4020 - top_k_categorical_accuracy: 0.7333 - val_loss: 2.5301 - val_acc: 0.3586 - val_top_k_categorical_accuracy: 0.6862\n",
      "Epoch 7/60\n",
      "2499/2500 [============================>.] - ETA: 0s - loss: 2.0061 - acc: 0.4493 - top_k_categorical_accuracy: 0.7762"
     ]
    },
    {
     "name": "stderr",
     "output_type": "stream",
     "text": [
      "WARNING:absl:Found untraced functions such as _jit_compiled_convolution_op, _jit_compiled_convolution_op, _jit_compiled_convolution_op, _jit_compiled_convolution_op, _jit_compiled_convolution_op while saving (showing 5 of 10). These functions will not be directly callable after loading.\n"
     ]
    },
    {
     "name": "stdout",
     "output_type": "stream",
     "text": [
      "INFO:tensorflow:Assets written to: /Users/dip_phd/PHD/wandb/run-20221012_132512-3v9e9kz2/files/model-best/assets\n"
     ]
    },
    {
     "name": "stderr",
     "output_type": "stream",
     "text": [
      "INFO:tensorflow:Assets written to: /Users/dip_phd/PHD/wandb/run-20221012_132512-3v9e9kz2/files/model-best/assets\n",
      "\u001b[34m\u001b[1mwandb\u001b[0m: Adding directory to artifact (/Users/dip_phd/PHD/wandb/run-20221012_132512-3v9e9kz2/files/model-best)... Done. 0.2s\n"
     ]
    },
    {
     "name": "stdout",
     "output_type": "stream",
     "text": [
      "2500/2500 [==============================] - 80s 32ms/step - loss: 2.0063 - acc: 0.4493 - top_k_categorical_accuracy: 0.7762 - val_loss: 2.2898 - val_acc: 0.4054 - val_top_k_categorical_accuracy: 0.7289\n",
      "Epoch 8/60\n",
      "2499/2500 [============================>.] - ETA: 0s - loss: 1.8200 - acc: 0.4891 - top_k_categorical_accuracy: 0.8082"
     ]
    },
    {
     "name": "stderr",
     "output_type": "stream",
     "text": [
      "WARNING:absl:Found untraced functions such as _jit_compiled_convolution_op, _jit_compiled_convolution_op, _jit_compiled_convolution_op, _jit_compiled_convolution_op, _jit_compiled_convolution_op while saving (showing 5 of 10). These functions will not be directly callable after loading.\n"
     ]
    },
    {
     "name": "stdout",
     "output_type": "stream",
     "text": [
      "INFO:tensorflow:Assets written to: /Users/dip_phd/PHD/wandb/run-20221012_132512-3v9e9kz2/files/model-best/assets\n"
     ]
    },
    {
     "name": "stderr",
     "output_type": "stream",
     "text": [
      "INFO:tensorflow:Assets written to: /Users/dip_phd/PHD/wandb/run-20221012_132512-3v9e9kz2/files/model-best/assets\n",
      "\u001b[34m\u001b[1mwandb\u001b[0m: Adding directory to artifact (/Users/dip_phd/PHD/wandb/run-20221012_132512-3v9e9kz2/files/model-best)... Done. 0.2s\n"
     ]
    },
    {
     "name": "stdout",
     "output_type": "stream",
     "text": [
      "2500/2500 [==============================] - 79s 32ms/step - loss: 1.8199 - acc: 0.4891 - top_k_categorical_accuracy: 0.8082 - val_loss: 2.1711 - val_acc: 0.4372 - val_top_k_categorical_accuracy: 0.7516\n",
      "Epoch 9/60\n",
      "2500/2500 [==============================] - 78s 31ms/step - loss: 1.6352 - acc: 0.5329 - top_k_categorical_accuracy: 0.8402 - val_loss: 2.1987 - val_acc: 0.4357 - val_top_k_categorical_accuracy: 0.7613\n",
      "Epoch 10/60\n",
      "2500/2500 [==============================] - ETA: 0s - loss: 1.4548 - acc: 0.5761 - top_k_categorical_accuracy: 0.8708"
     ]
    },
    {
     "name": "stderr",
     "output_type": "stream",
     "text": [
      "WARNING:absl:Found untraced functions such as _jit_compiled_convolution_op, _jit_compiled_convolution_op, _jit_compiled_convolution_op, _jit_compiled_convolution_op, _jit_compiled_convolution_op while saving (showing 5 of 10). These functions will not be directly callable after loading.\n"
     ]
    },
    {
     "name": "stdout",
     "output_type": "stream",
     "text": [
      "INFO:tensorflow:Assets written to: /Users/dip_phd/PHD/wandb/run-20221012_132512-3v9e9kz2/files/model-best/assets\n"
     ]
    },
    {
     "name": "stderr",
     "output_type": "stream",
     "text": [
      "INFO:tensorflow:Assets written to: /Users/dip_phd/PHD/wandb/run-20221012_132512-3v9e9kz2/files/model-best/assets\n",
      "\u001b[34m\u001b[1mwandb\u001b[0m: Adding directory to artifact (/Users/dip_phd/PHD/wandb/run-20221012_132512-3v9e9kz2/files/model-best)... Done. 0.2s\n"
     ]
    },
    {
     "name": "stdout",
     "output_type": "stream",
     "text": [
      "2500/2500 [==============================] - 81s 32ms/step - loss: 1.4548 - acc: 0.5761 - top_k_categorical_accuracy: 0.8708 - val_loss: 2.0944 - val_acc: 0.4609 - val_top_k_categorical_accuracy: 0.7791\n",
      "Epoch 11/60\n",
      "2500/2500 [==============================] - ETA: 0s - loss: 1.2975 - acc: 0.6170 - top_k_categorical_accuracy: 0.8967"
     ]
    },
    {
     "name": "stderr",
     "output_type": "stream",
     "text": [
      "WARNING:absl:Found untraced functions such as _jit_compiled_convolution_op, _jit_compiled_convolution_op, _jit_compiled_convolution_op, _jit_compiled_convolution_op, _jit_compiled_convolution_op while saving (showing 5 of 10). These functions will not be directly callable after loading.\n"
     ]
    },
    {
     "name": "stdout",
     "output_type": "stream",
     "text": [
      "INFO:tensorflow:Assets written to: /Users/dip_phd/PHD/wandb/run-20221012_132512-3v9e9kz2/files/model-best/assets\n"
     ]
    },
    {
     "name": "stderr",
     "output_type": "stream",
     "text": [
      "INFO:tensorflow:Assets written to: /Users/dip_phd/PHD/wandb/run-20221012_132512-3v9e9kz2/files/model-best/assets\n",
      "\u001b[34m\u001b[1mwandb\u001b[0m: Adding directory to artifact (/Users/dip_phd/PHD/wandb/run-20221012_132512-3v9e9kz2/files/model-best)... Done. 0.2s\n"
     ]
    },
    {
     "name": "stdout",
     "output_type": "stream",
     "text": [
      "2500/2500 [==============================] - 80s 32ms/step - loss: 1.2975 - acc: 0.6170 - top_k_categorical_accuracy: 0.8967 - val_loss: 2.0389 - val_acc: 0.4909 - val_top_k_categorical_accuracy: 0.7950\n",
      "Epoch 12/60\n",
      "2500/2500 [==============================] - 78s 31ms/step - loss: 1.1231 - acc: 0.6625 - top_k_categorical_accuracy: 0.9217 - val_loss: 2.1819 - val_acc: 0.4805 - val_top_k_categorical_accuracy: 0.7856\n",
      "Epoch 13/60\n",
      "2500/2500 [==============================] - 78s 31ms/step - loss: 0.9792 - acc: 0.6996 - top_k_categorical_accuracy: 0.9397 - val_loss: 2.2187 - val_acc: 0.4809 - val_top_k_categorical_accuracy: 0.7856\n",
      "Epoch 14/60\n",
      "2500/2500 [==============================] - 77s 31ms/step - loss: 0.8375 - acc: 0.7384 - top_k_categorical_accuracy: 0.9566 - val_loss: 2.2923 - val_acc: 0.4908 - val_top_k_categorical_accuracy: 0.7828\n",
      "Epoch 15/60\n",
      "2500/2500 [==============================] - ETA: 0s - loss: 0.6999 - acc: 0.7773 - top_k_categorical_accuracy: 0.9696"
     ]
    },
    {
     "name": "stderr",
     "output_type": "stream",
     "text": [
      "WARNING:absl:Found untraced functions such as _jit_compiled_convolution_op, _jit_compiled_convolution_op, _jit_compiled_convolution_op, _jit_compiled_convolution_op, _jit_compiled_convolution_op while saving (showing 5 of 10). These functions will not be directly callable after loading.\n"
     ]
    },
    {
     "name": "stdout",
     "output_type": "stream",
     "text": [
      "INFO:tensorflow:Assets written to: /Users/dip_phd/PHD/wandb/run-20221012_132512-3v9e9kz2/files/model-best/assets\n"
     ]
    },
    {
     "name": "stderr",
     "output_type": "stream",
     "text": [
      "INFO:tensorflow:Assets written to: /Users/dip_phd/PHD/wandb/run-20221012_132512-3v9e9kz2/files/model-best/assets\n",
      "\u001b[34m\u001b[1mwandb\u001b[0m: Adding directory to artifact (/Users/dip_phd/PHD/wandb/run-20221012_132512-3v9e9kz2/files/model-best)... Done. 0.2s\n"
     ]
    },
    {
     "name": "stdout",
     "output_type": "stream",
     "text": [
      "2500/2500 [==============================] - 81s 32ms/step - loss: 0.6999 - acc: 0.7773 - top_k_categorical_accuracy: 0.9696 - val_loss: 2.3912 - val_acc: 0.4920 - val_top_k_categorical_accuracy: 0.7869\n",
      "Epoch 16/60\n",
      "2499/2500 [============================>.] - ETA: 0s - loss: 0.6097 - acc: 0.8046 - top_k_categorical_accuracy: 0.9773"
     ]
    },
    {
     "name": "stderr",
     "output_type": "stream",
     "text": [
      "WARNING:absl:Found untraced functions such as _jit_compiled_convolution_op, _jit_compiled_convolution_op, _jit_compiled_convolution_op, _jit_compiled_convolution_op, _jit_compiled_convolution_op while saving (showing 5 of 10). These functions will not be directly callable after loading.\n"
     ]
    },
    {
     "name": "stdout",
     "output_type": "stream",
     "text": [
      "INFO:tensorflow:Assets written to: /Users/dip_phd/PHD/wandb/run-20221012_132512-3v9e9kz2/files/model-best/assets\n"
     ]
    },
    {
     "name": "stderr",
     "output_type": "stream",
     "text": [
      "INFO:tensorflow:Assets written to: /Users/dip_phd/PHD/wandb/run-20221012_132512-3v9e9kz2/files/model-best/assets\n",
      "\u001b[34m\u001b[1mwandb\u001b[0m: Adding directory to artifact (/Users/dip_phd/PHD/wandb/run-20221012_132512-3v9e9kz2/files/model-best)... Done. 0.2s\n"
     ]
    },
    {
     "name": "stdout",
     "output_type": "stream",
     "text": [
      "2500/2500 [==============================] - 77s 31ms/step - loss: 0.6097 - acc: 0.8046 - top_k_categorical_accuracy: 0.9774 - val_loss: 2.4866 - val_acc: 0.4934 - val_top_k_categorical_accuracy: 0.7789\n",
      "Epoch 17/60\n",
      "2500/2500 [==============================] - 78s 31ms/step - loss: 0.5139 - acc: 0.8343 - top_k_categorical_accuracy: 0.9853 - val_loss: 2.6494 - val_acc: 0.4875 - val_top_k_categorical_accuracy: 0.7814\n",
      "Epoch 18/60\n",
      "2500/2500 [==============================] - 77s 31ms/step - loss: 0.4496 - acc: 0.8533 - top_k_categorical_accuracy: 0.9880 - val_loss: 2.8681 - val_acc: 0.4846 - val_top_k_categorical_accuracy: 0.7780\n",
      "Epoch 19/60\n",
      "2499/2500 [============================>.] - ETA: 0s - loss: 0.3935 - acc: 0.8701 - top_k_categorical_accuracy: 0.9918"
     ]
    },
    {
     "name": "stderr",
     "output_type": "stream",
     "text": [
      "WARNING:absl:Found untraced functions such as _jit_compiled_convolution_op, _jit_compiled_convolution_op, _jit_compiled_convolution_op, _jit_compiled_convolution_op, _jit_compiled_convolution_op while saving (showing 5 of 10). These functions will not be directly callable after loading.\n"
     ]
    },
    {
     "name": "stdout",
     "output_type": "stream",
     "text": [
      "INFO:tensorflow:Assets written to: /Users/dip_phd/PHD/wandb/run-20221012_132512-3v9e9kz2/files/model-best/assets\n"
     ]
    },
    {
     "name": "stderr",
     "output_type": "stream",
     "text": [
      "INFO:tensorflow:Assets written to: /Users/dip_phd/PHD/wandb/run-20221012_132512-3v9e9kz2/files/model-best/assets\n",
      "\u001b[34m\u001b[1mwandb\u001b[0m: Adding directory to artifact (/Users/dip_phd/PHD/wandb/run-20221012_132512-3v9e9kz2/files/model-best)... Done. 0.2s\n"
     ]
    },
    {
     "name": "stdout",
     "output_type": "stream",
     "text": [
      "2500/2500 [==============================] - 79s 32ms/step - loss: 0.3934 - acc: 0.8702 - top_k_categorical_accuracy: 0.9919 - val_loss: 2.8068 - val_acc: 0.5027 - val_top_k_categorical_accuracy: 0.7926\n",
      "Epoch 20/60\n",
      "2500/2500 [==============================] - 77s 31ms/step - loss: 0.3460 - acc: 0.8854 - top_k_categorical_accuracy: 0.9934 - val_loss: 3.1025 - val_acc: 0.4836 - val_top_k_categorical_accuracy: 0.7771\n",
      "Epoch 21/60\n",
      "2500/2500 [==============================] - 77s 31ms/step - loss: 0.3169 - acc: 0.8946 - top_k_categorical_accuracy: 0.9942 - val_loss: 3.1638 - val_acc: 0.4873 - val_top_k_categorical_accuracy: 0.7769\n",
      "Epoch 22/60\n",
      "2500/2500 [==============================] - 77s 31ms/step - loss: 0.2903 - acc: 0.9051 - top_k_categorical_accuracy: 0.9953 - val_loss: 3.0995 - val_acc: 0.4980 - val_top_k_categorical_accuracy: 0.7805\n",
      "Epoch 23/60\n",
      "2500/2500 [==============================] - 77s 31ms/step - loss: 0.2644 - acc: 0.9126 - top_k_categorical_accuracy: 0.9963 - val_loss: 3.2808 - val_acc: 0.4832 - val_top_k_categorical_accuracy: 0.7690\n",
      "Epoch 24/60\n",
      "2500/2500 [==============================] - 78s 31ms/step - loss: 0.2437 - acc: 0.9194 - top_k_categorical_accuracy: 0.9970 - val_loss: 3.2350 - val_acc: 0.4972 - val_top_k_categorical_accuracy: 0.7826\n",
      "Epoch 25/60\n",
      "2500/2500 [==============================] - 78s 31ms/step - loss: 0.2223 - acc: 0.9269 - top_k_categorical_accuracy: 0.9974 - val_loss: 3.6635 - val_acc: 0.4727 - val_top_k_categorical_accuracy: 0.7541\n",
      "Epoch 26/60\n",
      "2500/2500 [==============================] - 77s 31ms/step - loss: 0.2167 - acc: 0.9293 - top_k_categorical_accuracy: 0.9976 - val_loss: 3.5223 - val_acc: 0.4859 - val_top_k_categorical_accuracy: 0.7667\n",
      "Epoch 27/60\n",
      "2500/2500 [==============================] - 77s 31ms/step - loss: 0.2071 - acc: 0.9320 - top_k_categorical_accuracy: 0.9975 - val_loss: 3.4510 - val_acc: 0.5003 - val_top_k_categorical_accuracy: 0.7769\n",
      "Epoch 28/60\n",
      "2500/2500 [==============================] - 77s 31ms/step - loss: 0.1848 - acc: 0.9382 - top_k_categorical_accuracy: 0.9979 - val_loss: 3.5387 - val_acc: 0.4916 - val_top_k_categorical_accuracy: 0.7735\n",
      "Epoch 29/60\n",
      "2500/2500 [==============================] - 77s 31ms/step - loss: 0.1901 - acc: 0.9397 - top_k_categorical_accuracy: 0.9977 - val_loss: 3.9205 - val_acc: 0.4747 - val_top_k_categorical_accuracy: 0.7512\n",
      "Epoch 30/60\n",
      "2499/2500 [============================>.] - ETA: 0s - loss: 0.1666 - acc: 0.9452 - top_k_categorical_accuracy: 0.9984"
     ]
    },
    {
     "name": "stderr",
     "output_type": "stream",
     "text": [
      "WARNING:absl:Found untraced functions such as _jit_compiled_convolution_op, _jit_compiled_convolution_op, _jit_compiled_convolution_op, _jit_compiled_convolution_op, _jit_compiled_convolution_op while saving (showing 5 of 10). These functions will not be directly callable after loading.\n"
     ]
    },
    {
     "name": "stdout",
     "output_type": "stream",
     "text": [
      "INFO:tensorflow:Assets written to: /Users/dip_phd/PHD/wandb/run-20221012_132512-3v9e9kz2/files/model-best/assets\n"
     ]
    },
    {
     "name": "stderr",
     "output_type": "stream",
     "text": [
      "INFO:tensorflow:Assets written to: /Users/dip_phd/PHD/wandb/run-20221012_132512-3v9e9kz2/files/model-best/assets\n",
      "\u001b[34m\u001b[1mwandb\u001b[0m: Adding directory to artifact (/Users/dip_phd/PHD/wandb/run-20221012_132512-3v9e9kz2/files/model-best)... Done. 0.2s\n"
     ]
    },
    {
     "name": "stdout",
     "output_type": "stream",
     "text": [
      "2500/2500 [==============================] - 80s 32ms/step - loss: 0.1668 - acc: 0.9452 - top_k_categorical_accuracy: 0.9985 - val_loss: 3.5472 - val_acc: 0.5059 - val_top_k_categorical_accuracy: 0.7836\n",
      "Epoch 31/60\n",
      "2500/2500 [==============================] - 77s 31ms/step - loss: 0.1724 - acc: 0.9448 - top_k_categorical_accuracy: 0.9979 - val_loss: 3.7215 - val_acc: 0.4862 - val_top_k_categorical_accuracy: 0.7690\n",
      "Epoch 32/60\n",
      "2500/2500 [==============================] - 77s 31ms/step - loss: 0.1556 - acc: 0.9497 - top_k_categorical_accuracy: 0.9986 - val_loss: 3.7019 - val_acc: 0.4975 - val_top_k_categorical_accuracy: 0.7766\n",
      "Epoch 33/60\n",
      "2500/2500 [==============================] - 78s 31ms/step - loss: 0.1455 - acc: 0.9530 - top_k_categorical_accuracy: 0.9986 - val_loss: 3.6933 - val_acc: 0.5045 - val_top_k_categorical_accuracy: 0.7830\n",
      "Epoch 34/60\n",
      "2499/2500 [============================>.] - ETA: 0s - loss: 0.1500 - acc: 0.9513 - top_k_categorical_accuracy: 0.9985"
     ]
    },
    {
     "name": "stderr",
     "output_type": "stream",
     "text": [
      "WARNING:absl:Found untraced functions such as _jit_compiled_convolution_op, _jit_compiled_convolution_op, _jit_compiled_convolution_op, _jit_compiled_convolution_op, _jit_compiled_convolution_op while saving (showing 5 of 10). These functions will not be directly callable after loading.\n"
     ]
    },
    {
     "name": "stdout",
     "output_type": "stream",
     "text": [
      "INFO:tensorflow:Assets written to: /Users/dip_phd/PHD/wandb/run-20221012_132512-3v9e9kz2/files/model-best/assets\n"
     ]
    },
    {
     "name": "stderr",
     "output_type": "stream",
     "text": [
      "INFO:tensorflow:Assets written to: /Users/dip_phd/PHD/wandb/run-20221012_132512-3v9e9kz2/files/model-best/assets\n",
      "\u001b[34m\u001b[1mwandb\u001b[0m: Adding directory to artifact (/Users/dip_phd/PHD/wandb/run-20221012_132512-3v9e9kz2/files/model-best)... Done. 0.2s\n"
     ]
    },
    {
     "name": "stdout",
     "output_type": "stream",
     "text": [
      "2500/2500 [==============================] - 80s 32ms/step - loss: 0.1500 - acc: 0.9513 - top_k_categorical_accuracy: 0.9985 - val_loss: 3.6008 - val_acc: 0.5131 - val_top_k_categorical_accuracy: 0.7904\n",
      "Epoch 35/60\n",
      "2500/2500 [==============================] - 77s 31ms/step - loss: 0.1348 - acc: 0.9560 - top_k_categorical_accuracy: 0.9989 - val_loss: 3.6406 - val_acc: 0.5119 - val_top_k_categorical_accuracy: 0.7892\n",
      "Epoch 36/60\n",
      "2500/2500 [==============================] - 78s 31ms/step - loss: 0.1337 - acc: 0.9565 - top_k_categorical_accuracy: 0.9987 - val_loss: 3.7145 - val_acc: 0.5055 - val_top_k_categorical_accuracy: 0.7862\n",
      "Epoch 37/60\n",
      "2500/2500 [==============================] - 77s 31ms/step - loss: 0.1285 - acc: 0.9590 - top_k_categorical_accuracy: 0.9988 - val_loss: 3.8037 - val_acc: 0.5005 - val_top_k_categorical_accuracy: 0.7827\n",
      "Epoch 38/60\n",
      "2500/2500 [==============================] - 77s 31ms/step - loss: 0.1299 - acc: 0.9581 - top_k_categorical_accuracy: 0.9989 - val_loss: 3.8824 - val_acc: 0.4986 - val_top_k_categorical_accuracy: 0.7789\n",
      "Epoch 39/60\n",
      "2500/2500 [==============================] - 77s 31ms/step - loss: 0.1223 - acc: 0.9607 - top_k_categorical_accuracy: 0.9989 - val_loss: 3.8698 - val_acc: 0.4932 - val_top_k_categorical_accuracy: 0.7749\n",
      "Epoch 40/60\n",
      "2500/2500 [==============================] - 77s 31ms/step - loss: 0.1208 - acc: 0.9607 - top_k_categorical_accuracy: 0.9987 - val_loss: 3.7986 - val_acc: 0.4960 - val_top_k_categorical_accuracy: 0.7735\n",
      "Epoch 41/60\n",
      "2500/2500 [==============================] - 76s 30ms/step - loss: 0.1083 - acc: 0.9655 - top_k_categorical_accuracy: 0.9993 - val_loss: 4.0669 - val_acc: 0.4869 - val_top_k_categorical_accuracy: 0.7657\n",
      "Epoch 42/60\n",
      "2500/2500 [==============================] - 77s 31ms/step - loss: 0.1146 - acc: 0.9630 - top_k_categorical_accuracy: 0.9987 - val_loss: 3.8868 - val_acc: 0.4986 - val_top_k_categorical_accuracy: 0.7752\n",
      "Epoch 43/60\n",
      "2500/2500 [==============================] - 78s 31ms/step - loss: 0.1016 - acc: 0.9669 - top_k_categorical_accuracy: 0.9994 - val_loss: 4.2527 - val_acc: 0.4902 - val_top_k_categorical_accuracy: 0.7627\n",
      "Epoch 44/60\n",
      "2500/2500 [==============================] - 78s 31ms/step - loss: 0.1080 - acc: 0.9655 - top_k_categorical_accuracy: 0.9991 - val_loss: 3.9325 - val_acc: 0.4987 - val_top_k_categorical_accuracy: 0.7751\n",
      "Epoch 45/60\n",
      "2500/2500 [==============================] - 78s 31ms/step - loss: 0.0998 - acc: 0.9668 - top_k_categorical_accuracy: 0.9992 - val_loss: 3.9844 - val_acc: 0.5014 - val_top_k_categorical_accuracy: 0.7680\n",
      "Epoch 46/60\n",
      "2500/2500 [==============================] - 78s 31ms/step - loss: 0.1018 - acc: 0.9668 - top_k_categorical_accuracy: 0.9992 - val_loss: 4.1181 - val_acc: 0.5022 - val_top_k_categorical_accuracy: 0.7659\n",
      "Epoch 47/60\n",
      "2500/2500 [==============================] - 78s 31ms/step - loss: 0.0948 - acc: 0.9702 - top_k_categorical_accuracy: 0.9992 - val_loss: 3.9739 - val_acc: 0.5025 - val_top_k_categorical_accuracy: 0.7706\n",
      "Epoch 48/60\n",
      "2500/2500 [==============================] - 78s 31ms/step - loss: 0.0969 - acc: 0.9686 - top_k_categorical_accuracy: 0.9991 - val_loss: 3.9086 - val_acc: 0.5095 - val_top_k_categorical_accuracy: 0.7759\n",
      "Epoch 49/60\n",
      "2500/2500 [==============================] - 78s 31ms/step - loss: 0.0906 - acc: 0.9717 - top_k_categorical_accuracy: 0.9991 - val_loss: 4.0588 - val_acc: 0.4994 - val_top_k_categorical_accuracy: 0.7659\n",
      "Epoch 50/60\n",
      "2500/2500 [==============================] - 80s 32ms/step - loss: 0.0878 - acc: 0.9719 - top_k_categorical_accuracy: 0.9990 - val_loss: 4.2045 - val_acc: 0.4917 - val_top_k_categorical_accuracy: 0.7607\n",
      "Epoch 51/60\n",
      "2500/2500 [==============================] - 78s 31ms/step - loss: 0.0842 - acc: 0.9729 - top_k_categorical_accuracy: 0.9992 - val_loss: 4.1319 - val_acc: 0.5027 - val_top_k_categorical_accuracy: 0.7635\n",
      "Epoch 52/60\n",
      "2500/2500 [==============================] - 78s 31ms/step - loss: 0.0886 - acc: 0.9715 - top_k_categorical_accuracy: 0.9992 - val_loss: 4.0968 - val_acc: 0.5010 - val_top_k_categorical_accuracy: 0.7733\n",
      "Epoch 53/60\n",
      "2500/2500 [==============================] - 78s 31ms/step - loss: 0.0844 - acc: 0.9732 - top_k_categorical_accuracy: 0.9996 - val_loss: 4.1511 - val_acc: 0.4974 - val_top_k_categorical_accuracy: 0.7674\n",
      "Epoch 54/60\n",
      "2500/2500 [==============================] - 78s 31ms/step - loss: 0.0812 - acc: 0.9741 - top_k_categorical_accuracy: 0.9995 - val_loss: 4.0408 - val_acc: 0.5027 - val_top_k_categorical_accuracy: 0.7734\n",
      "Epoch 55/60\n",
      "2500/2500 [==============================] - 78s 31ms/step - loss: 0.0792 - acc: 0.9746 - top_k_categorical_accuracy: 0.9995 - val_loss: 4.1255 - val_acc: 0.5053 - val_top_k_categorical_accuracy: 0.7718\n",
      "Epoch 56/60\n",
      "2500/2500 [==============================] - 78s 31ms/step - loss: 0.0775 - acc: 0.9755 - top_k_categorical_accuracy: 0.9995 - val_loss: 4.1257 - val_acc: 0.4954 - val_top_k_categorical_accuracy: 0.7695\n",
      "Epoch 57/60\n",
      "2500/2500 [==============================] - 78s 31ms/step - loss: 0.0770 - acc: 0.9751 - top_k_categorical_accuracy: 0.9994 - val_loss: 4.1291 - val_acc: 0.5025 - val_top_k_categorical_accuracy: 0.7732\n",
      "Epoch 58/60\n",
      "2500/2500 [==============================] - ETA: 0s - loss: 0.0746 - acc: 0.9759 - top_k_categorical_accuracy: 0.9995"
     ]
    },
    {
     "name": "stderr",
     "output_type": "stream",
     "text": [
      "WARNING:absl:Found untraced functions such as _jit_compiled_convolution_op, _jit_compiled_convolution_op, _jit_compiled_convolution_op, _jit_compiled_convolution_op, _jit_compiled_convolution_op while saving (showing 5 of 10). These functions will not be directly callable after loading.\n"
     ]
    },
    {
     "name": "stdout",
     "output_type": "stream",
     "text": [
      "INFO:tensorflow:Assets written to: /Users/dip_phd/PHD/wandb/run-20221012_132512-3v9e9kz2/files/model-best/assets\n"
     ]
    },
    {
     "name": "stderr",
     "output_type": "stream",
     "text": [
      "INFO:tensorflow:Assets written to: /Users/dip_phd/PHD/wandb/run-20221012_132512-3v9e9kz2/files/model-best/assets\n",
      "\u001b[34m\u001b[1mwandb\u001b[0m: Adding directory to artifact (/Users/dip_phd/PHD/wandb/run-20221012_132512-3v9e9kz2/files/model-best)... Done. 0.2s\n"
     ]
    },
    {
     "name": "stdout",
     "output_type": "stream",
     "text": [
      "2500/2500 [==============================] - 80s 32ms/step - loss: 0.0746 - acc: 0.9759 - top_k_categorical_accuracy: 0.9995 - val_loss: 3.9978 - val_acc: 0.5153 - val_top_k_categorical_accuracy: 0.7748\n",
      "Epoch 59/60\n",
      "2500/2500 [==============================] - 77s 31ms/step - loss: 0.0708 - acc: 0.9781 - top_k_categorical_accuracy: 0.9994 - val_loss: 4.0581 - val_acc: 0.5109 - val_top_k_categorical_accuracy: 0.7764\n",
      "Epoch 60/60\n",
      "2500/2500 [==============================] - 77s 31ms/step - loss: 0.0712 - acc: 0.9769 - top_k_categorical_accuracy: 0.9997 - val_loss: 4.2068 - val_acc: 0.5057 - val_top_k_categorical_accuracy: 0.7673\n"
     ]
    }
   ],
   "source": [
    "# Max\n",
    "vgg_16.compile(loss=categorical_crossentropy, \n",
    "              optimizer=Adam(learning_rate=0.001), \n",
    "              metrics=['acc','top_k_categorical_accuracy'])\n",
    "\n",
    "history = vgg_16.fit(X_train,  # 학습할 데이터\n",
    "                    y_train,  # 학습할 레이블\n",
    "                    epochs=EPOCHS,  # 전체 학습할 횟수\n",
    "                    batch_size=BATCH_SIZE,  # 배치 사이즈\n",
    "                    use_multiprocessing=True,\n",
    "                    validation_data=(X_valid, y_valid), # 검증 데이터로 확인\n",
    "                    callbacks=[wandbcallback_M]\n",
    "                   )"
   ]
  },
  {
   "cell_type": "code",
   "execution_count": null,
   "id": "903e8374-2303-4464-9560-119d166824d4",
   "metadata": {
    "tags": []
   },
   "outputs": [
    {
     "name": "stdout",
     "output_type": "stream",
     "text": [
      "Epoch 1/60\n"
     ]
    },
    {
     "name": "stderr",
     "output_type": "stream",
     "text": [
      "2022-10-13 12:37:49.311430: W tensorflow/core/platform/profile_utils/cpu_utils.cc:128] Failed to get CPU frequency: 0 Hz\n"
     ]
    },
    {
     "name": "stdout",
     "output_type": "stream",
     "text": [
      "x_shape:  (16, 32, 32, 64)\n",
      "B, w, h, C:  16 32 32 64\n",
      "x_shape:  (16, 16, 16, 128)\n",
      "B, w, h, C:  16 16 16 128\n",
      "x_shape:  (16, 8, 8, 256)\n",
      "B, w, h, C:  16 8 8 256\n",
      "x_shape:  (16, 4, 4, 512)\n",
      "B, w, h, C:  16 4 4 512\n",
      "x_shape:  (16, 32, 32, 64)\n",
      "B, w, h, C:  16 32 32 64\n",
      "x_shape:  (16, 16, 16, 128)\n",
      "B, w, h, C:  16 16 16 128\n",
      "x_shape:  (16, 8, 8, 256)\n",
      "B, w, h, C:  16 8 8 256\n",
      "x_shape:  (16, 4, 4, 512)\n",
      "B, w, h, C:  16 4 4 512\n"
     ]
    },
    {
     "name": "stderr",
     "output_type": "stream",
     "text": [
      "2022-10-13 12:37:49.981052: I tensorflow/core/grappler/optimizers/custom_graph_optimizer_registry.cc:114] Plugin optimizer for device_type GPU is enabled.\n"
     ]
    },
    {
     "name": "stdout",
     "output_type": "stream",
     "text": [
      "2500/2500 [==============================] - ETA: 0s - loss: 4.1820 - acc: 0.0646 - top_k_categorical_accuracy: 0.2260x_shape:  (16, 32, 32, 64)\n",
      "B, w, h, C:  16 32 32 64\n",
      "x_shape:  (16, 16, 16, 128)\n",
      "B, w, h, C:  16 16 16 128\n",
      "x_shape:  (16, 8, 8, 256)\n",
      "B, w, h, C:  16 8 8 256\n",
      "x_shape:  (16, 4, 4, 512)\n",
      "B, w, h, C:  16 4 4 512\n"
     ]
    },
    {
     "name": "stderr",
     "output_type": "stream",
     "text": [
      "2022-10-13 12:40:14.773915: I tensorflow/core/grappler/optimizers/custom_graph_optimizer_registry.cc:114] Plugin optimizer for device_type GPU is enabled.\n"
     ]
    },
    {
     "name": "stdout",
     "output_type": "stream",
     "text": [
      "x_shape:  (None, 32, 32, 64)\n",
      "B, w, h, C:  None 32 32 64\n",
      "x_shape:  (None, 16, 16, 128)\n",
      "B, w, h, C:  None 16 16 128\n",
      "x_shape:  (None, 8, 8, 256)\n",
      "B, w, h, C:  None 8 8 256\n",
      "x_shape:  (None, 4, 4, 512)\n",
      "B, w, h, C:  None 4 4 512\n",
      "x_shape:  (None, 32, 32, 64)\n",
      "B, w, h, C:  None 32 32 64\n",
      "x_shape:  (None, 16, 16, 128)\n",
      "B, w, h, C:  None 16 16 128\n",
      "x_shape:  (None, 8, 8, 256)\n",
      "B, w, h, C:  None 8 8 256\n",
      "x_shape:  (None, 4, 4, 512)\n",
      "B, w, h, C:  None 4 4 512\n",
      "x_shape:  (None, 32, 32, 64)\n",
      "B, w, h, C:  None 32 32 64\n",
      "x_shape:  (None, 16, 16, 128)\n",
      "B, w, h, C:  None 16 16 128\n",
      "x_shape:  (None, 8, 8, 256)\n",
      "B, w, h, C:  None 8 8 256\n",
      "x_shape:  (None, 4, 4, 512)\n",
      "B, w, h, C:  None 4 4 512\n",
      "x_shape:  (None, 32, 32, 64)\n",
      "B, w, h, C:  None 32 32 64\n",
      "x_shape:  (None, 16, 16, 128)\n",
      "B, w, h, C:  None 16 16 128\n",
      "x_shape:  (None, 8, 8, 256)\n",
      "B, w, h, C:  None 8 8 256\n",
      "x_shape:  (None, 4, 4, 512)\n",
      "B, w, h, C:  None 4 4 512\n",
      "x_shape:  (None, 32, 32, 64)\n",
      "B, w, h, C:  None 32 32 64\n",
      "x_shape:  (None, 16, 16, 128)\n",
      "B, w, h, C:  None 16 16 128\n"
     ]
    },
    {
     "name": "stderr",
     "output_type": "stream",
     "text": [
      "WARNING:absl:Found untraced functions such as _jit_compiled_convolution_op, _jit_compiled_convolution_op, _jit_compiled_convolution_op, _jit_compiled_convolution_op, _jit_compiled_convolution_op while saving (showing 5 of 12). These functions will not be directly callable after loading.\n"
     ]
    },
    {
     "name": "stdout",
     "output_type": "stream",
     "text": [
      "x_shape:  (None, 8, 8, 256)\n",
      "B, w, h, C:  None 8 8 256\n",
      "x_shape:  (None, 4, 4, 512)\n",
      "B, w, h, C:  None 4 4 512\n",
      "INFO:tensorflow:Assets written to: /Users/dip_phd/PHD/wandb/run-20221013_123617-3r4niog2/files/model-best/assets\n"
     ]
    },
    {
     "name": "stderr",
     "output_type": "stream",
     "text": [
      "INFO:tensorflow:Assets written to: /Users/dip_phd/PHD/wandb/run-20221013_123617-3r4niog2/files/model-best/assets\n",
      "\u001b[34m\u001b[1mwandb\u001b[0m: Adding directory to artifact (/Users/dip_phd/PHD/wandb/run-20221013_123617-3r4niog2/files/model-best)... Done. 0.3s\n"
     ]
    },
    {
     "name": "stdout",
     "output_type": "stream",
     "text": [
      "2500/2500 [==============================] - 161s 64ms/step - loss: 4.1820 - acc: 0.0646 - top_k_categorical_accuracy: 0.2260 - val_loss: 7.2977 - val_acc: 0.0299 - val_top_k_categorical_accuracy: 0.1260\n",
      "Epoch 2/60\n",
      "2500/2500 [==============================] - ETA: 0s - loss: 3.5494 - acc: 0.1525 - top_k_categorical_accuracy: 0.4083x_shape:  (None, 32, 32, 64)\n",
      "B, w, h, C:  None 32 32 64\n",
      "x_shape:  (None, 16, 16, 128)\n",
      "B, w, h, C:  None 16 16 128\n",
      "x_shape:  (None, 8, 8, 256)\n",
      "B, w, h, C:  None 8 8 256\n",
      "x_shape:  (None, 4, 4, 512)\n",
      "B, w, h, C:  None 4 4 512\n",
      "x_shape:  (None, 32, 32, 64)\n",
      "B, w, h, C:  None 32 32 64\n",
      "x_shape:  (None, 16, 16, 128)\n",
      "B, w, h, C:  None 16 16 128\n",
      "x_shape:  (None, 8, 8, 256)\n",
      "B, w, h, C:  None 8 8 256\n",
      "x_shape:  (None, 4, 4, 512)\n",
      "B, w, h, C:  None 4 4 512\n",
      "x_shape:  (None, 32, 32, 64)\n",
      "B, w, h, C:  None 32 32 64\n",
      "x_shape:  (None, 16, 16, 128)\n",
      "B, w, h, C:  None 16 16 128\n",
      "x_shape:  (None, 8, 8, 256)\n",
      "B, w, h, C:  None 8 8 256\n",
      "x_shape:  (None, 4, 4, 512)\n",
      "B, w, h, C:  None 4 4 512\n",
      "x_shape:  (None, 32, 32, 64)\n",
      "B, w, h, C:  None 32 32 64\n",
      "x_shape:  (None, 16, 16, 128)\n",
      "B, w, h, C:  None 16 16 128\n",
      "x_shape:  (None, 8, 8, 256)\n",
      "B, w, h, C:  None 8 8 256\n",
      "x_shape:  (None, 4, 4, 512)\n",
      "B, w, h, C:  None 4 4 512\n",
      "x_shape:  (None, 32, 32, 64)\n",
      "B, w, h, C:  None 32 32 64\n",
      "x_shape:  (None, 16, 16, 128)\n",
      "B, w, h, C:  None 16 16 128\n"
     ]
    },
    {
     "name": "stderr",
     "output_type": "stream",
     "text": [
      "WARNING:absl:Found untraced functions such as _jit_compiled_convolution_op, _jit_compiled_convolution_op, _jit_compiled_convolution_op, _jit_compiled_convolution_op, _jit_compiled_convolution_op while saving (showing 5 of 12). These functions will not be directly callable after loading.\n"
     ]
    },
    {
     "name": "stdout",
     "output_type": "stream",
     "text": [
      "x_shape:  (None, 8, 8, 256)\n",
      "B, w, h, C:  None 8 8 256\n",
      "x_shape:  (None, 4, 4, 512)\n",
      "B, w, h, C:  None 4 4 512\n",
      "INFO:tensorflow:Assets written to: /Users/dip_phd/PHD/wandb/run-20221013_123617-3r4niog2/files/model-best/assets\n"
     ]
    },
    {
     "name": "stderr",
     "output_type": "stream",
     "text": [
      "INFO:tensorflow:Assets written to: /Users/dip_phd/PHD/wandb/run-20221013_123617-3r4niog2/files/model-best/assets\n",
      "\u001b[34m\u001b[1mwandb\u001b[0m: Adding directory to artifact (/Users/dip_phd/PHD/wandb/run-20221013_123617-3r4niog2/files/model-best)... Done. 0.2s\n"
     ]
    },
    {
     "name": "stdout",
     "output_type": "stream",
     "text": [
      "2500/2500 [==============================] - 211s 85ms/step - loss: 3.5494 - acc: 0.1525 - top_k_categorical_accuracy: 0.4083 - val_loss: 3.7783 - val_acc: 0.1681 - val_top_k_categorical_accuracy: 0.4382\n",
      "Epoch 3/60\n",
      "2500/2500 [==============================] - ETA: 0s - loss: 3.0552 - acc: 0.2311 - top_k_categorical_accuracy: 0.5342x_shape:  (None, 32, 32, 64)\n",
      "B, w, h, C:  None 32 32 64\n",
      "x_shape:  (None, 16, 16, 128)\n",
      "B, w, h, C:  None 16 16 128\n",
      "x_shape:  (None, 8, 8, 256)\n",
      "B, w, h, C:  None 8 8 256\n",
      "x_shape:  (None, 4, 4, 512)\n",
      "B, w, h, C:  None 4 4 512\n",
      "x_shape:  (None, 32, 32, 64)\n",
      "B, w, h, C:  None 32 32 64\n",
      "x_shape:  (None, 16, 16, 128)\n",
      "B, w, h, C:  None 16 16 128\n",
      "x_shape:  (None, 8, 8, 256)\n",
      "B, w, h, C:  None 8 8 256\n",
      "x_shape:  (None, 4, 4, 512)\n",
      "B, w, h, C:  None 4 4 512\n",
      "x_shape:  (None, 32, 32, 64)\n",
      "B, w, h, C:  None 32 32 64\n",
      "x_shape:  (None, 16, 16, 128)\n",
      "B, w, h, C:  None 16 16 128\n",
      "x_shape:  (None, 8, 8, 256)\n",
      "B, w, h, C:  None 8 8 256\n",
      "x_shape:  (None, 4, 4, 512)\n",
      "B, w, h, C:  None 4 4 512\n",
      "x_shape:  (None, 32, 32, 64)\n",
      "B, w, h, C:  None 32 32 64\n",
      "x_shape:  (None, 16, 16, 128)\n",
      "B, w, h, C:  None 16 16 128\n",
      "x_shape:  (None, 8, 8, 256)\n",
      "B, w, h, C:  None 8 8 256\n",
      "x_shape:  (None, 4, 4, 512)\n",
      "B, w, h, C:  None 4 4 512\n",
      "x_shape:  (None, 32, 32, 64)\n",
      "B, w, h, C:  None 32 32 64\n",
      "x_shape:  (None, 16, 16, 128)\n",
      "B, w, h, C:  None 16 16 128\n"
     ]
    },
    {
     "name": "stderr",
     "output_type": "stream",
     "text": [
      "WARNING:absl:Found untraced functions such as _jit_compiled_convolution_op, _jit_compiled_convolution_op, _jit_compiled_convolution_op, _jit_compiled_convolution_op, _jit_compiled_convolution_op while saving (showing 5 of 12). These functions will not be directly callable after loading.\n"
     ]
    },
    {
     "name": "stdout",
     "output_type": "stream",
     "text": [
      "x_shape:  (None, 8, 8, 256)\n",
      "B, w, h, C:  None 8 8 256\n",
      "x_shape:  (None, 4, 4, 512)\n",
      "B, w, h, C:  None 4 4 512\n",
      "INFO:tensorflow:Assets written to: /Users/dip_phd/PHD/wandb/run-20221013_123617-3r4niog2/files/model-best/assets\n"
     ]
    },
    {
     "name": "stderr",
     "output_type": "stream",
     "text": [
      "INFO:tensorflow:Assets written to: /Users/dip_phd/PHD/wandb/run-20221013_123617-3r4niog2/files/model-best/assets\n",
      "\u001b[34m\u001b[1mwandb\u001b[0m: Adding directory to artifact (/Users/dip_phd/PHD/wandb/run-20221013_123617-3r4niog2/files/model-best)... Done. 0.2s\n"
     ]
    },
    {
     "name": "stdout",
     "output_type": "stream",
     "text": [
      "2500/2500 [==============================] - 159s 64ms/step - loss: 3.0552 - acc: 0.2311 - top_k_categorical_accuracy: 0.5342 - val_loss: 3.2112 - val_acc: 0.2332 - val_top_k_categorical_accuracy: 0.5201\n",
      "Epoch 4/60\n",
      "2500/2500 [==============================] - ETA: 0s - loss: 2.6623 - acc: 0.3082 - top_k_categorical_accuracy: 0.6356x_shape:  (None, 32, 32, 64)\n",
      "B, w, h, C:  None 32 32 64\n",
      "x_shape:  (None, 16, 16, 128)\n",
      "B, w, h, C:  None 16 16 128\n",
      "x_shape:  (None, 8, 8, 256)\n",
      "B, w, h, C:  None 8 8 256\n",
      "x_shape:  (None, 4, 4, 512)\n",
      "B, w, h, C:  None 4 4 512\n",
      "x_shape:  (None, 32, 32, 64)\n",
      "B, w, h, C:  None 32 32 64\n",
      "x_shape:  (None, 16, 16, 128)\n",
      "B, w, h, C:  None 16 16 128\n",
      "x_shape:  (None, 8, 8, 256)\n",
      "B, w, h, C:  None 8 8 256\n",
      "x_shape:  (None, 4, 4, 512)\n",
      "B, w, h, C:  None 4 4 512\n",
      "x_shape:  (None, 32, 32, 64)\n",
      "B, w, h, C:  None 32 32 64\n",
      "x_shape:  (None, 16, 16, 128)\n",
      "B, w, h, C:  None 16 16 128\n",
      "x_shape:  (None, 8, 8, 256)\n",
      "B, w, h, C:  None 8 8 256\n",
      "x_shape:  (None, 4, 4, 512)\n",
      "B, w, h, C:  None 4 4 512\n",
      "x_shape:  (None, 32, 32, 64)\n",
      "B, w, h, C:  None 32 32 64\n",
      "x_shape:  (None, 16, 16, 128)\n",
      "B, w, h, C:  None 16 16 128\n",
      "x_shape:  (None, 8, 8, 256)\n",
      "B, w, h, C:  None 8 8 256\n",
      "x_shape:  (None, 4, 4, 512)\n",
      "B, w, h, C:  None 4 4 512\n",
      "x_shape:  (None, 32, 32, 64)\n",
      "B, w, h, C:  None 32 32 64\n",
      "x_shape:  (None, 16, 16, 128)\n",
      "B, w, h, C:  None 16 16 128\n"
     ]
    },
    {
     "name": "stderr",
     "output_type": "stream",
     "text": [
      "WARNING:absl:Found untraced functions such as _jit_compiled_convolution_op, _jit_compiled_convolution_op, _jit_compiled_convolution_op, _jit_compiled_convolution_op, _jit_compiled_convolution_op while saving (showing 5 of 12). These functions will not be directly callable after loading.\n"
     ]
    },
    {
     "name": "stdout",
     "output_type": "stream",
     "text": [
      "x_shape:  (None, 8, 8, 256)\n",
      "B, w, h, C:  None 8 8 256\n",
      "x_shape:  (None, 4, 4, 512)\n",
      "B, w, h, C:  None 4 4 512\n",
      "INFO:tensorflow:Assets written to: /Users/dip_phd/PHD/wandb/run-20221013_123617-3r4niog2/files/model-best/assets\n"
     ]
    },
    {
     "name": "stderr",
     "output_type": "stream",
     "text": [
      "INFO:tensorflow:Assets written to: /Users/dip_phd/PHD/wandb/run-20221013_123617-3r4niog2/files/model-best/assets\n",
      "\u001b[34m\u001b[1mwandb\u001b[0m: Adding directory to artifact (/Users/dip_phd/PHD/wandb/run-20221013_123617-3r4niog2/files/model-best)... Done. 0.2s\n"
     ]
    },
    {
     "name": "stdout",
     "output_type": "stream",
     "text": [
      "2500/2500 [==============================] - 1100s 440ms/step - loss: 2.6623 - acc: 0.3082 - top_k_categorical_accuracy: 0.6356 - val_loss: 2.7137 - val_acc: 0.3000 - val_top_k_categorical_accuracy: 0.6293\n",
      "Epoch 5/60\n",
      "2500/2500 [==============================] - ETA: 0s - loss: 2.3767 - acc: 0.3659 - top_k_categorical_accuracy: 0.6984x_shape:  (None, 32, 32, 64)\n",
      "B, w, h, C:  None 32 32 64\n",
      "x_shape:  (None, 16, 16, 128)\n",
      "B, w, h, C:  None 16 16 128\n",
      "x_shape:  (None, 8, 8, 256)\n",
      "B, w, h, C:  None 8 8 256\n",
      "x_shape:  (None, 4, 4, 512)\n",
      "B, w, h, C:  None 4 4 512\n",
      "x_shape:  (None, 32, 32, 64)\n",
      "B, w, h, C:  None 32 32 64\n",
      "x_shape:  (None, 16, 16, 128)\n",
      "B, w, h, C:  None 16 16 128\n",
      "x_shape:  (None, 8, 8, 256)\n",
      "B, w, h, C:  None 8 8 256\n",
      "x_shape:  (None, 4, 4, 512)\n",
      "B, w, h, C:  None 4 4 512\n",
      "x_shape:  (None, 32, 32, 64)\n",
      "B, w, h, C:  None 32 32 64\n",
      "x_shape:  (None, 16, 16, 128)\n",
      "B, w, h, C:  None 16 16 128\n",
      "x_shape:  (None, 8, 8, 256)\n",
      "B, w, h, C:  None 8 8 256\n",
      "x_shape:  (None, 4, 4, 512)\n",
      "B, w, h, C:  None 4 4 512\n",
      "x_shape:  (None, 32, 32, 64)\n",
      "B, w, h, C:  None 32 32 64\n",
      "x_shape:  (None, 16, 16, 128)\n",
      "B, w, h, C:  None 16 16 128\n",
      "x_shape:  (None, 8, 8, 256)\n",
      "B, w, h, C:  None 8 8 256\n",
      "x_shape:  (None, 4, 4, 512)\n",
      "B, w, h, C:  None 4 4 512\n",
      "x_shape:  (None, 32, 32, 64)\n",
      "B, w, h, C:  None 32 32 64\n",
      "x_shape:  (None, 16, 16, 128)\n",
      "B, w, h, C:  None 16 16 128\n"
     ]
    },
    {
     "name": "stderr",
     "output_type": "stream",
     "text": [
      "WARNING:absl:Found untraced functions such as _jit_compiled_convolution_op, _jit_compiled_convolution_op, _jit_compiled_convolution_op, _jit_compiled_convolution_op, _jit_compiled_convolution_op while saving (showing 5 of 12). These functions will not be directly callable after loading.\n"
     ]
    },
    {
     "name": "stdout",
     "output_type": "stream",
     "text": [
      "x_shape:  (None, 8, 8, 256)\n",
      "B, w, h, C:  None 8 8 256\n",
      "x_shape:  (None, 4, 4, 512)\n",
      "B, w, h, C:  None 4 4 512\n",
      "INFO:tensorflow:Assets written to: /Users/dip_phd/PHD/wandb/run-20221013_123617-3r4niog2/files/model-best/assets\n"
     ]
    },
    {
     "name": "stderr",
     "output_type": "stream",
     "text": [
      "INFO:tensorflow:Assets written to: /Users/dip_phd/PHD/wandb/run-20221013_123617-3r4niog2/files/model-best/assets\n",
      "\u001b[34m\u001b[1mwandb\u001b[0m: Adding directory to artifact (/Users/dip_phd/PHD/wandb/run-20221013_123617-3r4niog2/files/model-best)... Done. 0.2s\n"
     ]
    },
    {
     "name": "stdout",
     "output_type": "stream",
     "text": [
      "2500/2500 [==============================] - 163s 65ms/step - loss: 2.3767 - acc: 0.3659 - top_k_categorical_accuracy: 0.6984 - val_loss: 2.4560 - val_acc: 0.3617 - val_top_k_categorical_accuracy: 0.6849\n",
      "Epoch 6/60\n",
      "2500/2500 [==============================] - 212s 85ms/step - loss: 2.1431 - acc: 0.4157 - top_k_categorical_accuracy: 0.7483 - val_loss: 2.6073 - val_acc: 0.3433 - val_top_k_categorical_accuracy: 0.6540\n",
      "Epoch 7/60\n",
      "2500/2500 [==============================] - ETA: 0s - loss: 1.9308 - acc: 0.4641 - top_k_categorical_accuracy: 0.7876x_shape:  (None, 32, 32, 64)\n",
      "B, w, h, C:  None 32 32 64\n",
      "x_shape:  (None, 16, 16, 128)\n",
      "B, w, h, C:  None 16 16 128\n",
      "x_shape:  (None, 8, 8, 256)\n",
      "B, w, h, C:  None 8 8 256\n",
      "x_shape:  (None, 4, 4, 512)\n",
      "B, w, h, C:  None 4 4 512\n",
      "x_shape:  (None, 32, 32, 64)\n",
      "B, w, h, C:  None 32 32 64\n",
      "x_shape:  (None, 16, 16, 128)\n",
      "B, w, h, C:  None 16 16 128\n",
      "x_shape:  (None, 8, 8, 256)\n",
      "B, w, h, C:  None 8 8 256\n",
      "x_shape:  (None, 4, 4, 512)\n",
      "B, w, h, C:  None 4 4 512\n",
      "x_shape:  (None, 32, 32, 64)\n",
      "B, w, h, C:  None 32 32 64\n",
      "x_shape:  (None, 16, 16, 128)\n",
      "B, w, h, C:  None 16 16 128\n",
      "x_shape:  (None, 8, 8, 256)\n",
      "B, w, h, C:  None 8 8 256\n",
      "x_shape:  (None, 4, 4, 512)\n",
      "B, w, h, C:  None 4 4 512\n",
      "x_shape:  (None, 32, 32, 64)\n",
      "B, w, h, C:  None 32 32 64\n",
      "x_shape:  (None, 16, 16, 128)\n",
      "B, w, h, C:  None 16 16 128\n",
      "x_shape:  (None, 8, 8, 256)\n",
      "B, w, h, C:  None 8 8 256\n",
      "x_shape:  (None, 4, 4, 512)\n",
      "B, w, h, C:  None 4 4 512\n",
      "x_shape:  (None, 32, 32, 64)\n",
      "B, w, h, C:  None 32 32 64\n",
      "x_shape:  (None, 16, 16, 128)\n",
      "B, w, h, C:  None 16 16 128\n"
     ]
    },
    {
     "name": "stderr",
     "output_type": "stream",
     "text": [
      "WARNING:absl:Found untraced functions such as _jit_compiled_convolution_op, _jit_compiled_convolution_op, _jit_compiled_convolution_op, _jit_compiled_convolution_op, _jit_compiled_convolution_op while saving (showing 5 of 12). These functions will not be directly callable after loading.\n"
     ]
    },
    {
     "name": "stdout",
     "output_type": "stream",
     "text": [
      "x_shape:  (None, 8, 8, 256)\n",
      "B, w, h, C:  None 8 8 256\n",
      "x_shape:  (None, 4, 4, 512)\n",
      "B, w, h, C:  None 4 4 512\n",
      "INFO:tensorflow:Assets written to: /Users/dip_phd/PHD/wandb/run-20221013_123617-3r4niog2/files/model-best/assets\n"
     ]
    },
    {
     "name": "stderr",
     "output_type": "stream",
     "text": [
      "INFO:tensorflow:Assets written to: /Users/dip_phd/PHD/wandb/run-20221013_123617-3r4niog2/files/model-best/assets\n",
      "\u001b[34m\u001b[1mwandb\u001b[0m: Adding directory to artifact (/Users/dip_phd/PHD/wandb/run-20221013_123617-3r4niog2/files/model-best)... Done. 0.2s\n"
     ]
    },
    {
     "name": "stdout",
     "output_type": "stream",
     "text": [
      "2500/2500 [==============================] - 1196s 478ms/step - loss: 1.9308 - acc: 0.4641 - top_k_categorical_accuracy: 0.7876 - val_loss: 2.3407 - val_acc: 0.3924 - val_top_k_categorical_accuracy: 0.7253\n",
      "Epoch 8/60\n",
      "2500/2500 [==============================] - ETA: 0s - loss: 1.7452 - acc: 0.5075 - top_k_categorical_accuracy: 0.8206x_shape:  (None, 32, 32, 64)\n",
      "B, w, h, C:  None 32 32 64\n",
      "x_shape:  (None, 16, 16, 128)\n",
      "B, w, h, C:  None 16 16 128\n",
      "x_shape:  (None, 8, 8, 256)\n",
      "B, w, h, C:  None 8 8 256\n",
      "x_shape:  (None, 4, 4, 512)\n",
      "B, w, h, C:  None 4 4 512\n",
      "x_shape:  (None, 32, 32, 64)\n",
      "B, w, h, C:  None 32 32 64\n",
      "x_shape:  (None, 16, 16, 128)\n",
      "B, w, h, C:  None 16 16 128\n",
      "x_shape:  (None, 8, 8, 256)\n",
      "B, w, h, C:  None 8 8 256\n",
      "x_shape:  (None, 4, 4, 512)\n",
      "B, w, h, C:  None 4 4 512\n",
      "x_shape:  (None, 32, 32, 64)\n",
      "B, w, h, C:  None 32 32 64\n",
      "x_shape:  (None, 16, 16, 128)\n",
      "B, w, h, C:  None 16 16 128\n",
      "x_shape:  (None, 8, 8, 256)\n",
      "B, w, h, C:  None 8 8 256\n",
      "x_shape:  (None, 4, 4, 512)\n",
      "B, w, h, C:  None 4 4 512\n",
      "x_shape:  (None, 32, 32, 64)\n",
      "B, w, h, C:  None 32 32 64\n",
      "x_shape:  (None, 16, 16, 128)\n",
      "B, w, h, C:  None 16 16 128\n",
      "x_shape:  (None, 8, 8, 256)\n",
      "B, w, h, C:  None 8 8 256\n",
      "x_shape:  (None, 4, 4, 512)\n",
      "B, w, h, C:  None 4 4 512\n",
      "x_shape:  (None, 32, 32, 64)\n",
      "B, w, h, C:  None 32 32 64\n",
      "x_shape:  (None, 16, 16, 128)\n",
      "B, w, h, C:  None 16 16 128\n"
     ]
    },
    {
     "name": "stderr",
     "output_type": "stream",
     "text": [
      "WARNING:absl:Found untraced functions such as _jit_compiled_convolution_op, _jit_compiled_convolution_op, _jit_compiled_convolution_op, _jit_compiled_convolution_op, _jit_compiled_convolution_op while saving (showing 5 of 12). These functions will not be directly callable after loading.\n"
     ]
    },
    {
     "name": "stdout",
     "output_type": "stream",
     "text": [
      "x_shape:  (None, 8, 8, 256)\n",
      "B, w, h, C:  None 8 8 256\n",
      "x_shape:  (None, 4, 4, 512)\n",
      "B, w, h, C:  None 4 4 512\n",
      "INFO:tensorflow:Assets written to: /Users/dip_phd/PHD/wandb/run-20221013_123617-3r4niog2/files/model-best/assets\n"
     ]
    },
    {
     "name": "stderr",
     "output_type": "stream",
     "text": [
      "INFO:tensorflow:Assets written to: /Users/dip_phd/PHD/wandb/run-20221013_123617-3r4niog2/files/model-best/assets\n",
      "\u001b[34m\u001b[1mwandb\u001b[0m: Adding directory to artifact (/Users/dip_phd/PHD/wandb/run-20221013_123617-3r4niog2/files/model-best)... Done. 0.2s\n"
     ]
    },
    {
     "name": "stdout",
     "output_type": "stream",
     "text": [
      "2500/2500 [==============================] - 160s 64ms/step - loss: 1.7452 - acc: 0.5075 - top_k_categorical_accuracy: 0.8206 - val_loss: 2.1018 - val_acc: 0.4443 - val_top_k_categorical_accuracy: 0.7577\n",
      "Epoch 9/60\n",
      "2500/2500 [==============================] - ETA: 0s - loss: 1.5527 - acc: 0.5532 - top_k_categorical_accuracy: 0.8584x_shape:  (None, 32, 32, 64)\n",
      "B, w, h, C:  None 32 32 64\n",
      "x_shape:  (None, 16, 16, 128)\n",
      "B, w, h, C:  None 16 16 128\n",
      "x_shape:  (None, 8, 8, 256)\n",
      "B, w, h, C:  None 8 8 256\n",
      "x_shape:  (None, 4, 4, 512)\n",
      "B, w, h, C:  None 4 4 512\n",
      "x_shape:  (None, 32, 32, 64)\n",
      "B, w, h, C:  None 32 32 64\n",
      "x_shape:  (None, 16, 16, 128)\n",
      "B, w, h, C:  None 16 16 128\n",
      "x_shape:  (None, 8, 8, 256)\n",
      "B, w, h, C:  None 8 8 256\n",
      "x_shape:  (None, 4, 4, 512)\n",
      "B, w, h, C:  None 4 4 512\n",
      "x_shape:  (None, 32, 32, 64)\n",
      "B, w, h, C:  None 32 32 64\n",
      "x_shape:  (None, 16, 16, 128)\n",
      "B, w, h, C:  None 16 16 128\n",
      "x_shape:  (None, 8, 8, 256)\n",
      "B, w, h, C:  None 8 8 256\n",
      "x_shape:  (None, 4, 4, 512)\n",
      "B, w, h, C:  None 4 4 512\n",
      "x_shape:  (None, 32, 32, 64)\n",
      "B, w, h, C:  None 32 32 64\n",
      "x_shape:  (None, 16, 16, 128)\n",
      "B, w, h, C:  None 16 16 128\n",
      "x_shape:  (None, 8, 8, 256)\n",
      "B, w, h, C:  None 8 8 256\n",
      "x_shape:  (None, 4, 4, 512)\n",
      "B, w, h, C:  None 4 4 512\n",
      "x_shape:  (None, 32, 32, 64)\n",
      "B, w, h, C:  None 32 32 64\n",
      "x_shape:  (None, 16, 16, 128)\n",
      "B, w, h, C:  None 16 16 128\n"
     ]
    },
    {
     "name": "stderr",
     "output_type": "stream",
     "text": [
      "WARNING:absl:Found untraced functions such as _jit_compiled_convolution_op, _jit_compiled_convolution_op, _jit_compiled_convolution_op, _jit_compiled_convolution_op, _jit_compiled_convolution_op while saving (showing 5 of 12). These functions will not be directly callable after loading.\n"
     ]
    },
    {
     "name": "stdout",
     "output_type": "stream",
     "text": [
      "x_shape:  (None, 8, 8, 256)\n",
      "B, w, h, C:  None 8 8 256\n",
      "x_shape:  (None, 4, 4, 512)\n",
      "B, w, h, C:  None 4 4 512\n",
      "INFO:tensorflow:Assets written to: /Users/dip_phd/PHD/wandb/run-20221013_123617-3r4niog2/files/model-best/assets\n"
     ]
    },
    {
     "name": "stderr",
     "output_type": "stream",
     "text": [
      "INFO:tensorflow:Assets written to: /Users/dip_phd/PHD/wandb/run-20221013_123617-3r4niog2/files/model-best/assets\n",
      "\u001b[34m\u001b[1mwandb\u001b[0m: Adding directory to artifact (/Users/dip_phd/PHD/wandb/run-20221013_123617-3r4niog2/files/model-best)... Done. 0.2s\n"
     ]
    },
    {
     "name": "stdout",
     "output_type": "stream",
     "text": [
      "2500/2500 [==============================] - 160s 64ms/step - loss: 1.5527 - acc: 0.5532 - top_k_categorical_accuracy: 0.8584 - val_loss: 2.1200 - val_acc: 0.4569 - val_top_k_categorical_accuracy: 0.7725\n",
      "Epoch 10/60\n",
      "2500/2500 [==============================] - ETA: 0s - loss: 1.3843 - acc: 0.5951 - top_k_categorical_accuracy: 0.8837x_shape:  (None, 32, 32, 64)\n",
      "B, w, h, C:  None 32 32 64\n",
      "x_shape:  (None, 16, 16, 128)\n",
      "B, w, h, C:  None 16 16 128\n",
      "x_shape:  (None, 8, 8, 256)\n",
      "B, w, h, C:  None 8 8 256\n",
      "x_shape:  (None, 4, 4, 512)\n",
      "B, w, h, C:  None 4 4 512\n",
      "x_shape:  (None, 32, 32, 64)\n",
      "B, w, h, C:  None 32 32 64\n",
      "x_shape:  (None, 16, 16, 128)\n",
      "B, w, h, C:  None 16 16 128\n",
      "x_shape:  (None, 8, 8, 256)\n",
      "B, w, h, C:  None 8 8 256\n",
      "x_shape:  (None, 4, 4, 512)\n",
      "B, w, h, C:  None 4 4 512\n",
      "x_shape:  (None, 32, 32, 64)\n",
      "B, w, h, C:  None 32 32 64\n",
      "x_shape:  (None, 16, 16, 128)\n",
      "B, w, h, C:  None 16 16 128\n",
      "x_shape:  (None, 8, 8, 256)\n",
      "B, w, h, C:  None 8 8 256\n",
      "x_shape:  (None, 4, 4, 512)\n",
      "B, w, h, C:  None 4 4 512\n",
      "x_shape:  (None, 32, 32, 64)\n",
      "B, w, h, C:  None 32 32 64\n",
      "x_shape:  (None, 16, 16, 128)\n",
      "B, w, h, C:  None 16 16 128\n",
      "x_shape:  (None, 8, 8, 256)\n",
      "B, w, h, C:  None 8 8 256\n",
      "x_shape:  (None, 4, 4, 512)\n",
      "B, w, h, C:  None 4 4 512\n",
      "x_shape:  (None, 32, 32, 64)\n",
      "B, w, h, C:  None 32 32 64\n",
      "x_shape:  (None, 16, 16, 128)\n",
      "B, w, h, C:  None 16 16 128\n"
     ]
    },
    {
     "name": "stderr",
     "output_type": "stream",
     "text": [
      "WARNING:absl:Found untraced functions such as _jit_compiled_convolution_op, _jit_compiled_convolution_op, _jit_compiled_convolution_op, _jit_compiled_convolution_op, _jit_compiled_convolution_op while saving (showing 5 of 12). These functions will not be directly callable after loading.\n"
     ]
    },
    {
     "name": "stdout",
     "output_type": "stream",
     "text": [
      "x_shape:  (None, 8, 8, 256)\n",
      "B, w, h, C:  None 8 8 256\n",
      "x_shape:  (None, 4, 4, 512)\n",
      "B, w, h, C:  None 4 4 512\n",
      "INFO:tensorflow:Assets written to: /Users/dip_phd/PHD/wandb/run-20221013_123617-3r4niog2/files/model-best/assets\n"
     ]
    },
    {
     "name": "stderr",
     "output_type": "stream",
     "text": [
      "INFO:tensorflow:Assets written to: /Users/dip_phd/PHD/wandb/run-20221013_123617-3r4niog2/files/model-best/assets\n",
      "\u001b[34m\u001b[1mwandb\u001b[0m: Adding directory to artifact (/Users/dip_phd/PHD/wandb/run-20221013_123617-3r4niog2/files/model-best)... Done. 0.2s\n"
     ]
    },
    {
     "name": "stdout",
     "output_type": "stream",
     "text": [
      "2500/2500 [==============================] - 168s 67ms/step - loss: 1.3843 - acc: 0.5951 - top_k_categorical_accuracy: 0.8837 - val_loss: 2.0975 - val_acc: 0.4679 - val_top_k_categorical_accuracy: 0.7751\n",
      "Epoch 11/60\n",
      "2500/2500 [==============================] - ETA: 0s - loss: 1.2091 - acc: 0.6401 - top_k_categorical_accuracy: 0.9095x_shape:  (None, 32, 32, 64)\n",
      "B, w, h, C:  None 32 32 64\n",
      "x_shape:  (None, 16, 16, 128)\n",
      "B, w, h, C:  None 16 16 128\n",
      "x_shape:  (None, 8, 8, 256)\n",
      "B, w, h, C:  None 8 8 256\n",
      "x_shape:  (None, 4, 4, 512)\n",
      "B, w, h, C:  None 4 4 512\n",
      "x_shape:  (None, 32, 32, 64)\n",
      "B, w, h, C:  None 32 32 64\n",
      "x_shape:  (None, 16, 16, 128)\n",
      "B, w, h, C:  None 16 16 128\n",
      "x_shape:  (None, 8, 8, 256)\n",
      "B, w, h, C:  None 8 8 256\n",
      "x_shape:  (None, 4, 4, 512)\n",
      "B, w, h, C:  None 4 4 512\n",
      "x_shape:  (None, 32, 32, 64)\n",
      "B, w, h, C:  None 32 32 64\n",
      "x_shape:  (None, 16, 16, 128)\n",
      "B, w, h, C:  None 16 16 128\n",
      "x_shape:  (None, 8, 8, 256)\n",
      "B, w, h, C:  None 8 8 256\n",
      "x_shape:  (None, 4, 4, 512)\n",
      "B, w, h, C:  None 4 4 512\n",
      "x_shape:  (None, 32, 32, 64)\n",
      "B, w, h, C:  None 32 32 64\n",
      "x_shape:  (None, 16, 16, 128)\n",
      "B, w, h, C:  None 16 16 128\n",
      "x_shape:  (None, 8, 8, 256)\n",
      "B, w, h, C:  None 8 8 256\n",
      "x_shape:  (None, 4, 4, 512)\n",
      "B, w, h, C:  None 4 4 512\n",
      "x_shape:  (None, 32, 32, 64)\n",
      "B, w, h, C:  None 32 32 64\n",
      "x_shape:  (None, 16, 16, 128)\n",
      "B, w, h, C:  None 16 16 128\n"
     ]
    },
    {
     "name": "stderr",
     "output_type": "stream",
     "text": [
      "WARNING:absl:Found untraced functions such as _jit_compiled_convolution_op, _jit_compiled_convolution_op, _jit_compiled_convolution_op, _jit_compiled_convolution_op, _jit_compiled_convolution_op while saving (showing 5 of 12). These functions will not be directly callable after loading.\n"
     ]
    },
    {
     "name": "stdout",
     "output_type": "stream",
     "text": [
      "x_shape:  (None, 8, 8, 256)\n",
      "B, w, h, C:  None 8 8 256\n",
      "x_shape:  (None, 4, 4, 512)\n",
      "B, w, h, C:  None 4 4 512\n",
      "INFO:tensorflow:Assets written to: /Users/dip_phd/PHD/wandb/run-20221013_123617-3r4niog2/files/model-best/assets\n"
     ]
    },
    {
     "name": "stderr",
     "output_type": "stream",
     "text": [
      "INFO:tensorflow:Assets written to: /Users/dip_phd/PHD/wandb/run-20221013_123617-3r4niog2/files/model-best/assets\n",
      "\u001b[34m\u001b[1mwandb\u001b[0m: Adding directory to artifact (/Users/dip_phd/PHD/wandb/run-20221013_123617-3r4niog2/files/model-best)... Done. 0.2s\n"
     ]
    },
    {
     "name": "stdout",
     "output_type": "stream",
     "text": [
      "2500/2500 [==============================] - 2040s 816ms/step - loss: 1.2091 - acc: 0.6401 - top_k_categorical_accuracy: 0.9095 - val_loss: 2.0956 - val_acc: 0.4759 - val_top_k_categorical_accuracy: 0.7872\n",
      "Epoch 12/60\n",
      "2500/2500 [==============================] - ETA: 0s - loss: 1.0545 - acc: 0.6779 - top_k_categorical_accuracy: 0.9299x_shape:  (None, 32, 32, 64)\n",
      "B, w, h, C:  None 32 32 64\n",
      "x_shape:  (None, 16, 16, 128)\n",
      "B, w, h, C:  None 16 16 128\n",
      "x_shape:  (None, 8, 8, 256)\n",
      "B, w, h, C:  None 8 8 256\n",
      "x_shape:  (None, 4, 4, 512)\n",
      "B, w, h, C:  None 4 4 512\n",
      "x_shape:  (None, 32, 32, 64)\n",
      "B, w, h, C:  None 32 32 64\n",
      "x_shape:  (None, 16, 16, 128)\n",
      "B, w, h, C:  None 16 16 128\n",
      "x_shape:  (None, 8, 8, 256)\n",
      "B, w, h, C:  None 8 8 256\n",
      "x_shape:  (None, 4, 4, 512)\n",
      "B, w, h, C:  None 4 4 512\n",
      "x_shape:  (None, 32, 32, 64)\n",
      "B, w, h, C:  None 32 32 64\n",
      "x_shape:  (None, 16, 16, 128)\n",
      "B, w, h, C:  None 16 16 128\n",
      "x_shape:  (None, 8, 8, 256)\n",
      "B, w, h, C:  None 8 8 256\n",
      "x_shape:  (None, 4, 4, 512)\n",
      "B, w, h, C:  None 4 4 512\n",
      "x_shape:  (None, 32, 32, 64)\n",
      "B, w, h, C:  None 32 32 64\n",
      "x_shape:  (None, 16, 16, 128)\n",
      "B, w, h, C:  None 16 16 128\n",
      "x_shape:  (None, 8, 8, 256)\n",
      "B, w, h, C:  None 8 8 256\n",
      "x_shape:  (None, 4, 4, 512)\n",
      "B, w, h, C:  None 4 4 512\n",
      "x_shape:  (None, 32, 32, 64)\n",
      "B, w, h, C:  None 32 32 64\n",
      "x_shape:  (None, 16, 16, 128)\n",
      "B, w, h, C:  None 16 16 128\n"
     ]
    },
    {
     "name": "stderr",
     "output_type": "stream",
     "text": [
      "WARNING:absl:Found untraced functions such as _jit_compiled_convolution_op, _jit_compiled_convolution_op, _jit_compiled_convolution_op, _jit_compiled_convolution_op, _jit_compiled_convolution_op while saving (showing 5 of 12). These functions will not be directly callable after loading.\n"
     ]
    },
    {
     "name": "stdout",
     "output_type": "stream",
     "text": [
      "x_shape:  (None, 8, 8, 256)\n",
      "B, w, h, C:  None 8 8 256\n",
      "x_shape:  (None, 4, 4, 512)\n",
      "B, w, h, C:  None 4 4 512\n",
      "INFO:tensorflow:Assets written to: /Users/dip_phd/PHD/wandb/run-20221013_123617-3r4niog2/files/model-best/assets\n"
     ]
    },
    {
     "name": "stderr",
     "output_type": "stream",
     "text": [
      "INFO:tensorflow:Assets written to: /Users/dip_phd/PHD/wandb/run-20221013_123617-3r4niog2/files/model-best/assets\n",
      "\u001b[34m\u001b[1mwandb\u001b[0m: Adding directory to artifact (/Users/dip_phd/PHD/wandb/run-20221013_123617-3r4niog2/files/model-best)... Done. 0.2s\n"
     ]
    },
    {
     "name": "stdout",
     "output_type": "stream",
     "text": [
      "2500/2500 [==============================] - 161s 64ms/step - loss: 1.0545 - acc: 0.6779 - top_k_categorical_accuracy: 0.9299 - val_loss: 2.1387 - val_acc: 0.4909 - val_top_k_categorical_accuracy: 0.7878\n",
      "Epoch 13/60\n",
      "2500/2500 [==============================] - 158s 63ms/step - loss: 0.9016 - acc: 0.7233 - top_k_categorical_accuracy: 0.9488 - val_loss: 2.4607 - val_acc: 0.4637 - val_top_k_categorical_accuracy: 0.7678\n",
      "Epoch 14/60\n",
      "2500/2500 [==============================] - 158s 63ms/step - loss: 0.7582 - acc: 0.7612 - top_k_categorical_accuracy: 0.9646 - val_loss: 2.4556 - val_acc: 0.4672 - val_top_k_categorical_accuracy: 0.7713\n",
      "Epoch 15/60\n",
      "2500/2500 [==============================] - 166s 66ms/step - loss: 0.6407 - acc: 0.7960 - top_k_categorical_accuracy: 0.9750 - val_loss: 2.4633 - val_acc: 0.4900 - val_top_k_categorical_accuracy: 0.7806\n",
      "Epoch 16/60\n",
      "2500/2500 [==============================] - 169s 68ms/step - loss: 0.5437 - acc: 0.8252 - top_k_categorical_accuracy: 0.9825 - val_loss: 2.7183 - val_acc: 0.4832 - val_top_k_categorical_accuracy: 0.7705\n",
      "Epoch 17/60\n",
      "2500/2500 [==============================] - ETA: 0s - loss: 0.4691 - acc: 0.8453 - top_k_categorical_accuracy: 0.9874x_shape:  (None, 32, 32, 64)\n",
      "B, w, h, C:  None 32 32 64\n",
      "x_shape:  (None, 16, 16, 128)\n",
      "B, w, h, C:  None 16 16 128\n",
      "x_shape:  (None, 8, 8, 256)\n",
      "B, w, h, C:  None 8 8 256\n",
      "x_shape:  (None, 4, 4, 512)\n",
      "B, w, h, C:  None 4 4 512\n",
      "x_shape:  (None, 32, 32, 64)\n",
      "B, w, h, C:  None 32 32 64\n",
      "x_shape:  (None, 16, 16, 128)\n",
      "B, w, h, C:  None 16 16 128\n",
      "x_shape:  (None, 8, 8, 256)\n",
      "B, w, h, C:  None 8 8 256\n",
      "x_shape:  (None, 4, 4, 512)\n",
      "B, w, h, C:  None 4 4 512\n",
      "x_shape:  (None, 32, 32, 64)\n",
      "B, w, h, C:  None 32 32 64\n",
      "x_shape:  (None, 16, 16, 128)\n",
      "B, w, h, C:  None 16 16 128\n",
      "x_shape:  (None, 8, 8, 256)\n",
      "B, w, h, C:  None 8 8 256\n",
      "x_shape:  (None, 4, 4, 512)\n",
      "B, w, h, C:  None 4 4 512\n",
      "x_shape:  (None, 32, 32, 64)\n",
      "B, w, h, C:  None 32 32 64\n",
      "x_shape:  (None, 16, 16, 128)\n",
      "B, w, h, C:  None 16 16 128\n",
      "x_shape:  (None, 8, 8, 256)\n",
      "B, w, h, C:  None 8 8 256\n",
      "x_shape:  (None, 4, 4, 512)\n",
      "B, w, h, C:  None 4 4 512\n",
      "x_shape:  (None, 32, 32, 64)\n",
      "B, w, h, C:  None 32 32 64\n",
      "x_shape:  (None, 16, 16, 128)\n",
      "B, w, h, C:  None 16 16 128\n"
     ]
    },
    {
     "name": "stderr",
     "output_type": "stream",
     "text": [
      "WARNING:absl:Found untraced functions such as _jit_compiled_convolution_op, _jit_compiled_convolution_op, _jit_compiled_convolution_op, _jit_compiled_convolution_op, _jit_compiled_convolution_op while saving (showing 5 of 12). These functions will not be directly callable after loading.\n"
     ]
    },
    {
     "name": "stdout",
     "output_type": "stream",
     "text": [
      "x_shape:  (None, 8, 8, 256)\n",
      "B, w, h, C:  None 8 8 256\n",
      "x_shape:  (None, 4, 4, 512)\n",
      "B, w, h, C:  None 4 4 512\n",
      "INFO:tensorflow:Assets written to: /Users/dip_phd/PHD/wandb/run-20221013_123617-3r4niog2/files/model-best/assets\n"
     ]
    },
    {
     "name": "stderr",
     "output_type": "stream",
     "text": [
      "INFO:tensorflow:Assets written to: /Users/dip_phd/PHD/wandb/run-20221013_123617-3r4niog2/files/model-best/assets\n",
      "\u001b[34m\u001b[1mwandb\u001b[0m: Adding directory to artifact (/Users/dip_phd/PHD/wandb/run-20221013_123617-3r4niog2/files/model-best)... Done. 0.2s\n"
     ]
    },
    {
     "name": "stdout",
     "output_type": "stream",
     "text": [
      "2500/2500 [==============================] - 174s 70ms/step - loss: 0.4691 - acc: 0.8453 - top_k_categorical_accuracy: 0.9874 - val_loss: 2.5893 - val_acc: 0.5006 - val_top_k_categorical_accuracy: 0.7895\n",
      "Epoch 18/60\n",
      "2500/2500 [==============================] - 173s 69ms/step - loss: 0.4027 - acc: 0.8704 - top_k_categorical_accuracy: 0.9909 - val_loss: 3.1126 - val_acc: 0.4753 - val_top_k_categorical_accuracy: 0.7614\n",
      "Epoch 19/60\n",
      "2500/2500 [==============================] - 179s 72ms/step - loss: 0.3639 - acc: 0.8786 - top_k_categorical_accuracy: 0.9931 - val_loss: 3.0044 - val_acc: 0.4940 - val_top_k_categorical_accuracy: 0.7749\n",
      "Epoch 20/60\n",
      "2500/2500 [==============================] - 186s 75ms/step - loss: 0.3261 - acc: 0.8935 - top_k_categorical_accuracy: 0.9940 - val_loss: 3.3836 - val_acc: 0.4781 - val_top_k_categorical_accuracy: 0.7597\n",
      "Epoch 21/60\n",
      "2500/2500 [==============================] - 188s 75ms/step - loss: 0.2958 - acc: 0.9038 - top_k_categorical_accuracy: 0.9951 - val_loss: 3.1566 - val_acc: 0.4965 - val_top_k_categorical_accuracy: 0.7746\n",
      "Epoch 22/60\n",
      "2500/2500 [==============================] - 188s 75ms/step - loss: 0.2759 - acc: 0.9110 - top_k_categorical_accuracy: 0.9951 - val_loss: 3.3209 - val_acc: 0.4897 - val_top_k_categorical_accuracy: 0.7774\n",
      "Epoch 23/60\n",
      "2500/2500 [==============================] - 186s 74ms/step - loss: 0.2494 - acc: 0.9182 - top_k_categorical_accuracy: 0.9968 - val_loss: 3.2269 - val_acc: 0.4977 - val_top_k_categorical_accuracy: 0.7777\n",
      "Epoch 24/60\n",
      "2500/2500 [==============================] - 186s 75ms/step - loss: 0.2436 - acc: 0.9207 - top_k_categorical_accuracy: 0.9962 - val_loss: 3.4317 - val_acc: 0.4816 - val_top_k_categorical_accuracy: 0.7680\n",
      "Epoch 25/60\n",
      "2500/2500 [==============================] - 188s 75ms/step - loss: 0.2224 - acc: 0.9279 - top_k_categorical_accuracy: 0.9972 - val_loss: 3.4563 - val_acc: 0.4872 - val_top_k_categorical_accuracy: 0.7724\n",
      "Epoch 26/60\n",
      "2500/2500 [==============================] - 187s 75ms/step - loss: 0.2033 - acc: 0.9339 - top_k_categorical_accuracy: 0.9972 - val_loss: 3.5252 - val_acc: 0.4925 - val_top_k_categorical_accuracy: 0.7699\n",
      "Epoch 27/60\n",
      "2500/2500 [==============================] - 188s 75ms/step - loss: 0.1942 - acc: 0.9371 - top_k_categorical_accuracy: 0.9978 - val_loss: 3.5244 - val_acc: 0.4897 - val_top_k_categorical_accuracy: 0.7700\n",
      "Epoch 28/60\n",
      "2500/2500 [==============================] - 190s 76ms/step - loss: 0.1727 - acc: 0.9433 - top_k_categorical_accuracy: 0.9984 - val_loss: 3.5874 - val_acc: 0.4868 - val_top_k_categorical_accuracy: 0.7682\n",
      "Epoch 29/60\n",
      "2500/2500 [==============================] - 192s 77ms/step - loss: 0.1792 - acc: 0.9409 - top_k_categorical_accuracy: 0.9983 - val_loss: 3.7075 - val_acc: 0.4871 - val_top_k_categorical_accuracy: 0.7676\n",
      "Epoch 30/60\n",
      "2500/2500 [==============================] - 195s 78ms/step - loss: 0.1711 - acc: 0.9449 - top_k_categorical_accuracy: 0.9983 - val_loss: 3.8842 - val_acc: 0.4834 - val_top_k_categorical_accuracy: 0.7602\n",
      "Epoch 31/60\n",
      "2500/2500 [==============================] - ETA: 0s - loss: 0.1641 - acc: 0.9462 - top_k_categorical_accuracy: 0.9985x_shape:  (None, 32, 32, 64)\n",
      "B, w, h, C:  None 32 32 64\n",
      "x_shape:  (None, 16, 16, 128)\n",
      "B, w, h, C:  None 16 16 128\n",
      "x_shape:  (None, 8, 8, 256)\n",
      "B, w, h, C:  None 8 8 256\n",
      "x_shape:  (None, 4, 4, 512)\n",
      "B, w, h, C:  None 4 4 512\n",
      "x_shape:  (None, 32, 32, 64)\n",
      "B, w, h, C:  None 32 32 64\n",
      "x_shape:  (None, 16, 16, 128)\n",
      "B, w, h, C:  None 16 16 128\n",
      "x_shape:  (None, 8, 8, 256)\n",
      "B, w, h, C:  None 8 8 256\n",
      "x_shape:  (None, 4, 4, 512)\n",
      "B, w, h, C:  None 4 4 512\n",
      "x_shape:  (None, 32, 32, 64)\n",
      "B, w, h, C:  None 32 32 64\n",
      "x_shape:  (None, 16, 16, 128)\n",
      "B, w, h, C:  None 16 16 128\n",
      "x_shape:  (None, 8, 8, 256)\n",
      "B, w, h, C:  None 8 8 256\n",
      "x_shape:  (None, 4, 4, 512)\n",
      "B, w, h, C:  None 4 4 512\n",
      "x_shape:  (None, 32, 32, 64)\n",
      "B, w, h, C:  None 32 32 64\n",
      "x_shape:  (None, 16, 16, 128)\n",
      "B, w, h, C:  None 16 16 128\n",
      "x_shape:  (None, 8, 8, 256)\n",
      "B, w, h, C:  None 8 8 256\n",
      "x_shape:  (None, 4, 4, 512)\n",
      "B, w, h, C:  None 4 4 512\n",
      "x_shape:  (None, 32, 32, 64)\n",
      "B, w, h, C:  None 32 32 64\n",
      "x_shape:  (None, 16, 16, 128)\n",
      "B, w, h, C:  None 16 16 128\n",
      "x_shape:  (None, 8, 8, 256)\n",
      "B, w, h, C:  None 8 8 256\n",
      "x_shape:  (None, 4, 4, 512)\n",
      "B, w, h, C:  None 4 4 512\n"
     ]
    },
    {
     "name": "stderr",
     "output_type": "stream",
     "text": [
      "WARNING:absl:Found untraced functions such as _jit_compiled_convolution_op, _jit_compiled_convolution_op, _jit_compiled_convolution_op, _jit_compiled_convolution_op, _jit_compiled_convolution_op while saving (showing 5 of 12). These functions will not be directly callable after loading.\n"
     ]
    },
    {
     "name": "stdout",
     "output_type": "stream",
     "text": [
      "INFO:tensorflow:Assets written to: /Users/dip_phd/PHD/wandb/run-20221013_123617-3r4niog2/files/model-best/assets\n"
     ]
    },
    {
     "name": "stderr",
     "output_type": "stream",
     "text": [
      "INFO:tensorflow:Assets written to: /Users/dip_phd/PHD/wandb/run-20221013_123617-3r4niog2/files/model-best/assets\n",
      "\u001b[34m\u001b[1mwandb\u001b[0m: Adding directory to artifact (/Users/dip_phd/PHD/wandb/run-20221013_123617-3r4niog2/files/model-best)... Done. 0.2s\n"
     ]
    },
    {
     "name": "stdout",
     "output_type": "stream",
     "text": [
      "2500/2500 [==============================] - 193s 77ms/step - loss: 0.1641 - acc: 0.9462 - top_k_categorical_accuracy: 0.9985 - val_loss: 3.5740 - val_acc: 0.5022 - val_top_k_categorical_accuracy: 0.7767\n",
      "Epoch 32/60\n",
      "2500/2500 [==============================] - 196s 78ms/step - loss: 0.1463 - acc: 0.9525 - top_k_categorical_accuracy: 0.9985 - val_loss: 3.9945 - val_acc: 0.4867 - val_top_k_categorical_accuracy: 0.7649\n",
      "Epoch 33/60\n",
      "2500/2500 [==============================] - 187s 75ms/step - loss: 0.1519 - acc: 0.9507 - top_k_categorical_accuracy: 0.9987 - val_loss: 3.7737 - val_acc: 0.4843 - val_top_k_categorical_accuracy: 0.7674\n",
      "Epoch 34/60\n",
      "2500/2500 [==============================] - 190s 76ms/step - loss: 0.1477 - acc: 0.9521 - top_k_categorical_accuracy: 0.9986 - val_loss: 3.7237 - val_acc: 0.4957 - val_top_k_categorical_accuracy: 0.7755\n",
      "Epoch 35/60\n",
      "1806/2500 [====================>.........] - ETA: 48s - loss: 0.1255 - acc: 0.9599 - top_k_categorical_accuracy: 0.9987"
     ]
    },
    {
     "name": "stderr",
     "output_type": "stream",
     "text": [
      "wandb: Network error (ConnectionError), entering retry loop.\n"
     ]
    },
    {
     "name": "stdout",
     "output_type": "stream",
     "text": [
      "2500/2500 [==============================] - 264s 106ms/step - loss: 0.1309 - acc: 0.9579 - top_k_categorical_accuracy: 0.9988 - val_loss: 3.7205 - val_acc: 0.5015 - val_top_k_categorical_accuracy: 0.7724\n",
      "Epoch 36/60\n",
      "1448/2500 [================>.............] - ETA: 1:01 - loss: 0.1261 - acc: 0.9592 - top_k_categorical_accuracy: 0.9987"
     ]
    }
   ],
   "source": [
    "# Min\n",
    "M_vgg_16.compile(loss=categorical_crossentropy, \n",
    "              optimizer=Adam(learning_rate=0.001), \n",
    "              metrics=['acc','top_k_categorical_accuracy'])\n",
    "\n",
    "history = M_vgg_16.fit(X_train,  # 학습할 데이터\n",
    "                    y_train,  # 학습할 레이블\n",
    "                    epochs=EPOCHS,  # 전체 학습할 횟수\n",
    "                    batch_size=BATCH_SIZE,  # 배치 사이즈\n",
    "                    use_multiprocessing=True,\n",
    "                    validation_data=(X_valid, y_valid), # 검증 데이터로 확인\n",
    "                    callbacks=[wandbcallback_M]\n",
    "                   )"
   ]
  },
  {
   "cell_type": "code",
   "execution_count": 34,
   "id": "90f9723b-c121-429a-983b-e57e3be61466",
   "metadata": {
    "collapsed": true,
    "jupyter": {
     "outputs_hidden": true
    },
    "tags": []
   },
   "outputs": [
    {
     "name": "stdout",
     "output_type": "stream",
     "text": [
      "Epoch 1/60\n",
      "2500/2500 [==============================] - 200s 71ms/step - loss: 4.1989 - acc: 0.0551 - top_k_categorical_accuracy: 0.2044 - val_loss: 3.9461 - val_acc: 0.0825 - val_top_k_categorical_accuracy: 0.2761 - _timestamp: 1664964363.0000 - _runtime: 234.0000\n",
      "Epoch 2/60\n",
      "2500/2500 [==============================] - 173s 69ms/step - loss: 3.8876 - acc: 0.0952 - top_k_categorical_accuracy: 0.2996 - val_loss: 3.9771 - val_acc: 0.0888 - val_top_k_categorical_accuracy: 0.2740 - _timestamp: 1664964535.0000 - _runtime: 406.0000\n",
      "Epoch 3/60\n",
      "2500/2500 [==============================] - 173s 69ms/step - loss: 3.7274 - acc: 0.1185 - top_k_categorical_accuracy: 0.3508 - val_loss: 3.7316 - val_acc: 0.1197 - val_top_k_categorical_accuracy: 0.3618 - _timestamp: 1664964708.0000 - _runtime: 579.0000\n",
      "Epoch 4/60\n",
      "2500/2500 [==============================] - 173s 69ms/step - loss: 3.5755 - acc: 0.1464 - top_k_categorical_accuracy: 0.3957 - val_loss: 3.6377 - val_acc: 0.1445 - val_top_k_categorical_accuracy: 0.3868 - _timestamp: 1664964881.0000 - _runtime: 752.0000\n",
      "Epoch 5/60\n",
      "2500/2500 [==============================] - 173s 69ms/step - loss: 3.4296 - acc: 0.1709 - top_k_categorical_accuracy: 0.4393 - val_loss: 4.0713 - val_acc: 0.1822 - val_top_k_categorical_accuracy: 0.4480 - _timestamp: 1664965054.0000 - _runtime: 925.0000\n",
      "Epoch 6/60\n",
      "2500/2500 [==============================] - 173s 69ms/step - loss: 3.2931 - acc: 0.1931 - top_k_categorical_accuracy: 0.4754 - val_loss: 3.6594 - val_acc: 0.1963 - val_top_k_categorical_accuracy: 0.4771 - _timestamp: 1664965228.0000 - _runtime: 1099.0000\n",
      "Epoch 7/60\n",
      "2500/2500 [==============================] - 173s 69ms/step - loss: 3.2003 - acc: 0.2125 - top_k_categorical_accuracy: 0.4983 - val_loss: 3.3422 - val_acc: 0.1974 - val_top_k_categorical_accuracy: 0.4779 - _timestamp: 1664965401.0000 - _runtime: 1272.0000\n",
      "Epoch 8/60\n",
      "2500/2500 [==============================] - 172s 69ms/step - loss: 3.0984 - acc: 0.2300 - top_k_categorical_accuracy: 0.5229 - val_loss: 6.3918 - val_acc: 0.0764 - val_top_k_categorical_accuracy: 0.2468 - _timestamp: 1664965574.0000 - _runtime: 1445.0000\n",
      "Epoch 9/60\n",
      "2500/2500 [==============================] - 172s 69ms/step - loss: 3.0248 - acc: 0.2424 - top_k_categorical_accuracy: 0.5415 - val_loss: 4.3802 - val_acc: 0.1953 - val_top_k_categorical_accuracy: 0.4740 - _timestamp: 1664965746.0000 - _runtime: 1617.0000\n",
      "Epoch 10/60\n",
      "2500/2500 [==============================] - 173s 69ms/step - loss: 2.9456 - acc: 0.2599 - top_k_categorical_accuracy: 0.5623 - val_loss: 30.6882 - val_acc: 0.2343 - val_top_k_categorical_accuracy: 0.5353 - _timestamp: 1664965918.0000 - _runtime: 1789.0000\n",
      "Epoch 11/60\n",
      "2500/2500 [==============================] - 173s 69ms/step - loss: 2.8022 - acc: 0.2876 - top_k_categorical_accuracy: 0.5939 - val_loss: 109.1057 - val_acc: 0.2560 - val_top_k_categorical_accuracy: 0.5503 - _timestamp: 1664966090.0000 - _runtime: 1961.0000\n",
      "Epoch 12/60\n",
      "2500/2500 [==============================] - 173s 69ms/step - loss: 2.7674 - acc: 0.2953 - top_k_categorical_accuracy: 0.6051 - val_loss: 4.1896 - val_acc: 0.2744 - val_top_k_categorical_accuracy: 0.5688 - _timestamp: 1664966263.0000 - _runtime: 2134.0000\n",
      "Epoch 13/60\n",
      "2500/2500 [==============================] - 172s 69ms/step - loss: 2.7109 - acc: 0.3079 - top_k_categorical_accuracy: 0.6158 - val_loss: 15.5163 - val_acc: 0.2660 - val_top_k_categorical_accuracy: 0.5658 - _timestamp: 1664966436.0000 - _runtime: 2307.0000\n",
      "Epoch 14/60\n",
      "2500/2500 [==============================] - 172s 69ms/step - loss: 2.6049 - acc: 0.3291 - top_k_categorical_accuracy: 0.6420 - val_loss: 46.6698 - val_acc: 0.2620 - val_top_k_categorical_accuracy: 0.5584 - _timestamp: 1664966608.0000 - _runtime: 2479.0000\n",
      "Epoch 15/60\n",
      "2500/2500 [==============================] - 173s 69ms/step - loss: 2.5242 - acc: 0.3472 - top_k_categorical_accuracy: 0.6576 - val_loss: 184.1409 - val_acc: 0.3131 - val_top_k_categorical_accuracy: 0.6219 - _timestamp: 1664966780.0000 - _runtime: 2651.0000\n",
      "Epoch 16/60\n",
      "2500/2500 [==============================] - 173s 69ms/step - loss: 2.4398 - acc: 0.3599 - top_k_categorical_accuracy: 0.6758 - val_loss: 18.2862 - val_acc: 0.3002 - val_top_k_categorical_accuracy: 0.6018 - _timestamp: 1664966953.0000 - _runtime: 2824.0000\n",
      "Epoch 17/60\n",
      "2500/2500 [==============================] - 173s 69ms/step - loss: 2.3800 - acc: 0.3728 - top_k_categorical_accuracy: 0.6904 - val_loss: 117.2729 - val_acc: 0.2974 - val_top_k_categorical_accuracy: 0.6158 - _timestamp: 1664967126.0000 - _runtime: 2997.0000\n",
      "Epoch 18/60\n",
      "2500/2500 [==============================] - 174s 69ms/step - loss: 2.3503 - acc: 0.3798 - top_k_categorical_accuracy: 0.6977 - val_loss: 10.3291 - val_acc: 0.3250 - val_top_k_categorical_accuracy: 0.6366 - _timestamp: 1664967298.0000 - _runtime: 3169.0000\n",
      "Epoch 19/60\n",
      "2500/2500 [==============================] - 172s 69ms/step - loss: 2.1982 - acc: 0.4090 - top_k_categorical_accuracy: 0.7288 - val_loss: 65.9273 - val_acc: 0.2892 - val_top_k_categorical_accuracy: 0.5941 - _timestamp: 1664967472.0000 - _runtime: 3343.0000\n",
      "Epoch 20/60\n",
      "2500/2500 [==============================] - 173s 69ms/step - loss: 2.0930 - acc: 0.4326 - top_k_categorical_accuracy: 0.7512 - val_loss: 6.0593 - val_acc: 0.3351 - val_top_k_categorical_accuracy: 0.6384 - _timestamp: 1664967644.0000 - _runtime: 3515.0000\n",
      "Epoch 21/60\n",
      "2500/2500 [==============================] - 173s 69ms/step - loss: 2.0592 - acc: 0.4401 - top_k_categorical_accuracy: 0.7581 - val_loss: 133.6182 - val_acc: 0.3168 - val_top_k_categorical_accuracy: 0.6292 - _timestamp: 1664967817.0000 - _runtime: 3688.0000\n",
      "Epoch 22/60\n",
      "2500/2500 [==============================] - 173s 69ms/step - loss: 1.9396 - acc: 0.4672 - top_k_categorical_accuracy: 0.7800 - val_loss: 34.6163 - val_acc: 0.3335 - val_top_k_categorical_accuracy: 0.6385 - _timestamp: 1664967990.0000 - _runtime: 3861.0000\n",
      "Epoch 23/60\n",
      "2500/2500 [==============================] - 173s 69ms/step - loss: 1.8553 - acc: 0.4828 - top_k_categorical_accuracy: 0.7948 - val_loss: 148.7079 - val_acc: 0.3439 - val_top_k_categorical_accuracy: 0.6483 - _timestamp: 1664968163.0000 - _runtime: 4034.0000\n",
      "Epoch 24/60\n",
      "2500/2500 [==============================] - 173s 69ms/step - loss: 1.8470 - acc: 0.4878 - top_k_categorical_accuracy: 0.7972 - val_loss: 14.2937 - val_acc: 0.3386 - val_top_k_categorical_accuracy: 0.6458 - _timestamp: 1664968336.0000 - _runtime: 4207.0000\n",
      "Epoch 25/60\n",
      "2500/2500 [==============================] - 173s 69ms/step - loss: 1.6681 - acc: 0.5298 - top_k_categorical_accuracy: 0.8303 - val_loss: 28.5239 - val_acc: 0.3349 - val_top_k_categorical_accuracy: 0.6387 - _timestamp: 1664968509.0000 - _runtime: 4380.0000\n",
      "Epoch 26/60\n",
      "2500/2500 [==============================] - 174s 69ms/step - loss: 1.5515 - acc: 0.5565 - top_k_categorical_accuracy: 0.8507 - val_loss: 12.4694 - val_acc: 0.3440 - val_top_k_categorical_accuracy: 0.6478 - _timestamp: 1664968682.0000 - _runtime: 4553.0000\n",
      "Epoch 27/60\n",
      "2500/2500 [==============================] - 173s 69ms/step - loss: 1.5069 - acc: 0.5687 - top_k_categorical_accuracy: 0.8585 - val_loss: 11.3168 - val_acc: 0.3391 - val_top_k_categorical_accuracy: 0.6456 - _timestamp: 1664968855.0000 - _runtime: 4726.0000\n",
      "Epoch 28/60\n",
      "2500/2500 [==============================] - 174s 70ms/step - loss: 1.3983 - acc: 0.5940 - top_k_categorical_accuracy: 0.8767 - val_loss: 77.0245 - val_acc: 0.3521 - val_top_k_categorical_accuracy: 0.6564 - _timestamp: 1664969028.0000 - _runtime: 4899.0000\n",
      "Epoch 29/60\n",
      "2500/2500 [==============================] - 172s 69ms/step - loss: 1.2557 - acc: 0.6316 - top_k_categorical_accuracy: 0.8969 - val_loss: 9.8184 - val_acc: 0.3459 - val_top_k_categorical_accuracy: 0.6445 - _timestamp: 1664969202.0000 - _runtime: 5073.0000\n",
      "Epoch 30/60\n",
      "2500/2500 [==============================] - 173s 69ms/step - loss: 1.1604 - acc: 0.6554 - top_k_categorical_accuracy: 0.9118 - val_loss: 1185.2198 - val_acc: 0.3431 - val_top_k_categorical_accuracy: 0.6423 - _timestamp: 1664969374.0000 - _runtime: 5245.0000\n",
      "Epoch 31/60\n",
      "2500/2500 [==============================] - 173s 69ms/step - loss: 1.0422 - acc: 0.6852 - top_k_categorical_accuracy: 0.9284 - val_loss: 32.5059 - val_acc: 0.3353 - val_top_k_categorical_accuracy: 0.6301 - _timestamp: 1664969547.0000 - _runtime: 5418.0000\n",
      "Epoch 32/60\n",
      "2500/2500 [==============================] - 172s 69ms/step - loss: 0.9525 - acc: 0.7088 - top_k_categorical_accuracy: 0.9411 - val_loss: 18.0036 - val_acc: 0.3401 - val_top_k_categorical_accuracy: 0.6376 - _timestamp: 1664969720.0000 - _runtime: 5591.0000\n",
      "Epoch 33/60\n",
      "2500/2500 [==============================] - 173s 69ms/step - loss: 0.8594 - acc: 0.7365 - top_k_categorical_accuracy: 0.9514 - val_loss: 6.6526 - val_acc: 0.3122 - val_top_k_categorical_accuracy: 0.6093 - _timestamp: 1664969892.0000 - _runtime: 5763.0000\n",
      "Epoch 34/60\n",
      "2500/2500 [==============================] - 173s 69ms/step - loss: 0.7925 - acc: 0.7565 - top_k_categorical_accuracy: 0.9599 - val_loss: 5.7026 - val_acc: 0.3412 - val_top_k_categorical_accuracy: 0.6336 - _timestamp: 1664970065.0000 - _runtime: 5936.0000\n",
      "Epoch 35/60\n",
      "2500/2500 [==============================] - 173s 69ms/step - loss: 0.7064 - acc: 0.7797 - top_k_categorical_accuracy: 0.9678 - val_loss: 102.0133 - val_acc: 0.3170 - val_top_k_categorical_accuracy: 0.6112 - _timestamp: 1664970238.0000 - _runtime: 6109.0000\n",
      "Epoch 36/60\n",
      "2500/2500 [==============================] - 173s 69ms/step - loss: 0.7027 - acc: 0.7810 - top_k_categorical_accuracy: 0.9685 - val_loss: 58.3885 - val_acc: 0.3335 - val_top_k_categorical_accuracy: 0.6319 - _timestamp: 1664970411.0000 - _runtime: 6282.0000\n",
      "Epoch 37/60\n",
      "2500/2500 [==============================] - 172s 69ms/step - loss: 0.6442 - acc: 0.8011 - top_k_categorical_accuracy: 0.9725 - val_loss: 7.4465 - val_acc: 0.3451 - val_top_k_categorical_accuracy: 0.6358 - _timestamp: 1664970583.0000 - _runtime: 6454.0000\n",
      "Epoch 38/60\n",
      "2500/2500 [==============================] - 172s 69ms/step - loss: 0.6043 - acc: 0.8098 - top_k_categorical_accuracy: 0.9770 - val_loss: 8.2144 - val_acc: 0.3301 - val_top_k_categorical_accuracy: 0.6188 - _timestamp: 1664970755.0000 - _runtime: 6626.0000\n",
      "Epoch 39/60\n",
      "2500/2500 [==============================] - 172s 69ms/step - loss: 0.5373 - acc: 0.8324 - top_k_categorical_accuracy: 0.9816 - val_loss: 13.1499 - val_acc: 0.3404 - val_top_k_categorical_accuracy: 0.6287 - _timestamp: 1664970928.0000 - _runtime: 6799.0000\n",
      "Epoch 40/60\n",
      "2500/2500 [==============================] - 173s 69ms/step - loss: 0.4790 - acc: 0.8487 - top_k_categorical_accuracy: 0.9859 - val_loss: 6.1703 - val_acc: 0.3316 - val_top_k_categorical_accuracy: 0.6284 - _timestamp: 1664971100.0000 - _runtime: 6971.0000\n",
      "Epoch 41/60\n",
      "2500/2500 [==============================] - 173s 69ms/step - loss: 0.4567 - acc: 0.8571 - top_k_categorical_accuracy: 0.9880 - val_loss: 25.4292 - val_acc: 0.3321 - val_top_k_categorical_accuracy: 0.6278 - _timestamp: 1664971273.0000 - _runtime: 7144.0000\n",
      "Epoch 42/60\n",
      "2500/2500 [==============================] - 173s 69ms/step - loss: 0.4555 - acc: 0.8558 - top_k_categorical_accuracy: 0.9875 - val_loss: 34.2102 - val_acc: 0.3315 - val_top_k_categorical_accuracy: 0.6260 - _timestamp: 1664971446.0000 - _runtime: 7317.0000\n",
      "Epoch 43/60\n",
      "2500/2500 [==============================] - 172s 69ms/step - loss: 0.4141 - acc: 0.8701 - top_k_categorical_accuracy: 0.9900 - val_loss: 64.9689 - val_acc: 0.3311 - val_top_k_categorical_accuracy: 0.6169 - _timestamp: 1664971618.0000 - _runtime: 7489.0000\n",
      "Epoch 44/60\n",
      "2500/2500 [==============================] - 172s 69ms/step - loss: 0.4057 - acc: 0.8737 - top_k_categorical_accuracy: 0.9905 - val_loss: 8.0819 - val_acc: 0.3371 - val_top_k_categorical_accuracy: 0.6267 - _timestamp: 1664971791.0000 - _runtime: 7662.0000\n",
      "Epoch 45/60\n",
      "2500/2500 [==============================] - 173s 69ms/step - loss: 0.3869 - acc: 0.8788 - top_k_categorical_accuracy: 0.9921 - val_loss: 11.5900 - val_acc: 0.3423 - val_top_k_categorical_accuracy: 0.6266 - _timestamp: 1664971963.0000 - _runtime: 7834.0000\n",
      "Epoch 46/60\n",
      "2500/2500 [==============================] - 173s 69ms/step - loss: 0.3993 - acc: 0.8758 - top_k_categorical_accuracy: 0.9912 - val_loss: 22.9906 - val_acc: 0.3368 - val_top_k_categorical_accuracy: 0.6230 - _timestamp: 1664972136.0000 - _runtime: 8007.0000\n",
      "Epoch 47/60\n",
      "2500/2500 [==============================] - 172s 69ms/step - loss: 0.3304 - acc: 0.8939 - top_k_categorical_accuracy: 0.9949 - val_loss: 11.8216 - val_acc: 0.3433 - val_top_k_categorical_accuracy: 0.6305 - _timestamp: 1664972308.0000 - _runtime: 8179.0000\n",
      "Epoch 48/60\n",
      "2500/2500 [==============================] - 173s 69ms/step - loss: 0.3425 - acc: 0.8923 - top_k_categorical_accuracy: 0.9942 - val_loss: 866.3348 - val_acc: 0.3328 - val_top_k_categorical_accuracy: 0.6269 - _timestamp: 1664972481.0000 - _runtime: 8352.0000\n",
      "Epoch 49/60\n",
      "2500/2500 [==============================] - 173s 69ms/step - loss: 0.3387 - acc: 0.8939 - top_k_categorical_accuracy: 0.9940 - val_loss: 6.8608 - val_acc: 0.3403 - val_top_k_categorical_accuracy: 0.6304 - _timestamp: 1664972654.0000 - _runtime: 8525.0000\n",
      "Epoch 50/60\n",
      "2500/2500 [==============================] - 173s 69ms/step - loss: 0.3064 - acc: 0.9046 - top_k_categorical_accuracy: 0.9956 - val_loss: 17.6313 - val_acc: 0.3399 - val_top_k_categorical_accuracy: 0.6238 - _timestamp: 1664972826.0000 - _runtime: 8697.0000\n",
      "Epoch 51/60\n",
      "2500/2500 [==============================] - 173s 69ms/step - loss: 0.3000 - acc: 0.9068 - top_k_categorical_accuracy: 0.9954 - val_loss: 6.8983 - val_acc: 0.3426 - val_top_k_categorical_accuracy: 0.6299 - _timestamp: 1664972999.0000 - _runtime: 8870.0000\n",
      "Epoch 52/60\n",
      "2500/2500 [==============================] - 173s 69ms/step - loss: 0.3102 - acc: 0.9039 - top_k_categorical_accuracy: 0.9954 - val_loss: 9.1823 - val_acc: 0.3423 - val_top_k_categorical_accuracy: 0.6276 - _timestamp: 1664973172.0000 - _runtime: 9043.0000\n",
      "Epoch 53/60\n",
      "2500/2500 [==============================] - 173s 69ms/step - loss: 0.2973 - acc: 0.9093 - top_k_categorical_accuracy: 0.9956 - val_loss: 7.9733 - val_acc: 0.3462 - val_top_k_categorical_accuracy: 0.6349 - _timestamp: 1664973345.0000 - _runtime: 9216.0000\n",
      "Epoch 54/60\n",
      "2500/2500 [==============================] - 173s 69ms/step - loss: 0.3773 - acc: 0.8847 - top_k_categorical_accuracy: 0.9926 - val_loss: 820.0096 - val_acc: 0.3360 - val_top_k_categorical_accuracy: 0.6264 - _timestamp: 1664973517.0000 - _runtime: 9388.0000\n",
      "Epoch 55/60\n",
      "2500/2500 [==============================] - 173s 69ms/step - loss: 0.2401 - acc: 0.9257 - top_k_categorical_accuracy: 0.9968 - val_loss: 116.0503 - val_acc: 0.3340 - val_top_k_categorical_accuracy: 0.6381 - _timestamp: 1664973690.0000 - _runtime: 9561.0000\n",
      "Epoch 56/60\n",
      "2500/2500 [==============================] - 173s 69ms/step - loss: 0.2716 - acc: 0.9186 - top_k_categorical_accuracy: 0.9961 - val_loss: 12.1800 - val_acc: 0.3432 - val_top_k_categorical_accuracy: 0.6252 - _timestamp: 1664973863.0000 - _runtime: 9734.0000\n",
      "Epoch 57/60\n",
      "2500/2500 [==============================] - 173s 69ms/step - loss: 0.2792 - acc: 0.9149 - top_k_categorical_accuracy: 0.9962 - val_loss: 37.9111 - val_acc: 0.3485 - val_top_k_categorical_accuracy: 0.6354 - _timestamp: 1664974036.0000 - _runtime: 9907.0000\n",
      "Epoch 58/60\n",
      "2500/2500 [==============================] - 173s 69ms/step - loss: 0.2411 - acc: 0.9273 - top_k_categorical_accuracy: 0.9971 - val_loss: 84.7145 - val_acc: 0.3517 - val_top_k_categorical_accuracy: 0.6329 - _timestamp: 1664974209.0000 - _runtime: 10080.0000\n",
      "Epoch 59/60\n",
      "2500/2500 [==============================] - 173s 69ms/step - loss: 0.2631 - acc: 0.9201 - top_k_categorical_accuracy: 0.9967 - val_loss: 39.3391 - val_acc: 0.3398 - val_top_k_categorical_accuracy: 0.6290 - _timestamp: 1664974382.0000 - _runtime: 10253.0000\n",
      "Epoch 60/60\n",
      "2500/2500 [==============================] - 173s 69ms/step - loss: 0.2522 - acc: 0.9238 - top_k_categorical_accuracy: 0.9972 - val_loss: 21.0444 - val_acc: 0.3327 - val_top_k_categorical_accuracy: 0.6214 - _timestamp: 1664974554.0000 - _runtime: 10425.0000\n"
     ]
    }
   ],
   "source": [
    "# Dual\n",
    "D_vgg_16.compile(loss=categorical_crossentropy, \n",
    "              optimizer=Adam(learning_rate=0.001), \n",
    "              metrics=['acc','top_k_categorical_accuracy'])\n",
    "\n",
    "\n",
    "\n",
    "history = D_vgg_16.fit(X_train,  # 학습할 데이터\n",
    "                    y_train,  # 학습할 레이블\n",
    "                    epochs=EPOCHS,  # 전체 학습할 횟수\n",
    "                    batch_size=BATCH_SIZE,  # 배치 사이즈\n",
    "                    use_multiprocessing=True,\n",
    "                    validation_data=(X_valid, y_valid), # 검증 데이터로 확인\n",
    "                    callbacks=[wandbcallback_D]\n",
    "                   )"
   ]
  },
  {
   "cell_type": "code",
   "execution_count": 43,
   "id": "a685a9b5-2043-4564-ad4a-834e818ea04f",
   "metadata": {
    "collapsed": true,
    "jupyter": {
     "outputs_hidden": true
    },
    "tags": []
   },
   "outputs": [
    {
     "name": "stdout",
     "output_type": "stream",
     "text": [
      "Epoch 1/60\n",
      "2500/2500 [==============================] - 200s 71ms/step - loss: 4.2150 - acc: 0.0472 - top_k_categorical_accuracy: 0.1931 - val_loss: 4.0740 - val_acc: 0.0643 - val_top_k_categorical_accuracy: 0.2382 - _timestamp: 1665023217.0000 - _runtime: 267.0000\n",
      "Epoch 2/60\n",
      "2500/2500 [==============================] - 173s 69ms/step - loss: 3.8942 - acc: 0.0913 - top_k_categorical_accuracy: 0.2942 - val_loss: 3.8199 - val_acc: 0.1081 - val_top_k_categorical_accuracy: 0.3193 - _timestamp: 1665023390.0000 - _runtime: 440.0000\n",
      "Epoch 3/60\n",
      "2500/2500 [==============================] - 172s 69ms/step - loss: 3.7063 - acc: 0.1187 - top_k_categorical_accuracy: 0.3538 - val_loss: 3.6204 - val_acc: 0.1416 - val_top_k_categorical_accuracy: 0.3782 - _timestamp: 1665023562.0000 - _runtime: 612.0000\n",
      "Epoch 4/60\n",
      "2500/2500 [==============================] - 173s 69ms/step - loss: 3.5462 - acc: 0.1457 - top_k_categorical_accuracy: 0.3997 - val_loss: 3.4955 - val_acc: 0.1483 - val_top_k_categorical_accuracy: 0.4134 - _timestamp: 1665023735.0000 - _runtime: 785.0000\n",
      "Epoch 5/60\n",
      "2500/2500 [==============================] - 172s 69ms/step - loss: 3.4086 - acc: 0.1676 - top_k_categorical_accuracy: 0.4390 - val_loss: 3.6459 - val_acc: 0.1553 - val_top_k_categorical_accuracy: 0.4249 - _timestamp: 1665023907.0000 - _runtime: 957.0000\n",
      "Epoch 6/60\n",
      "2500/2500 [==============================] - 172s 69ms/step - loss: 3.2457 - acc: 0.1931 - top_k_categorical_accuracy: 0.4825 - val_loss: 3.2508 - val_acc: 0.2007 - val_top_k_categorical_accuracy: 0.4987 - _timestamp: 1665024079.0000 - _runtime: 1129.0000\n",
      "Epoch 7/60\n",
      "2500/2500 [==============================] - 173s 69ms/step - loss: 3.1184 - acc: 0.2171 - top_k_categorical_accuracy: 0.5185 - val_loss: 4.4811 - val_acc: 0.2266 - val_top_k_categorical_accuracy: 0.5304 - _timestamp: 1665024252.0000 - _runtime: 1302.0000\n",
      "Epoch 8/60\n",
      "2500/2500 [==============================] - 172s 69ms/step - loss: 3.0530 - acc: 0.2323 - top_k_categorical_accuracy: 0.5298 - val_loss: 3.1275 - val_acc: 0.2360 - val_top_k_categorical_accuracy: 0.5372 - _timestamp: 1665024424.0000 - _runtime: 1474.0000\n",
      "Epoch 9/60\n",
      "2500/2500 [==============================] - 172s 69ms/step - loss: 2.8497 - acc: 0.2683 - top_k_categorical_accuracy: 0.5814 - val_loss: 3.1178 - val_acc: 0.2584 - val_top_k_categorical_accuracy: 0.5711 - _timestamp: 1665024596.0000 - _runtime: 1646.0000\n",
      "Epoch 10/60\n",
      "2500/2500 [==============================] - 172s 69ms/step - loss: 3.1139 - acc: 0.2230 - top_k_categorical_accuracy: 0.5172 - val_loss: 99.1230 - val_acc: 0.2381 - val_top_k_categorical_accuracy: 0.5337 - _timestamp: 1665024769.0000 - _runtime: 1819.0000\n",
      "Epoch 11/60\n",
      "2500/2500 [==============================] - 172s 69ms/step - loss: 2.8542 - acc: 0.2723 - top_k_categorical_accuracy: 0.5805 - val_loss: 6.8848 - val_acc: 0.2783 - val_top_k_categorical_accuracy: 0.5886 - _timestamp: 1665024941.0000 - _runtime: 1991.0000\n",
      "Epoch 12/60\n",
      "2500/2500 [==============================] - 172s 69ms/step - loss: 2.8573 - acc: 0.2714 - top_k_categorical_accuracy: 0.5818 - val_loss: 3.3948 - val_acc: 0.2801 - val_top_k_categorical_accuracy: 0.6050 - _timestamp: 1665025113.0000 - _runtime: 2163.0000\n",
      "Epoch 13/60\n",
      "2500/2500 [==============================] - 172s 69ms/step - loss: 2.6289 - acc: 0.3183 - top_k_categorical_accuracy: 0.6337 - val_loss: 25.4183 - val_acc: 0.2890 - val_top_k_categorical_accuracy: 0.6070 - _timestamp: 1665025285.0000 - _runtime: 2335.0000\n",
      "Epoch 14/60\n",
      "2500/2500 [==============================] - 172s 69ms/step - loss: 2.4893 - acc: 0.3438 - top_k_categorical_accuracy: 0.6672 - val_loss: 112.0734 - val_acc: 0.3175 - val_top_k_categorical_accuracy: 0.6333 - _timestamp: 1665025458.0000 - _runtime: 2508.0000\n",
      "Epoch 15/60\n",
      "2500/2500 [==============================] - 172s 69ms/step - loss: 2.3823 - acc: 0.3650 - top_k_categorical_accuracy: 0.6897 - val_loss: 53.5032 - val_acc: 0.3240 - val_top_k_categorical_accuracy: 0.6514 - _timestamp: 1665025630.0000 - _runtime: 2680.0000\n",
      "Epoch 16/60\n",
      "2500/2500 [==============================] - 172s 69ms/step - loss: 2.3096 - acc: 0.3827 - top_k_categorical_accuracy: 0.7055 - val_loss: 11.9656 - val_acc: 0.3423 - val_top_k_categorical_accuracy: 0.6687 - _timestamp: 1665025802.0000 - _runtime: 2852.0000\n",
      "Epoch 17/60\n",
      "2500/2500 [==============================] - 173s 69ms/step - loss: 2.3630 - acc: 0.3706 - top_k_categorical_accuracy: 0.6952 - val_loss: 6.3678 - val_acc: 0.3549 - val_top_k_categorical_accuracy: 0.6740 - _timestamp: 1665025975.0000 - _runtime: 3025.0000\n",
      "Epoch 18/60\n",
      "2500/2500 [==============================] - 172s 69ms/step - loss: 2.1467 - acc: 0.4141 - top_k_categorical_accuracy: 0.7382 - val_loss: 12.0302 - val_acc: 0.3399 - val_top_k_categorical_accuracy: 0.6553 - _timestamp: 1665026148.0000 - _runtime: 3198.0000\n",
      "Epoch 19/60\n",
      "2500/2500 [==============================] - 173s 69ms/step - loss: 2.0505 - acc: 0.4379 - top_k_categorical_accuracy: 0.7571 - val_loss: 9.7242 - val_acc: 0.3315 - val_top_k_categorical_accuracy: 0.6584 - _timestamp: 1665026320.0000 - _runtime: 3370.0000\n",
      "Epoch 20/60\n",
      "2500/2500 [==============================] - 173s 69ms/step - loss: 2.0158 - acc: 0.4473 - top_k_categorical_accuracy: 0.7656 - val_loss: 18.1210 - val_acc: 0.3841 - val_top_k_categorical_accuracy: 0.6964 - _timestamp: 1665026493.0000 - _runtime: 3543.0000\n",
      "Epoch 21/60\n",
      "2500/2500 [==============================] - 172s 69ms/step - loss: 1.8415 - acc: 0.4851 - top_k_categorical_accuracy: 0.7978 - val_loss: 18.6480 - val_acc: 0.3738 - val_top_k_categorical_accuracy: 0.6930 - _timestamp: 1665026666.0000 - _runtime: 3716.0000\n",
      "Epoch 22/60\n",
      "2500/2500 [==============================] - 172s 69ms/step - loss: 1.8325 - acc: 0.4904 - top_k_categorical_accuracy: 0.7982 - val_loss: 6.7454 - val_acc: 0.3695 - val_top_k_categorical_accuracy: 0.6874 - _timestamp: 1665026839.0000 - _runtime: 3889.0000\n",
      "Epoch 23/60\n",
      "2500/2500 [==============================] - 173s 69ms/step - loss: 1.7136 - acc: 0.5145 - top_k_categorical_accuracy: 0.8191 - val_loss: 351.3832 - val_acc: 0.3881 - val_top_k_categorical_accuracy: 0.7023 - _timestamp: 1665027011.0000 - _runtime: 4061.0000\n",
      "Epoch 24/60\n",
      "2500/2500 [==============================] - 172s 69ms/step - loss: 1.5898 - acc: 0.5426 - top_k_categorical_accuracy: 0.8441 - val_loss: 25.4546 - val_acc: 0.3844 - val_top_k_categorical_accuracy: 0.7002 - _timestamp: 1665027184.0000 - _runtime: 4234.0000\n",
      "Epoch 25/60\n",
      "2500/2500 [==============================] - 172s 69ms/step - loss: 1.5121 - acc: 0.5628 - top_k_categorical_accuracy: 0.8572 - val_loss: 115.3093 - val_acc: 0.3862 - val_top_k_categorical_accuracy: 0.6955 - _timestamp: 1665027357.0000 - _runtime: 4407.0000\n",
      "Epoch 26/60\n",
      "2500/2500 [==============================] - 172s 69ms/step - loss: 1.4042 - acc: 0.5891 - top_k_categorical_accuracy: 0.8744 - val_loss: 836.3231 - val_acc: 0.3866 - val_top_k_categorical_accuracy: 0.6977 - _timestamp: 1665027529.0000 - _runtime: 4579.0000\n",
      "Epoch 27/60\n",
      "2500/2500 [==============================] - 172s 69ms/step - loss: 1.2766 - acc: 0.6234 - top_k_categorical_accuracy: 0.8951 - val_loss: 4.1082 - val_acc: 0.3852 - val_top_k_categorical_accuracy: 0.6925 - _timestamp: 1665027701.0000 - _runtime: 4751.0000\n",
      "Epoch 28/60\n",
      "2500/2500 [==============================] - 173s 69ms/step - loss: 1.2954 - acc: 0.6224 - top_k_categorical_accuracy: 0.8904 - val_loss: 110.0181 - val_acc: 0.3970 - val_top_k_categorical_accuracy: 0.7055 - _timestamp: 1665027873.0000 - _runtime: 4923.0000\n",
      "Epoch 29/60\n",
      "2500/2500 [==============================] - 173s 69ms/step - loss: 1.1469 - acc: 0.6533 - top_k_categorical_accuracy: 0.9115 - val_loss: 12.8744 - val_acc: 0.3994 - val_top_k_categorical_accuracy: 0.7065 - _timestamp: 1665028046.0000 - _runtime: 5096.0000\n",
      "Epoch 30/60\n",
      "2500/2500 [==============================] - 172s 69ms/step - loss: 1.0616 - acc: 0.6818 - top_k_categorical_accuracy: 0.9234 - val_loss: 82.4087 - val_acc: 0.3876 - val_top_k_categorical_accuracy: 0.6887 - _timestamp: 1665028220.0000 - _runtime: 5270.0000\n",
      "Epoch 31/60\n",
      "2500/2500 [==============================] - 172s 69ms/step - loss: 0.8870 - acc: 0.7290 - top_k_categorical_accuracy: 0.9458 - val_loss: 26.9593 - val_acc: 0.3948 - val_top_k_categorical_accuracy: 0.7064 - _timestamp: 1665028392.0000 - _runtime: 5442.0000\n",
      "Epoch 32/60\n",
      "2500/2500 [==============================] - 172s 69ms/step - loss: 0.8033 - acc: 0.7530 - top_k_categorical_accuracy: 0.9549 - val_loss: 8.2045 - val_acc: 0.3974 - val_top_k_categorical_accuracy: 0.7018 - _timestamp: 1665028564.0000 - _runtime: 5614.0000\n",
      "Epoch 33/60\n",
      "2500/2500 [==============================] - 172s 69ms/step - loss: 0.8048 - acc: 0.7538 - top_k_categorical_accuracy: 0.9578 - val_loss: 27.0733 - val_acc: 0.3822 - val_top_k_categorical_accuracy: 0.6852 - _timestamp: 1665028736.0000 - _runtime: 5786.0000\n",
      "Epoch 34/60\n",
      "2500/2500 [==============================] - 172s 69ms/step - loss: 0.6600 - acc: 0.7926 - top_k_categorical_accuracy: 0.9703 - val_loss: 1202.5159 - val_acc: 0.3797 - val_top_k_categorical_accuracy: 0.6840 - _timestamp: 1665028908.0000 - _runtime: 5958.0000\n",
      "Epoch 35/60\n",
      "2500/2500 [==============================] - 172s 69ms/step - loss: 0.6208 - acc: 0.8070 - top_k_categorical_accuracy: 0.9746 - val_loss: 2510.1702 - val_acc: 0.3831 - val_top_k_categorical_accuracy: 0.6799 - _timestamp: 1665029079.0000 - _runtime: 6129.0000\n",
      "Epoch 36/60\n",
      "2500/2500 [==============================] - 172s 69ms/step - loss: 0.5770 - acc: 0.8197 - top_k_categorical_accuracy: 0.9786 - val_loss: 61.9251 - val_acc: 0.3844 - val_top_k_categorical_accuracy: 0.6916 - _timestamp: 1665029252.0000 - _runtime: 6302.0000\n",
      "Epoch 37/60\n",
      "2500/2500 [==============================] - 172s 69ms/step - loss: 0.5621 - acc: 0.8237 - top_k_categorical_accuracy: 0.9804 - val_loss: 5.2810 - val_acc: 0.3876 - val_top_k_categorical_accuracy: 0.6834 - _timestamp: 1665029424.0000 - _runtime: 6474.0000\n",
      "Epoch 38/60\n",
      "2500/2500 [==============================] - 174s 69ms/step - loss: 0.4922 - acc: 0.8449 - top_k_categorical_accuracy: 0.9843 - val_loss: 9.4120 - val_acc: 0.4011 - val_top_k_categorical_accuracy: 0.7048 - _timestamp: 1665029596.0000 - _runtime: 6646.0000\n",
      "Epoch 39/60\n",
      "2500/2500 [==============================] - 172s 69ms/step - loss: 0.4500 - acc: 0.8566 - top_k_categorical_accuracy: 0.9876 - val_loss: 17.0349 - val_acc: 0.3911 - val_top_k_categorical_accuracy: 0.6889 - _timestamp: 1665029770.0000 - _runtime: 6820.0000\n",
      "Epoch 40/60\n",
      "2500/2500 [==============================] - 172s 69ms/step - loss: 0.4644 - acc: 0.8565 - top_k_categorical_accuracy: 0.9869 - val_loss: 10.9390 - val_acc: 0.3874 - val_top_k_categorical_accuracy: 0.6845 - _timestamp: 1665029942.0000 - _runtime: 6992.0000\n",
      "Epoch 41/60\n",
      "2500/2500 [==============================] - 172s 69ms/step - loss: 0.4344 - acc: 0.8633 - top_k_categorical_accuracy: 0.9893 - val_loss: 32.5639 - val_acc: 0.3859 - val_top_k_categorical_accuracy: 0.6856 - _timestamp: 1665030114.0000 - _runtime: 7164.0000\n",
      "Epoch 42/60\n",
      "2500/2500 [==============================] - 173s 69ms/step - loss: 0.4133 - acc: 0.8698 - top_k_categorical_accuracy: 0.9898 - val_loss: 1577.5026 - val_acc: 0.3913 - val_top_k_categorical_accuracy: 0.6875 - _timestamp: 1665030287.0000 - _runtime: 7337.0000\n",
      "Epoch 43/60\n",
      "2500/2500 [==============================] - 173s 69ms/step - loss: 0.4115 - acc: 0.8740 - top_k_categorical_accuracy: 0.9883 - val_loss: 305.8036 - val_acc: 0.3820 - val_top_k_categorical_accuracy: 0.6797 - _timestamp: 1665030460.0000 - _runtime: 7510.0000\n",
      "Epoch 44/60\n",
      "2500/2500 [==============================] - 186s 75ms/step - loss: 0.3682 - acc: 0.8847 - top_k_categorical_accuracy: 0.9922 - val_loss: 60.8922 - val_acc: 0.3948 - val_top_k_categorical_accuracy: 0.6864 - _timestamp: 1665030646.0000 - _runtime: 7696.0000\n",
      "Epoch 45/60\n",
      "2500/2500 [==============================] - 200s 80ms/step - loss: 0.3057 - acc: 0.9030 - top_k_categorical_accuracy: 0.9949 - val_loss: 14.6340 - val_acc: 0.3965 - val_top_k_categorical_accuracy: 0.6868 - _timestamp: 1665030846.0000 - _runtime: 7896.0000\n",
      "Epoch 46/60\n",
      "2500/2500 [==============================] - 173s 69ms/step - loss: 0.3264 - acc: 0.8968 - top_k_categorical_accuracy: 0.9945 - val_loss: 87.1656 - val_acc: 0.3950 - val_top_k_categorical_accuracy: 0.6887 - _timestamp: 1665031018.0000 - _runtime: 8068.0000\n",
      "Epoch 47/60\n",
      "2500/2500 [==============================] - 173s 69ms/step - loss: 0.3176 - acc: 0.9013 - top_k_categorical_accuracy: 0.9940 - val_loss: 38.2536 - val_acc: 0.3771 - val_top_k_categorical_accuracy: 0.6743 - _timestamp: 1665031191.0000 - _runtime: 8241.0000\n",
      "Epoch 48/60\n",
      "2500/2500 [==============================] - 174s 69ms/step - loss: 0.3014 - acc: 0.9047 - top_k_categorical_accuracy: 0.9950 - val_loss: 39.8074 - val_acc: 0.3891 - val_top_k_categorical_accuracy: 0.6865 - _timestamp: 1665031364.0000 - _runtime: 8414.0000\n",
      "Epoch 49/60\n",
      "2500/2500 [==============================] - 203s 81ms/step - loss: 0.3145 - acc: 0.9054 - top_k_categorical_accuracy: 0.9948 - val_loss: 1133.3571 - val_acc: 0.3924 - val_top_k_categorical_accuracy: 0.6886 - _timestamp: 1665031567.0000 - _runtime: 8617.0000\n",
      "Epoch 50/60\n",
      "2500/2500 [==============================] - 180s 72ms/step - loss: 0.2697 - acc: 0.9170 - top_k_categorical_accuracy: 0.9959 - val_loss: 22.4244 - val_acc: 0.3911 - val_top_k_categorical_accuracy: 0.6836 - _timestamp: 1665031747.0000 - _runtime: 8797.0000\n",
      "Epoch 51/60\n",
      "2500/2500 [==============================] - 172s 69ms/step - loss: 0.2846 - acc: 0.9133 - top_k_categorical_accuracy: 0.9954 - val_loss: 2018.4962 - val_acc: 0.3854 - val_top_k_categorical_accuracy: 0.6827 - _timestamp: 1665031919.0000 - _runtime: 8969.0000\n",
      "Epoch 52/60\n",
      "2500/2500 [==============================] - 172s 69ms/step - loss: 0.2794 - acc: 0.9149 - top_k_categorical_accuracy: 0.9955 - val_loss: 8151.7280 - val_acc: 0.3986 - val_top_k_categorical_accuracy: 0.6884 - _timestamp: 1665032091.0000 - _runtime: 9141.0000\n",
      "Epoch 53/60\n",
      "2500/2500 [==============================] - 172s 69ms/step - loss: 0.2588 - acc: 0.9190 - top_k_categorical_accuracy: 0.9959 - val_loss: 8192.6387 - val_acc: 0.3942 - val_top_k_categorical_accuracy: 0.6780 - _timestamp: 1665032263.0000 - _runtime: 9313.0000\n",
      "Epoch 54/60\n",
      "2500/2500 [==============================] - 185s 74ms/step - loss: 0.2668 - acc: 0.9201 - top_k_categorical_accuracy: 0.9959 - val_loss: 292.8522 - val_acc: 0.3767 - val_top_k_categorical_accuracy: 0.6777 - _timestamp: 1665032448.0000 - _runtime: 9498.0000\n",
      "Epoch 55/60\n",
      "2500/2500 [==============================] - 202s 81ms/step - loss: 0.2649 - acc: 0.9212 - top_k_categorical_accuracy: 0.9961 - val_loss: 18750.0605 - val_acc: 0.3993 - val_top_k_categorical_accuracy: 0.6898 - _timestamp: 1665032650.0000 - _runtime: 9700.0000\n",
      "Epoch 56/60\n",
      "2500/2500 [==============================] - 178s 71ms/step - loss: 0.2409 - acc: 0.9265 - top_k_categorical_accuracy: 0.9977 - val_loss: 74.8928 - val_acc: 0.3921 - val_top_k_categorical_accuracy: 0.6767 - _timestamp: 1665032827.0000 - _runtime: 9877.0000\n",
      "Epoch 57/60\n",
      "2500/2500 [==============================] - 204s 82ms/step - loss: 0.2388 - acc: 0.9281 - top_k_categorical_accuracy: 0.9967 - val_loss: 30.4322 - val_acc: 0.3846 - val_top_k_categorical_accuracy: 0.6732 - _timestamp: 1665033031.0000 - _runtime: 10081.0000\n",
      "Epoch 58/60\n",
      "2500/2500 [==============================] - 178s 71ms/step - loss: 0.2373 - acc: 0.9295 - top_k_categorical_accuracy: 0.9970 - val_loss: 27.6105 - val_acc: 0.3892 - val_top_k_categorical_accuracy: 0.6840 - _timestamp: 1665033209.0000 - _runtime: 10259.0000\n",
      "Epoch 59/60\n",
      "2500/2500 [==============================] - 172s 69ms/step - loss: 0.2446 - acc: 0.9276 - top_k_categorical_accuracy: 0.9970 - val_loss: 200.4645 - val_acc: 0.3872 - val_top_k_categorical_accuracy: 0.6810 - _timestamp: 1665033381.0000 - _runtime: 10431.0000\n",
      "Epoch 60/60\n",
      "2500/2500 [==============================] - 201s 80ms/step - loss: 0.2504 - acc: 0.9258 - top_k_categorical_accuracy: 0.9957 - val_loss: 16205.4912 - val_acc: 0.3946 - val_top_k_categorical_accuracy: 0.6853 - _timestamp: 1665033582.0000 - _runtime: 10632.0000\n"
     ]
    }
   ],
   "source": [
    "# Dual 2\n",
    "D2_vgg_16.compile(loss=categorical_crossentropy, \n",
    "              optimizer=Adam(learning_rate=0.001), \n",
    "              metrics=['acc','top_k_categorical_accuracy'])\n",
    "\n",
    "\n",
    "\n",
    "history_2 = D2_vgg_16.fit(X_train,  # 학습할 데이터\n",
    "                    y_train,  # 학습할 레이블\n",
    "                    epochs=EPOCHS,  # 전체 학습할 횟수\n",
    "                    batch_size=BATCH_SIZE,  # 배치 사이즈\n",
    "                    use_multiprocessing=True,\n",
    "                    validation_data=(X_valid, y_valid), # 검증 데이터로 확인\n",
    "                    callbacks=[wandbcallback_D]\n",
    "                   )"
   ]
  },
  {
   "cell_type": "code",
   "execution_count": 47,
   "id": "fef9dd2f-d1d8-4efb-9c25-7b32d6c62d75",
   "metadata": {},
   "outputs": [
    {
     "data": {
      "text/html": [
       "Waiting for W&B process to finish... <strong style=\"color:green\">(success).</strong>"
      ],
      "text/plain": [
       "<IPython.core.display.HTML object>"
      ]
     },
     "metadata": {},
     "output_type": "display_data"
    },
    {
     "data": {
      "application/vnd.jupyter.widget-view+json": {
       "model_id": "",
       "version_major": 2,
       "version_minor": 0
      },
      "text/plain": [
       "VBox(children=(Label(value='0.000 MB of 0.000 MB uploaded (0.000 MB deduped)\\r'), FloatProgress(value=1.0, max…"
      ]
     },
     "metadata": {},
     "output_type": "display_data"
    },
    {
     "data": {
      "text/html": [
       "<style>\n",
       "    table.wandb td:nth-child(1) { padding: 0 10px; text-align: left ; width: auto;} td:nth-child(2) {text-align: left ; width: 100%}\n",
       "    .wandb-row { display: flex; flex-direction: row; flex-wrap: wrap; justify-content: flex-start; width: 100% }\n",
       "    .wandb-col { display: flex; flex-direction: column; flex-basis: 100%; flex: 1; padding: 10px; }\n",
       "    </style>\n",
       "<div class=\"wandb-row\"><div class=\"wandb-col\"><h3>Run history:</h3><br/><table class=\"wandb\"><tr><td>acc</td><td>▁▁▂▂▂▂▂▃▃▃▄▄▄▄▅▅▅▅▆▆▆▇▇▇▇▇▇▇████████████</td></tr><tr><td>epoch</td><td>▁▁▁▁▂▂▂▂▂▃▃▃▃▃▃▄▄▄▄▄▅▅▅▅▅▅▆▆▆▆▆▆▇▇▇▇▇███</td></tr><tr><td>loss</td><td>█▇▇▇▆▆▆▆▅▅▅▅▄▄▄▄▃▃▃▃▂▂▂▂▂▁▁▁▁▁▁▁▁▁▁▁▁▁▁▁</td></tr><tr><td>top_k_categorical_accuracy</td><td>▁▂▃▃▄▄▄▄▅▅▅▅▆▆▆▆▇▇▇▇████████████████████</td></tr><tr><td>val_acc</td><td>▁▂▃▃▄▅▅▅▆▆▇▇▇█▇█████████████████████████</td></tr><tr><td>val_loss</td><td>▁▁▁▁▁▁▁▁▁▁▁▁▁▁▁▁▁▁▁▁▁▁▁▂▁▁▁▁▁▁▁▁▁▁▄▄█▁▁▇</td></tr><tr><td>val_top_k_categorical_accuracy</td><td>▁▂▄▄▅▅▅▆▇▇▇█▇███████████████████████████</td></tr></table><br/></div><div class=\"wandb-col\"><h3>Run summary:</h3><br/><table class=\"wandb\"><tr><td>acc</td><td>0.92577</td></tr><tr><td>best_epoch</td><td>37</td></tr><tr><td>best_val_acc</td><td>0.4011</td></tr><tr><td>epoch</td><td>59</td></tr><tr><td>loss</td><td>0.25039</td></tr><tr><td>top_k_categorical_accuracy</td><td>0.99568</td></tr><tr><td>val_acc</td><td>0.3946</td></tr><tr><td>val_loss</td><td>16205.49121</td></tr><tr><td>val_top_k_categorical_accuracy</td><td>0.6853</td></tr></table><br/></div></div>"
      ],
      "text/plain": [
       "<IPython.core.display.HTML object>"
      ]
     },
     "metadata": {},
     "output_type": "display_data"
    },
    {
     "data": {
      "text/html": [
       "Synced <strong style=\"color:#cdcd00\">DualPooing2</strong>: <a href=\"https://wandb.ai/diplab/DualPooing/runs/1cfx0hby\" target=\"_blank\">https://wandb.ai/diplab/DualPooing/runs/1cfx0hby</a><br/>Synced 5 W&B file(s), 0 media file(s), 0 artifact file(s) and 0 other file(s)"
      ],
      "text/plain": [
       "<IPython.core.display.HTML object>"
      ]
     },
     "metadata": {},
     "output_type": "display_data"
    },
    {
     "data": {
      "text/html": [
       "Find logs at: <code>./wandb/run-20221006_112216-1cfx0hby/logs</code>"
      ],
      "text/plain": [
       "<IPython.core.display.HTML object>"
      ]
     },
     "metadata": {},
     "output_type": "display_data"
    }
   ],
   "source": [
    "wandb.finish()"
   ]
  },
  {
   "cell_type": "markdown",
   "id": "63646e24-7d64-4bb7-8c96-1ebac6ab5d9b",
   "metadata": {},
   "source": [
    "# 평가"
   ]
  },
  {
   "cell_type": "code",
   "execution_count": 44,
   "id": "a4e661bb-f0fe-4b41-822b-21fce8e00d4c",
   "metadata": {},
   "outputs": [
    {
     "name": "stdout",
     "output_type": "stream",
     "text": [
      "625/625 [==============================] - 2s 4ms/step - loss: 5.4289 - acc: 0.4285 - top_k_categorical_accuracy: 0.7055\n"
     ]
    },
    {
     "data": {
      "text/plain": [
       "[5.42888069152832, 0.4284999966621399, 0.7055000066757202]"
      ]
     },
     "execution_count": 44,
     "metadata": {},
     "output_type": "execute_result"
    }
   ],
   "source": [
    "vgg_16.evaluate(X_test, y_test, batch_size = 16)"
   ]
  },
  {
   "cell_type": "code",
   "execution_count": 45,
   "id": "e01cc07f-2cb7-4a77-80f9-20ce01e2d744",
   "metadata": {},
   "outputs": [
    {
     "name": "stdout",
     "output_type": "stream",
     "text": [
      "625/625 [==============================] - 12s 18ms/step - loss: 7.7066 - acc: 0.3414 - top_k_categorical_accuracy: 0.6294\n"
     ]
    },
    {
     "data": {
      "text/plain": [
       "[7.706627368927002, 0.34139999747276306, 0.6294000148773193]"
      ]
     },
     "execution_count": 45,
     "metadata": {},
     "output_type": "execute_result"
    }
   ],
   "source": [
    "D_vgg_16.evaluate(X_test, y_test, batch_size = 16)"
   ]
  },
  {
   "cell_type": "code",
   "execution_count": 46,
   "id": "37833bed-6074-4bdf-994f-fe7ab0564da5",
   "metadata": {},
   "outputs": [
    {
     "name": "stdout",
     "output_type": "stream",
     "text": [
      "625/625 [==============================] - 11s 18ms/step - loss: 399.3070 - acc: 0.4048 - top_k_categorical_accuracy: 0.6913\n"
     ]
    },
    {
     "data": {
      "text/plain": [
       "[399.3070373535156, 0.4047999978065491, 0.6912999749183655]"
      ]
     },
     "execution_count": 46,
     "metadata": {},
     "output_type": "execute_result"
    }
   ],
   "source": [
    "D2_vgg_16.evaluate(X_test, y_test, batch_size = 16)"
   ]
  },
  {
   "cell_type": "markdown",
   "id": "ad6d5d2d-fc89-42ff-84eb-ae48ac6b0777",
   "metadata": {
    "tags": []
   },
   "source": [
    "# 메모"
   ]
  },
  {
   "cell_type": "markdown",
   "id": "8fe17507-163f-4d09-919c-17c4c85ce4a6",
   "metadata": {},
   "source": [
    "* Inductive bias를 비교하기위해 Test data를 써보면 어떨까"
   ]
  },
  {
   "cell_type": "markdown",
   "id": "a952e5c0-87c9-4d5d-b8f2-009cec57a19d",
   "metadata": {
    "tags": []
   },
   "source": [
    "# 창고"
   ]
  },
  {
   "cell_type": "code",
   "execution_count": null,
   "id": "1ca8ee5e-86c2-42ad-b089-bd3cd9a915ce",
   "metadata": {},
   "outputs": [],
   "source": []
  }
 ],
 "metadata": {
  "kernelspec": {
   "display_name": "tf1",
   "language": "python",
   "name": "tf1"
  },
  "language_info": {
   "codemirror_mode": {
    "name": "ipython",
    "version": 3
   },
   "file_extension": ".py",
   "mimetype": "text/x-python",
   "name": "python",
   "nbconvert_exporter": "python",
   "pygments_lexer": "ipython3",
   "version": "3.8.13"
  }
 },
 "nbformat": 4,
 "nbformat_minor": 5
}
